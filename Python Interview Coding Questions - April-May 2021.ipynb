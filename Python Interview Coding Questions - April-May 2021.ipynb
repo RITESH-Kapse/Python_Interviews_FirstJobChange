{
 "cells": [
  {
   "cell_type": "markdown",
   "metadata": {},
   "source": [
    "### Python Interview Coding Questions - April-May 2021"
   ]
  },
  {
   "cell_type": "markdown",
   "metadata": {},
   "source": [
    "###### Below two Codes were asked as Raja Software Labs Coding Round"
   ]
  },
  {
   "cell_type": "markdown",
   "metadata": {},
   "source": [
    "#### Q. Reverse words in a given String in Python without using default methods."
   ]
  },
  {
   "cell_type": "code",
   "execution_count": 11,
   "metadata": {},
   "outputs": [
    {
     "name": "stdout",
     "output_type": "stream",
     "text": [
      "code practice quiz geeks "
     ]
    }
   ],
   "source": [
    "# Dont use this code as it is -- > https://www.geeksforgeeks.org/reverse-words-given-string-python/\n",
    "#https://www.geeksforgeeks.org/reverse-words-in-a-given-string/\n",
    "\n",
    "# Q. Reverse words in a given String in Python without using default methods.\n",
    "\n",
    "# Input : str = geeks quiz practice code\n",
    "# Output : str = code practice quiz geeks\n",
    "      \n",
    "# Function to reverse the words\n",
    "# of a given strring\n",
    "def printRev(strr):\n",
    "     \n",
    "    # Stack to store each\n",
    "    # word of the strring\n",
    "    strr = strr.split(\" \")\n",
    "    st = []\n",
    " \n",
    "    # Store the whole strring\n",
    "    # in strream\n",
    "    for i in strr:\n",
    " \n",
    "        # Push each word of the\n",
    "        # into the stack\n",
    "        st.append(i)\n",
    " \n",
    "    # Print the in reverse\n",
    "    # order of the words\n",
    "    while len(st) > 0:\n",
    "        print(st[-1], end = \" \")\n",
    "        del st[-1]\n",
    " \n",
    "# Driver Code\n",
    "if __name__ == '__main__':\n",
    "     \n",
    "    strr = \"geeks quiz practice code\"\n",
    "     \n",
    "    printRev(strr)"
   ]
  },
  {
   "cell_type": "code",
   "execution_count": 12,
   "metadata": {},
   "outputs": [
    {
     "name": "stdout",
     "output_type": "stream",
     "text": [
      "code practice quiz geeks\n"
     ]
    }
   ],
   "source": [
    "#String Reverse using default methods of .split() and .reverse()\n",
    "def printRev(string):\n",
    "    # split by space and converting\n",
    "    # string to list\n",
    "    lis = list(string.split())\n",
    "    # reverse the list\n",
    "    lis.reverse()\n",
    "    # printing the list\n",
    "    print(*lis)\n",
    "\n",
    " \n",
    "# Driver Code\n",
    "if __name__ == '__main__':\n",
    " \n",
    "    strr = \"geeks quiz practice code\"\n",
    " \n",
    "    printRev(strr)"
   ]
  },
  {
   "cell_type": "markdown",
   "metadata": {},
   "source": [
    "####  Q. Given an array consist of 0's and 1's, re-arrange them in such a way that 0's should come before 1's."
   ]
  },
  {
   "cell_type": "code",
   "execution_count": 2,
   "metadata": {},
   "outputs": [
    {
     "name": "stdout",
     "output_type": "stream",
     "text": [
      "Array after segregation\n",
      "[0, 0, 1, 1, 1, 1]\n"
     ]
    }
   ],
   "source": [
    "#### Input array   =  [0, 1, 0, 1, 0, 0, 1, 1, 1, 0] \n",
    "#### Output array =  [0, 0, 0, 0, 0, 1, 1, 1, 1, 1] \n",
    "\n",
    "def ArraySegregate(arr,size):\n",
    "    \n",
    "    left = 0\n",
    "    right = size-1\n",
    "    \n",
    "    while left < right :\n",
    "        # Increment left index while we see 0 at left\n",
    "        while arr[left] == 0 and left < right:\n",
    "            left += 1\n",
    "            \n",
    "        # Decrement right index while we see 1 at right\n",
    "        while arr[right] == 1 and left< right:\n",
    "            right -= 1\n",
    "            \n",
    "        # If left is smaller than right then there is a 1 at left\n",
    "        # and a 0 at right. Exchange arr[left] and arr[right]\n",
    "        \n",
    "        if left < right:\n",
    "            arr[left] = 0\n",
    "            arr[right] = 1\n",
    "             \n",
    "            left += 1\n",
    "            right -= 1\n",
    "    return arr\n",
    "\n",
    "arr = [0, 1, 0, 1, 1, 1]\n",
    "size = len(arr)\n",
    "\n",
    "print(\"Array after segregation\")\n",
    "print(ArraySegregate(arr, size))\n",
    "\n",
    "\n",
    "# https://www.geeksforgeeks.org/segregate-0s-and-1s-in-an-array-by-traversing-array-once/"
   ]
  },
  {
   "cell_type": "markdown",
   "metadata": {},
   "source": [
    "#### Q. Fabonaci series in python code ?"
   ]
  },
  {
   "cell_type": "code",
   "execution_count": null,
   "metadata": {},
   "outputs": [],
   "source": [
    "nterms = int(input(\"How many terms? \"))\n",
    "\n",
    "# first two terms\n",
    "n1, n2 = 0, 1\n",
    "count = 0\n",
    "\n",
    "# check if the number of terms is valid\n",
    "if nterms <= 0:\n",
    "   print(\"Please enter a positive integer\")\n",
    "elif nterms == 1:\n",
    "   print(\"Fibonacci sequence upto\",nterms,\":\")\n",
    "   print(n1)\n",
    "else:\n",
    "   print(\"Fibonacci sequence:\")\n",
    "   while count < nterms:\n",
    "       print(n1)\n",
    "       nth = n1 + n2\n",
    "       # update values\n",
    "       n1 = n2\n",
    "       n2 = nth\n",
    "       count += 1"
   ]
  },
  {
   "cell_type": "markdown",
   "metadata": {},
   "source": [
    "#### Q. Write a decorator code to print arguments which are passed to different functions in code."
   ]
  },
  {
   "cell_type": "code",
   "execution_count": null,
   "metadata": {},
   "outputs": [],
   "source": [
    "@logger    ---> with 2,3\n",
    "def sum(a,b):\n",
    "    return a+b\n",
    "\n",
    "@logger --> with 2,3,4,5\n",
    "def mul(a*b*c*d):\n",
    "    return a*b*c*d"
   ]
  },
  {
   "cell_type": "code",
   "execution_count": 15,
   "metadata": {},
   "outputs": [
    {
     "name": "stdout",
     "output_type": "stream",
     "text": [
      "executing hello_world\n",
      "Hello World\n"
     ]
    }
   ],
   "source": [
    "#Decorator are just function that take function as first parameter and return a function\n",
    "\n",
    "def logging(f):\n",
    "  def decorator_function(*args, **kwargs):\n",
    "    print('executing '+f.__name__)\n",
    "    return f(*args, **kwargs)\n",
    "  return decorator_function\n",
    "#Use it like this\n",
    "\n",
    "@logging\n",
    "def hello_world():\n",
    "  print('Hello World')\n",
    "\n",
    "hello_world()"
   ]
  },
  {
   "cell_type": "markdown",
   "metadata": {},
   "source": [
    "#### Below are the two codes from Interview at \"TO THE NEW\" organization."
   ]
  },
  {
   "cell_type": "markdown",
   "metadata": {},
   "source": [
    "#### Q. Find maximum occurance of a in the string."
   ]
  },
  {
   "cell_type": "code",
   "execution_count": 13,
   "metadata": {},
   "outputs": [
    {
     "name": "stdout",
     "output_type": "stream",
     "text": [
      "a=8 b=4 "
     ]
    }
   ],
   "source": [
    "# Code :\n",
    "# s = \"aaabbaabaaba\"\n",
    "# find max occurance in input\n",
    "\n",
    "#Use frequency array to solve\n",
    "\n",
    "s = \"aaabbaabaaba\"\n",
    "freq = [0]*26\n",
    "\n",
    "for i in range(0,len(s)):\n",
    "    freq[ord(s[i])-97]+=1\n",
    "\n",
    "\n",
    "for i in range(0,26):\n",
    "    if freq[i]>1:\n",
    "        print(\"{}={}\".format(chr(i+97),freq[i]),end = ' ')"
   ]
  },
  {
   "cell_type": "markdown",
   "metadata": {},
   "source": [
    "#### Q. find if it has max opening and closing braces in the string. Check for balanced parentheses in Python"
   ]
  },
  {
   "cell_type": "code",
   "execution_count": 19,
   "metadata": {},
   "outputs": [
    {
     "name": "stdout",
     "output_type": "stream",
     "text": [
      "balanced\n"
     ]
    }
   ],
   "source": [
    "# Code :\n",
    "#refer --> https://www.geeksforgeeks.org/check-for-balanced-parentheses-in-python/\n",
    "s = \"()()()((()))()\"\n",
    "\n",
    "open_list = [\"(\"]\n",
    "close_list = [\")\"]\n",
    "\n",
    "list1 = []\n",
    "\n",
    "for i in s:\n",
    "    if i in open_list:\n",
    "        list1.append(i)\n",
    "    elif i in close_list:\n",
    "        pos = close_list.index(i)\n",
    "        \n",
    "        if (len(list1)>0) and (open_list[pos] == list1[len(list1)-1]):\n",
    "            list1.pop()\n",
    "            \n",
    "        else:\n",
    "            print(\"unbalanced\")\n",
    "            \n",
    "\n",
    "if len(list1) == 0:\n",
    "    print(\"balanced\")\n",
    "else:\n",
    "    print(\"unbalanced\")\n"
   ]
  },
  {
   "cell_type": "markdown",
   "metadata": {},
   "source": [
    "#### Q. Sort list without sort functions :"
   ]
  },
  {
   "cell_type": "code",
   "execution_count": null,
   "metadata": {},
   "outputs": [],
   "source": [
    "unsorted_list = [3, 1, 0, 9, 4]\n",
    "sorted_list = []\n",
    "\n",
    "while unsorted_list:\n",
    "    minimum = unsorted_list[0]\n",
    "    for item in unsorted_list:\n",
    "        if item < minimum:\n",
    "            minimum = item\n",
    "    sorted_list.append(minimum)\n",
    "    unsorted_list.remove(minimum)\n",
    "\n",
    "print(sorted_list)\n",
    "\n",
    "---->OR<----\n",
    "        \n",
    "my_list = [-15, -26, 15, 1, 23, -64, 23, 76]\n",
    "new_list = []\n",
    "\n",
    "while my_list:\n",
    "    min = my_list[0]  \n",
    "    for x in my_list: \n",
    "        if x < min:\n",
    "            min = x\n",
    "    new_list.append(min)\n",
    "    my_list.remove(min)    \n",
    "\n",
    "print(new_list)"
   ]
  },
  {
   "cell_type": "markdown",
   "metadata": {},
   "source": [
    "#### Q. Write a code to sort the dictionary in python"
   ]
  },
  {
   "cell_type": "code",
   "execution_count": null,
   "metadata": {},
   "outputs": [],
   "source": [
    "employees = [\n",
    "    {'Name': 'Alan Turing', 'age': 25, 'salary': 10000},\n",
    "    {'Name': 'Sharon Lin', 'age': 30, 'salary': 8000},\n",
    "    {'Name': 'John Hopkins', 'age': 18, 'salary': 1000},\n",
    "    {'Name': 'Mikhail Tal', 'age': 40, 'salary': 15000},\n",
    "]\n",
    "\n",
    "# custom functions to get employee info\n",
    "def get_name(employee):\n",
    "    return employee.get('Name')\n",
    "\n",
    "\n",
    "def get_age(employee):\n",
    "    return employee.get('age')\n",
    "\n",
    "\n",
    "def get_salary(employee):\n",
    "    return employee.get('salary')\n",
    "\n",
    "\n",
    "# # sort by name (Ascending order)\n",
    "# employees.sort(key=get_name)\n",
    "# print(employees, end='\\n\\n')\n",
    "\n",
    "# # sort by Age (Ascending order)\n",
    "# employees.sort(key=get_age)\n",
    "# print(employees, end='\\n\\n')\n",
    "\n",
    "# sort by salary (Descending order)\n",
    "employees.sort(key=get_salary, reverse=True)\n",
    "print(employees, end='\\n\\n')"
   ]
  },
  {
   "cell_type": "markdown",
   "metadata": {},
   "source": [
    "#### Below are the two codes from FIS Global Organization."
   ]
  },
  {
   "cell_type": "markdown",
   "metadata": {},
   "source": [
    "#### Q. Write a code to find the palindrome in middle of string"
   ]
  },
  {
   "cell_type": "code",
   "execution_count": null,
   "metadata": {},
   "outputs": [],
   "source": [
    "# Longest Palindromic Substring\n",
    "# Input: s = \"yuyoppouii\"\n",
    "# Output: \"oppo\"\n",
    "s = \"yuyoppouii\"\n",
    "\n",
    "newlist = s[::-1]\n",
    "\n",
    "# print(len())\n",
    "# print(newlist)\n",
    "\n",
    "list = []\n",
    "\n",
    "for i in range(0,len(s)):\n",
    "    for j in range(0,len(newlist)):\n",
    "        if s.index(s[i]) == newlist.index(newlist[j]) and s[i] == newlist[j]:\n",
    "            list.append(s[i])\n",
    "\n",
    "print(list)"
   ]
  },
  {
   "cell_type": "markdown",
   "metadata": {},
   "source": [
    "#### Q. Correct the below inheritance code :"
   ]
  },
  {
   "cell_type": "code",
   "execution_count": null,
   "metadata": {},
   "outputs": [],
   "source": [
    "#Not yet solved.   \n",
    "class A:\n",
    "def methodA():\n",
    "    print(\"A\")  \n",
    "        \n",
    "class B(A):\n",
    "    def methodB():\n",
    "        print(\"B\")\n",
    "        \n",
    "objectB = B()\n",
    "a = objectB.methodA\n",
    "\n",
    "\n",
    "OR --->\n",
    "class ParentClass:\n",
    "    v1 = \"from parent class -v1\"\n",
    "    v2 =  \"from parent class -v2\"\n",
    "    \n",
    "class ChildClass(ParentClass):\n",
    "    pass\n",
    "\n",
    "\n",
    "print(ChildClass.v1)\n",
    "print(ChildClass.v2)"
   ]
  },
  {
   "cell_type": "markdown",
   "metadata": {},
   "source": [
    "#### Below is the code from interview at Parkar Digital"
   ]
  },
  {
   "cell_type": "markdown",
   "metadata": {},
   "source": [
    "#### Q. What is output of below code and why explain ? "
   ]
  },
  {
   "cell_type": "code",
   "execution_count": 18,
   "metadata": {},
   "outputs": [
    {
     "name": "stdout",
     "output_type": "stream",
     "text": [
      "[12, 12, 12, 12]\n"
     ]
    }
   ],
   "source": [
    "def multiplexers ():\n",
    "\n",
    "    return [lambda n: index * n for index in range (4)]\n",
    "\n",
    "print([m(4) for m in multiplexers()])"
   ]
  },
  {
   "cell_type": "markdown",
   "metadata": {},
   "source": [
    "#### Q. Find substring in string ?"
   ]
  },
  {
   "cell_type": "code",
   "execution_count": 5,
   "metadata": {},
   "outputs": [
    {
     "name": "stdout",
     "output_type": "stream",
     "text": [
      "['thing', 'thing']\n"
     ]
    }
   ],
   "source": [
    "import re\n",
    "# simple find all\n",
    "sample = \"Nothing lasts... but nothing is lost\"\n",
    "found = re.findall(\"thing\", sample)\n",
    "print(found)"
   ]
  },
  {
   "cell_type": "markdown",
   "metadata": {},
   "source": [
    "#### Q Explain right and left rotation as per input ?"
   ]
  },
  {
   "cell_type": "code",
   "execution_count": null,
   "metadata": {},
   "outputs": [],
   "source": [
    "def reverseRightAlgo(arr,i,j):\n",
    "    while(i<j):\n",
    "        temp = arr[i]\n",
    "        arr[i] = arr[j]\n",
    "        arr[j]= temp\n",
    "        i +=1\n",
    "        j -=1\n",
    "        \n",
    "def printArr(arr,n):\n",
    "    for i in range(n):\n",
    "        print(arr[i], end = '')\n",
    "    \n",
    "    print()\n",
    "\n",
    "def main():\n",
    "    \n",
    "    t = int(input())\n",
    "    while (t > 0):\n",
    "        n,k = map(int,input().split())\n",
    "        arr = list(map(int,input().split()))\n",
    "\n",
    "        reverseRightAlgo(arr,n-k,n-1)\n",
    "        reverseRightAlgo(arr,0,n-k-1)\n",
    "        reverseRightAlgo(arr,0,n-1)\n",
    "        printArr(arr,n)\n",
    "        t = t-1\n",
    "        \n",
    "if __name__ == '__main__':\n",
    "    main()"
   ]
  },
  {
   "cell_type": "code",
   "execution_count": null,
   "metadata": {},
   "outputs": [],
   "source": [
    "#Left Rotation Code\n",
    "def reverseLeftAlgo(arr,i,j):\n",
    "    while(i<j):\n",
    "        temp = arr[i]\n",
    "        arr[i] = arr[j]\n",
    "        arr[j]= temp\n",
    "        i +=1\n",
    "        j -=1\n",
    "        \n",
    "def printArr(arr,n):\n",
    "    for i in range(n):\n",
    "        print(arr[i], end = '')\n",
    "    \n",
    "    print()\n",
    "\n",
    "def main():\n",
    "    \n",
    "    t = int(input())\n",
    "    while (t > 0):\n",
    "        n,k = map(int,input().split())\n",
    "        arr = list(map(int,input().split()))\n",
    "\n",
    "        reverseLeftAlgo(arr,0,k-1)\n",
    "        reverseLeftAlgo(arr,k,n-1)\n",
    "        reverseLeftAlgo(arr,0,n-1)\n",
    "        \n",
    "        printArr(arr,n)\n",
    "        t = t-1\n",
    "        \n",
    "if __name__ == '__main__':\n",
    "    main()"
   ]
  },
  {
   "cell_type": "markdown",
   "metadata": {},
   "source": [
    "#### Below is the code from Amdocs coding exam"
   ]
  },
  {
   "cell_type": "code",
   "execution_count": null,
   "metadata": {},
   "outputs": [],
   "source": [
    "#Not yet solved.\n",
    "input = [\"hello\",\"world\",\"please\",\"code\",\"daily\",\"hello\",\"please\"]\n",
    "\n",
    "op --> \"hello\", 2\n",
    "        \"world\",1\n",
    "        \"please\",2"
   ]
  },
  {
   "cell_type": "markdown",
   "metadata": {},
   "source": [
    "#### Q. If input is given in the form of string, find the maximum occurance of the character in alphabetical order."
   ]
  },
  {
   "cell_type": "code",
   "execution_count": 2,
   "metadata": {},
   "outputs": [
    {
     "name": "stdout",
     "output_type": "stream",
     "text": [
      "3\n",
      "java\n",
      "a=2 \n",
      "ritesh\n",
      "-1\n",
      "ravindra\n",
      "a=2 r=2 \n"
     ]
    }
   ],
   "source": [
    "#\n",
    "#Ex : java --> output --> a=2\n",
    "#Ex : algorithm --> output = -1 since there are no repetations\n",
    "\n",
    "# Here we can use concept of frequency array(But it needs integers as index)\n",
    "#So lets convert strings using its Ascii values \n",
    "# a-97 , b -98, c-99 ...z -122 \n",
    "# A- 65, B-66 ...\n",
    "\n",
    "#So to get ascii value of character in python -- it has function called \"ord()\" --> ord(a) = 97\n",
    "\n",
    "# To start the count from 0 instead of 97, we can substract the value from 97(for small a). ex : freq[ord[str(i)]-97]\n",
    "\n",
    "#Now when we need to convert back the interger value to char we use : \"chr(97)-->a\"\n",
    "\n",
    "t = int(input())\n",
    "\n",
    "while(t>0):\n",
    "    str = input()\n",
    "    freq = [0]*26\n",
    "    \n",
    "    for i in range(len(str)):\n",
    "        freq[ord(str[i])-97]+=1\n",
    "      \n",
    "    flag = 0\n",
    "    \n",
    "    for i in range(0,26):\n",
    "        if freq[i] > 1:\n",
    "            print(\"{}={}\".format(chr(i+97),freq[i]),end = ' ')\n",
    "            flag = 1  \n",
    "    \n",
    "    if(flag==0):\n",
    "        print(\"-1\")\n",
    "    else:\n",
    "        print()\n",
    "    \n",
    "    t = t-1"
   ]
  },
  {
   "cell_type": "markdown",
   "metadata": {},
   "source": [
    "#### Print all the numbers in the range given as input which can be divided by sum of their digits."
   ]
  },
  {
   "cell_type": "code",
   "execution_count": 47,
   "metadata": {},
   "outputs": [
    {
     "name": "stdout",
     "output_type": "stream",
     "text": [
      "6 123\n",
      "1 10\n",
      "2 11\n",
      "6 15\n",
      "9 18\n",
      "[10, 18]\n"
     ]
    }
   ],
   "source": [
    "# Inputs --> i=10 , j = 20\n",
    "\n",
    "# Output --> 10/1+0 = 10\n",
    "#             12/1+2 = 4\n",
    "#             18/1+8 = 2\n",
    "#             20/2+0 = 10\n",
    "            \n",
    "#             so output --> 10,4,2,10\n",
    "            \n",
    "sum = 0    \n",
    "n = [123,10,11,15,18]\n",
    "list1=[]\n",
    "\n",
    "for i in range(0,len(n)):\n",
    "    temp = n[i]\n",
    "    a = n[i]\n",
    "    while a > 0:\n",
    "        b = a % 10\n",
    "        sum += b\n",
    "        a = a //10\n",
    "\n",
    "\n",
    "        \n",
    "    \n",
    "    if (temp % sum == 0):\n",
    "        list1.append(temp)\n",
    "    print(sum,temp)\n",
    "  \n",
    "    sum = 0\n",
    "\n",
    "print(list1)  "
   ]
  },
  {
   "cell_type": "markdown",
   "metadata": {},
   "source": [
    "#### Join two lists by deleting the common elements in order."
   ]
  },
  {
   "cell_type": "code",
   "execution_count": null,
   "metadata": {},
   "outputs": [],
   "source": [
    "#Not yet solved\n",
    "\n",
    "list1 = [-1,1,3,5,7,9]\n",
    "\n",
    "list2 = [-2,2,3,4,5,6]\n",
    "\n",
    "write a code to get below output -->\n",
    "\n",
    "o/p --> [-2,-1,1,2,3,4,5,6,7,9]"
   ]
  },
  {
   "cell_type": "markdown",
   "metadata": {},
   "source": [
    "#### Give examples of map,filter and reduce with codes"
   ]
  },
  {
   "cell_type": "code",
   "execution_count": 16,
   "metadata": {},
   "outputs": [
    {
     "name": "stdout",
     "output_type": "stream",
     "text": [
      "32\n"
     ]
    }
   ],
   "source": [
    "# python reduce function\n",
    "#https://www.geeksforgeeks.org/reduce-in-python/\n",
    "\n",
    "#max num in list\n",
    "\n",
    "from functools import reduce\n",
    "items = [1, 24, 17, 14, 9, 32, 2]\n",
    "all_max = reduce(lambda a,b: a if (a > b) else b, items)\n",
    " \n",
    "print (all_max) # 32"
   ]
  },
  {
   "cell_type": "code",
   "execution_count": 4,
   "metadata": {},
   "outputs": [
    {
     "data": {
      "text/plain": [
       "['other random stuff', '22', 'map', '']"
      ]
     },
     "execution_count": 4,
     "metadata": {},
     "output_type": "execute_result"
    }
   ],
   "source": [
    "#Example of map ,filter\n",
    "\n",
    "mylist = [5, 4, 6, \"other random stuff\", True, \"22\", \"map\", False, \"\"]\n",
    "\n",
    "def multiply_by_two(obj):\n",
    "    return obj*2\n",
    "\n",
    "def is_str(obj):\n",
    "    return type(obj) == str\n",
    "  \n",
    "list(map(multiply_by_two, mylist))\n",
    "# [10, 8, 12, \"other random stuffother random stuff\", 2, \"2222\", \"mapmap\", 0, \"\"]\n",
    "\n",
    "list(filter(is_str, mylist))\n",
    "# [\"other random stuff\", \"22\", \"map\", \"\"]\n",
    "\n",
    "# You could also use lambdas on both examples:\n",
    "list(map(lambda x: x*2, mylist))\n",
    "list(filter(lambda x: type(x) == str, mylist))"
   ]
  },
  {
   "cell_type": "code",
   "execution_count": 5,
   "metadata": {},
   "outputs": [
    {
     "name": "stdout",
     "output_type": "stream",
     "text": [
      "With an initial value: 26\n"
     ]
    }
   ],
   "source": [
    "#Example of reduce\n",
    "\n",
    "from functools import reduce\n",
    "\n",
    "list = [2, 4, 7, 3]\n",
    "\n",
    "# print(reduce(lambda x, y: x + y, list))\n",
    "print(\"With an initial value: \" + str(reduce(lambda x, y: x + y, list, 10)))"
   ]
  },
  {
   "cell_type": "markdown",
   "metadata": {},
   "source": [
    "#### Example of dictionary comp in python"
   ]
  },
  {
   "cell_type": "code",
   "execution_count": 20,
   "metadata": {},
   "outputs": [
    {
     "name": "stdout",
     "output_type": "stream",
     "text": [
      "{'a': 1, 'b': 4}\n"
     ]
    }
   ],
   "source": [
    "#https://www.programiz.com/python-programming/dictionary-comprehension\n",
    "\n",
    "simple_dict = {\n",
    "    'a': 1,\n",
    "    'b': 2\n",
    "}\n",
    "my_dict = {key: value**2 for key,value in simple_dict.items()}\n",
    "print(my_dict)"
   ]
  },
  {
   "cell_type": "code",
   "execution_count": 7,
   "metadata": {},
   "outputs": [
    {
     "name": "stdout",
     "output_type": "stream",
     "text": [
      "{1: 1, 2: 4, 3: 9, 4: 16, 5: 25, 6: 36, 7: 49, 8: 64, 9: 81, 10: 100}\n"
     ]
    }
   ],
   "source": [
    "#Create a dictionary with keys and its values as square of keys in range (1 to 11) i.e 1 to 10\n",
    "\n",
    "square_dict = {num: num*num for num in range(1, 11)}\n",
    "print(square_dict)\n",
    "\n",
    "''' Syntax --> dictionary = {key: value for vars in iterable} '''"
   ]
  },
  {
   "cell_type": "code",
   "execution_count": 8,
   "metadata": {},
   "outputs": [
    {
     "name": "stdout",
     "output_type": "stream",
     "text": [
      "{'jack': 38, 'michael': 48}\n"
     ]
    }
   ],
   "source": [
    "#If Conditional Dictionary Comprehension\n",
    "original_dict = {'jack': 38, 'michael': 48, 'guido': 57, 'john': 33}\n",
    "\n",
    "even_dict = {k: v for (k, v) in original_dict.items() if v % 2 == 0}\n",
    "print(even_dict)"
   ]
  },
  {
   "cell_type": "code",
   "execution_count": 9,
   "metadata": {},
   "outputs": [
    {
     "name": "stdout",
     "output_type": "stream",
     "text": [
      "{'john': 33}\n"
     ]
    }
   ],
   "source": [
    "#Multiple if conditions dict comprehensions\n",
    "original_dict = {'jack': 38, 'michael': 48, 'guido': 57, 'john': 33}\n",
    "\n",
    "new_dict = {k: v for (k, v) in original_dict.items() if v % 2 != 0 if v < 40}\n",
    "print(new_dict)\n"
   ]
  },
  {
   "cell_type": "markdown",
   "metadata": {},
   "source": [
    "#### Example of zip function"
   ]
  },
  {
   "cell_type": "code",
   "execution_count": 22,
   "metadata": {},
   "outputs": [
    {
     "data": {
      "text/plain": [
       "[(1, 'a'), (2, 'b'), (3, 'c')]"
      ]
     },
     "execution_count": 22,
     "metadata": {},
     "output_type": "execute_result"
    }
   ],
   "source": [
    "numbers = [1, 2, 3]\n",
    "letters = ['a', 'b', 'c']\n",
    "zipped = zip(numbers, letters)\n",
    "\n",
    "list(zipped)"
   ]
  },
  {
   "cell_type": "code",
   "execution_count": null,
   "metadata": {},
   "outputs": [],
   "source": [
    "Explain CNN in detail\n",
    "https://towardsdatascience.com/a-comprehensive-guide-to-convolutional-neural-networks-the-eli5-way-3bd2b1164a53\n",
    "https://www.analyticsvidhya.com/blog/2020/02/learn-image-classification-cnn-convolutional-neural-networks-3-datasets/"
   ]
  },
  {
   "cell_type": "markdown",
   "metadata": {},
   "source": [
    "### Explain OOPS with example for each concept in Python"
   ]
  },
  {
   "cell_type": "markdown",
   "metadata": {},
   "source": [
    "Encapsulation -- group related elements and functions together to reduce the complexity, increase reusability.\n",
    "\n",
    "Abstraction -- hide details and complexity and show only essentials. Reduces complexity and isolate impact of chnage on code.\n",
    "\n",
    "Inheritance -- eleminate redundant code \n",
    "\n",
    "Polymorphrism- many forms-- refactor ugly switch/case statement."
   ]
  },
  {
   "cell_type": "markdown",
   "metadata": {},
   "source": [
    "#### Inheritance"
   ]
  },
  {
   "cell_type": "markdown",
   "metadata": {},
   "source": [
    "Defin -- >Gaining the attribute and method from one class to another :\n",
    "\n",
    "Types-->\n",
    "\n",
    "1. single\n",
    "2. multi-level\n",
    "3. hierarchical\n",
    "4. multiple"
   ]
  },
  {
   "cell_type": "code",
   "execution_count": 23,
   "metadata": {},
   "outputs": [
    {
     "name": "stdout",
     "output_type": "stream",
     "text": [
      "from parent class -v1\n",
      "from parent class -v2\n"
     ]
    }
   ],
   "source": [
    "class ParentClass:\n",
    "    v1 = \"from parent class -v1\"\n",
    "    v2 =  \"from parent class -v2\"\n",
    "    \n",
    "class ChildClass(ParentClass):\n",
    "    pass\n",
    "\n",
    "\n",
    "print(ChildClass.v1)\n",
    "print(ChildClass.v2)"
   ]
  },
  {
   "cell_type": "markdown",
   "metadata": {},
   "source": [
    "#### Polymorphrism"
   ]
  },
  {
   "cell_type": "code",
   "execution_count": null,
   "metadata": {},
   "outputs": [],
   "source": [
    "# \"Polymorphrism\" Example 1\n",
    "class Animal():\n",
    "    \n",
    "    def fly(self):\n",
    "        print(\"yes\")\n",
    "    \n",
    "    def swim(self):\n",
    "        print(\"No\")\n",
    "        \n",
    "\n",
    "class Bird():\n",
    "    \n",
    "    def fly(self):\n",
    "        print(\"yes twice\")\n",
    "    \n",
    "    def swim(self):\n",
    "        print(\"No twice\")\n",
    "    \n",
    "    \n",
    "obj1 = Animal()\n",
    "obj2 = Bird()\n",
    "\n",
    "for result in (obj1,obj2):\n",
    "    result.fly()\n",
    "    result.swim()"
   ]
  },
  {
   "cell_type": "code",
   "execution_count": null,
   "metadata": {},
   "outputs": [],
   "source": [
    "# \"Polymorphrism\" Example 2\n",
    "class India(): \n",
    "    def capital(self): \n",
    "        print(\"New Delhi is the capital of India.\") \n",
    "  \n",
    "    def language(self): \n",
    "        print(\"Hindi is the most widely spoken language of India.\") \n",
    "  \n",
    "    def type(self): \n",
    "        print(\"India is a developing country.\") \n",
    "  \n",
    "class USA(): \n",
    "    def capital(self): \n",
    "        print(\"Washington, D.C. is the capital of USA.\") \n",
    "  \n",
    "    def language(self): \n",
    "        print(\"English is the primary language of USA.\") \n",
    "  \n",
    "    def type(self): \n",
    "        print(\"USA is a developed country.\") \n",
    "  \n",
    "obj_ind = India() \n",
    "obj_usa = USA() \n",
    "\n",
    "for country in (obj_ind, obj_usa): \n",
    "    country.capital() \n",
    "    country.language() \n",
    "    country.type() "
   ]
  },
  {
   "cell_type": "markdown",
   "metadata": {},
   "source": [
    "#### Method overloading and overriding\n",
    "\n",
    "Overriding -- uses inheritance where we will use previous class and\n",
    "            pass same number of parameters to same method of another class.\n",
    "\n",
    "Overloding - two same name methods in two different classes with different arguments.\n",
    "\n",
    "Overloading is the ability of a function or an operator to behave in different ways based on the parameters that are passed to \n",
    "the function, or the operands that the operator acts on.\n",
    "\n",
    "Method overloading is in the Polymorphism.\n",
    "\n",
    "It is used in a single class\n",
    "\n",
    "    "
   ]
  },
  {
   "cell_type": "code",
   "execution_count": 1,
   "metadata": {},
   "outputs": [
    {
     "name": "stdout",
     "output_type": "stream",
     "text": [
      "Area Value: 0\n",
      "Area Value: 16\n",
      "Area Value: 15\n"
     ]
    }
   ],
   "source": [
    "##Method Overloading Examples\n",
    "\n",
    "class Compute:\n",
    "# area method\n",
    "    def area(self, x = None, y = None):\n",
    "        if x != None and y != None:\n",
    "            return x * y\n",
    "        elif x != None:\n",
    "            return x * x\n",
    "        else:\n",
    "            return 0\n",
    "        \n",
    "# object\n",
    "obj = Compute()\n",
    "\n",
    "# zero argument\n",
    "print(\"Area Value:\", obj.area())\n",
    "\n",
    "# one argument\n",
    "print(\"Area Value:\", obj.area(4))\n",
    "\n",
    "# two argument\n",
    "print(\"Area Value:\", obj.area(3, 5))\n",
    "\n",
    "\n",
    "#For operator overloading , refer below : -- >https://www.programiz.com/python-programming/operator-overloading"
   ]
  },
  {
   "cell_type": "code",
   "execution_count": 2,
   "metadata": {},
   "outputs": [
    {
     "name": "stdout",
     "output_type": "stream",
     "text": [
      "Inside Parent\n",
      "Inside Child\n"
     ]
    }
   ],
   "source": [
    "# Python program to demonstrate method overriding (it uses inheritance)\n",
    "\n",
    "# Defining parent class\n",
    "class Parent():\n",
    "      \n",
    "    # Constructor\n",
    "    def __init__(self):\n",
    "        self.value = \"Inside Parent\"\n",
    "          \n",
    "    # Parent's show method\n",
    "    def show(self):\n",
    "        print(self.value)\n",
    "          \n",
    "# Defining child class\n",
    "class Child(Parent):\n",
    "      \n",
    "    # Constructor\n",
    "    def __init__(self):\n",
    "        self.value = \"Inside Child\"\n",
    "          \n",
    "    # Child's show method\n",
    "    def show(self):\n",
    "        print(self.value)\n",
    "          \n",
    "          \n",
    "# Driver's code\n",
    "obj1 = Parent()\n",
    "obj2 = Child()\n",
    "  \n",
    "obj1.show()\n",
    "obj2.show()"
   ]
  },
  {
   "cell_type": "markdown",
   "metadata": {},
   "source": [
    "#### Encapsulation\n",
    "\n",
    "#Note: The __init__ method is a constructor and runs as soon as an object of a class is instantiated. \n",
    "\n",
    "#Protected members\n",
    "    # members of the class that cannot be accessed outside the class but can be accessed from within the class and its subclasses. \n",
    "\n",
    "    #To accomplish this in Python, just follow the convention by prefixing the name of the member by a single underscore “_”\n",
    "\n",
    "#Private members\n",
    "    #Private members are similar to protected members, the difference is that the class members declared private should neither be accessed outside the class nor by any base class. \n",
    "    \n",
    "    #In Python, there is no existence of Private instance variables that cannot be accessed except inside a class.\n",
    "    \n",
    "    #to define a private member prefix the member name with double underscore “__”.\n",
    "\n",
    "    "
   ]
  },
  {
   "cell_type": "code",
   "execution_count": null,
   "metadata": {},
   "outputs": [],
   "source": [
    "# Encapsulation Example :\n",
    "\n",
    "class Base:\n",
    "    def __init__(self):\n",
    "        self.a = \"GeeksforGeeks\"\n",
    "        self.__c = \"GeeksforGeeks\"\n",
    " \n",
    "# Creating a derived class\n",
    "class Derived(Base):\n",
    "    def __init__(self):\n",
    "         \n",
    "        # Calling constructor of\n",
    "        # Base class\n",
    "        Base.__init__(self)\n",
    "        print(\"Calling private member of base class: \")\n",
    "        print(self.__c)\n",
    "# Driver code\n",
    "obj1 = Base()\n",
    "print(obj1.a)\n",
    " \n",
    "# Uncommenting print(obj1.c) will\n",
    "# raise an AttributeError\n",
    " \n",
    "# Uncommenting obj2 = Derived() will\n",
    "# also raise an AtrributeError as\n",
    "# private member of base class\n",
    "# is called inside derived class"
   ]
  },
  {
   "cell_type": "markdown",
   "metadata": {},
   "source": [
    "#### Abstraction \n",
    "#Abstraction is used to hide the internal functionality of the function from the users\n",
    "\n",
    "from abc import ABC  \n",
    "class ClassName(ABC):  "
   ]
  },
  {
   "cell_type": "code",
   "execution_count": 3,
   "metadata": {},
   "outputs": [
    {
     "name": "stdout",
     "output_type": "stream",
     "text": [
      "The mileage is 30kmph\n"
     ]
    }
   ],
   "source": [
    "# Abstraction Example :\n",
    "\n",
    "from abc import ABC, abstractmethod   \n",
    "\n",
    "class Car(ABC):   \n",
    "    def mileage(self):   \n",
    "        pass  \n",
    "    \n",
    "class Tesla(Car):   \n",
    "    def mileage(self):   \n",
    "        print(\"The mileage is 30kmph\")   \n",
    "\n",
    "# Driver code   \n",
    "t= Tesla ()   \n",
    "t.mileage()  "
   ]
  },
  {
   "cell_type": "markdown",
   "metadata": {},
   "source": [
    "#### Zscaler -- Shell Codility test questions."
   ]
  },
  {
   "cell_type": "code",
   "execution_count": 33,
   "metadata": {},
   "outputs": [
    {
     "name": "stdout",
     "output_type": "stream",
     "text": [
      "Enter the number between 0 to 50010\n"
     ]
    },
    {
     "data": {
      "text/plain": [
       "'Sun'"
      ]
     },
     "execution_count": 33,
     "metadata": {},
     "output_type": "execute_result"
    }
   ],
   "source": [
    "#This code is yet to solve correctly.\n",
    "import math \n",
    "list1 = [\"Mon\",\"Tue\",\"Wed\",\"Thu\",\"Fri\",\"Sat\",\"Sun\"]\n",
    "\n",
    "# Write function which takes list1 and K as input where K ranges from 0-500 inclusive. i.e. function returns the day of list which\n",
    "# is K days later\n",
    "\n",
    "k = input(\"Enter the number between 0 to 500\")\n",
    "\n",
    "def solution(list1,k):\n",
    "    \n",
    "#     print(k)\n",
    "#     for k in range(0,k+1):\n",
    "        while int(k) > len(list1):\n",
    "            k = int(k)//7\n",
    "            \n",
    "        var = len(list1)-k\n",
    "        \n",
    "        return list1[var]\n",
    "        \n",
    "            \n",
    "solution(list1,k)"
   ]
  },
  {
   "cell_type": "code",
   "execution_count": null,
   "metadata": {},
   "outputs": [],
   "source": [
    "# different number of keyword arguments passed\n",
    "  \n",
    "# function definition\n",
    "def displayArgument(**arguments): \n",
    "    for arg in arguments.items():\n",
    "        print(arg)\n",
    "  \n",
    "# function call\n",
    "displayArgument(argument1 =\"Geeks\", argument2 = 4,\n",
    "                argument3 =\"Geeks\")\n",
    "    "
   ]
  },
  {
   "cell_type": "markdown",
   "metadata": {},
   "source": [
    "#### commands to create pickel file"
   ]
  },
  {
   "cell_type": "code",
   "execution_count": null,
   "metadata": {},
   "outputs": [],
   "source": [
    "#\n",
    "# wb is dataframes created after pandas file exploring\n",
    "\n",
    "import pickle\n",
    "file_name='my_file.pkl'\n",
    "f = open(file_name,'wb')\n",
    "pickle.dump(my_data,f)\n",
    "f.close()"
   ]
  },
  {
   "cell_type": "markdown",
   "metadata": {},
   "source": [
    "#### What is big O notation?"
   ]
  },
  {
   "cell_type": "code",
   "execution_count": null,
   "metadata": {},
   "outputs": [],
   "source": [
    "O(n)\n",
    "\n",
    "O -->Algebric expression. n--> Length of input. \n",
    "\n",
    "\n",
    "Ex:\n",
    "    def fun(N):\n",
    "        result = []\n",
    "        for i in range(0,len(N)):\n",
    "            if N = 'xyz':\n",
    "                result.append(N)\n",
    "        return result\n",
    "    \n",
    "In above code, result is called twice (O( + 2), and code runs unless N elements pass through functions. Due to for loop it will be\n",
    "twice --> so expression for Big O notation would be ( O(2N+2)) i.e time efficiency\n",
    "                                       \n",
    "We can use same Big O notation(O(n)) to get space efficiency too.\n",
    "                                       \n",
    "Note that anything that can be approximated to O(n) can be said to occur \"in linear time\".\n",
    "If you plotted n = y on a graph, it would be a line.\n",
    "            "
   ]
  },
  {
   "cell_type": "markdown",
   "metadata": {},
   "source": [
    "#### Types of Errors and Exceptions in python ?"
   ]
  },
  {
   "cell_type": "code",
   "execution_count": null,
   "metadata": {},
   "outputs": [],
   "source": [
    "1. Syntax Errors\n",
    "    SyntaxError: invalid syntax\n",
    "\n",
    "2. Exceptions\n",
    "    ZeroDivisionError: division by zero\n",
    "    NameError: name 'xyz' is not defined\n",
    "    TypeError: Can't convert 'int' object to str implicitly\n",
    "    RuntimeError: Failed to open database\n",
    "    OSError\n",
    "    \n",
    "    \n",
    "    user-generated interruption is signalled by raising the KeyboardInterrupt exception."
   ]
  },
  {
   "cell_type": "code",
   "execution_count": null,
   "metadata": {},
   "outputs": [],
   "source": [
    "Handling Exceptions :\n",
    "    https://docs.python.org/3/tutorial/errors.html\n",
    "  \n",
    "Note:\n",
    "        There should be 1 try block.\n",
    "        There can be multiple except blocks.\n",
    "        There has to be only 1 finally block.\n",
    "        "
   ]
  },
  {
   "cell_type": "markdown",
   "metadata": {},
   "source": [
    "#### Example of try except else and finally :"
   ]
  },
  {
   "cell_type": "code",
   "execution_count": 6,
   "metadata": {},
   "outputs": [
    {
     "name": "stdout",
     "output_type": "stream",
     "text": [
      "result is 5.0\n",
      "executing finally clause\n"
     ]
    }
   ],
   "source": [
    "x = 10\n",
    "y = 2\n",
    "\n",
    "try:\n",
    "    result = x / y\n",
    "except ZeroDivisionError:\n",
    "    print(\"division by zero!\")\n",
    "else:\n",
    "    print(\"result is\", result)\n",
    "finally:\n",
    "    print(\"executing finally clause\")"
   ]
  },
  {
   "cell_type": "markdown",
   "metadata": {},
   "source": [
    "#### Multithreading vs processing\n",
    "https://www.youtube.com/watch?v=olYdb0DdGtM\n",
    "\n",
    "https://www.tutorialspoint.com/python/python_multithreading.htm\n",
    "    \n",
    "https://www.geeksforgeeks.org/multithreading-python-set-1/\n",
    "\n",
    "https://medium.com/contentsquare-engineering-blog/multithreading-vs-multiprocessing-in-python-ece023ad55a\n",
    "\n",
    "#### memory allocation\n",
    "https://www.youtube.com/watch?v=arxWaw-E8QQ&t=244s"
   ]
  },
  {
   "cell_type": "markdown",
   "metadata": {},
   "source": [
    "#### Libraries/ models used :\n",
    "    random, os, re, math,numpy , padas,"
   ]
  },
  {
   "cell_type": "markdown",
   "metadata": {},
   "source": [
    "#### What is Test Driven Development and BDD ?\n",
    "TDD vs BDD(Behavior):\n",
    "    \n",
    "    https://www.tutorialspoint.com/behavior_driven_development/behavior_test_driven_development.htm\n",
    "    https://blog.testlodge.com/tdd-vs-bdd/"
   ]
  },
  {
   "cell_type": "markdown",
   "metadata": {},
   "source": [
    "#### UML Diagrams:\n",
    "    https://creately.com/blog/diagrams/uml-diagram-types-examples/"
   ]
  },
  {
   "cell_type": "markdown",
   "metadata": {},
   "source": [
    "#### How to perform testing in python ?\n",
    "\n",
    "    unittest and zest modules\n",
    "    \n",
    "what are testing frameworks like robot ?\n"
   ]
  },
  {
   "cell_type": "code",
   "execution_count": null,
   "metadata": {},
   "outputs": [],
   "source": []
  },
  {
   "cell_type": "code",
   "execution_count": null,
   "metadata": {},
   "outputs": [],
   "source": []
  },
  {
   "cell_type": "code",
   "execution_count": null,
   "metadata": {},
   "outputs": [],
   "source": [
    "#Write/practice Codes for below operations as well.\n",
    "String operations\n",
    "leap year\n",
    "prime numbers , addition etc\n",
    "freq of char in string\n",
    "string compression\n",
    "\n",
    "link list coding"
   ]
  },
  {
   "cell_type": "code",
   "execution_count": null,
   "metadata": {},
   "outputs": [],
   "source": [
    "#below is one of the coding example where interviewer played with basics of OOPS.\n",
    "\n",
    "1.\t\tclass A:\n",
    "\t\t\tpass\n",
    "\t\t\n",
    "\t\tobj = A()\n",
    "\t\t\n",
    "\t\tprint(obj)\n",
    "\t\t\n",
    "2.\t\tclass A:\n",
    "\t\t\ta = 10\n",
    "\t\t\n",
    "\t\tobj = A()\n",
    "\t\t\n",
    "\t\tprint(obj)\t\n",
    "\t\t\n",
    "3.\t\tclass A:\n",
    "\t\t\ta = 10\n",
    "\t\t\n",
    "\t\tobj = A()\n",
    "\t\t\n",
    "\t\tprint(obj)\t\t\n",
    "4.\t\tclass A:\n",
    "\t\t\tdef __self__(self):\n",
    "\t\t\t\tprint(\"Ritesh\")\n",
    "\t\t\n",
    "\t\tobj = A()\n",
    "\t\t\n",
    "\t\tprint(obj)\n",
    "5.\t\tclass A:\n",
    "\t\t\tdef __self__(self):\n",
    "\t\t\t\tprint(\"Ritesh\")\n",
    "\t\t\n",
    "\t\tobj = A()\n",
    "\t\t\n",
    "\t\tprint(obj())\n",
    "6.\t\tclass A:\n",
    "\t\t\tdef __init__(self):\n",
    "\t\t\t\tprint(\"Ritesh\")\n",
    "\t\t\n",
    "\t\tobj = A()\n",
    "\t\t\n",
    "\t\tprint(obj())\n",
    "7.\t\tclass A:\n",
    "\t\t\tdef __init__(self):\n",
    "\t\t\t\tprint(\"Ritesh\")\n",
    "\t\t\n",
    "\t\tobj = A()\n",
    "\t\t\n",
    "\t\tprint(obj)\n",
    "8.\t\tclass A:\n",
    "\t\t\tdef __call__(self):\n",
    "\t\t\t\tprint(\"Ritesh\")\n",
    "\t\t\n",
    "\t\tobj = A()\n",
    "\t\t\n",
    "\t\tprint(obj())"
   ]
  },
  {
   "cell_type": "code",
   "execution_count": null,
   "metadata": {},
   "outputs": [],
   "source": [
    "What is git rebase ? and why required/\n",
    "\n",
    "https://www.atlassian.com/git/tutorials/rewriting-history/git-rebase#:~:text=From%20a%20content%20perspective%2C%20rebasing,them%20to%20the%20specified%20base."
   ]
  },
  {
   "cell_type": "code",
   "execution_count": null,
   "metadata": {},
   "outputs": [],
   "source": [
    "Libraries to convert Matlab code to python ?\n",
    "https://stackoverflow.com/questions/9845292/a-tool-to-convert-matlab-code-to-python\n",
    "    \n",
    "    pymatlab\n",
    "    pymat2\n",
    "    matpy\n",
    "    \n",
    "\n",
    "    https://pypi.org/project/oct2py/"
   ]
  },
  {
   "cell_type": "code",
   "execution_count": null,
   "metadata": {},
   "outputs": [],
   "source": [
    "Numeric and Mathematical modules in python?\n",
    "\n",
    "https://pymotw.com/2/numeric.html"
   ]
  },
  {
   "cell_type": "code",
   "execution_count": null,
   "metadata": {},
   "outputs": [],
   "source": [
    "Why tuples are faster than lists :\n",
    "    https://learnbatta.com/blog/why-tuple-is-faster-than-list-in-python-22/#:~:text=Tuples%20are%20stored%20in%20a,space%20to%20store%20new%20objects.&text=It%20is%20the%20reason%20creating,indexing%20it%20follows%20fewer%20pointers.\n",
    "        "
   ]
  },
  {
   "cell_type": "code",
   "execution_count": null,
   "metadata": {},
   "outputs": [],
   "source": [
    "List comprehensions example using 2 for loops:\n",
    "    \n",
    "    [entry for tag in tags for entry in entries if tag in entry]\n",
    "    \n",
    "\n",
    "https://stackoverflow.com/questions/18551458/how-to-frame-two-for-loops-in-list-comprehension-python\n",
    "    "
   ]
  },
  {
   "cell_type": "code",
   "execution_count": null,
   "metadata": {},
   "outputs": [],
   "source": [
    "Decorators\n",
    "\n",
    "https://gist.github.com/Zearin/2f40b7b9cfc51132851a\n",
    "\n",
    "https://www.python-course.eu/python3_decorators.php\n",
    "    \n",
    "https://www.geeksforgeeks.org/decorators-in-python/"
   ]
  },
  {
   "cell_type": "markdown",
   "metadata": {},
   "source": [
    "#### Zensar Shell Codility Test Questions"
   ]
  },
  {
   "cell_type": "code",
   "execution_count": 28,
   "metadata": {},
   "outputs": [
    {
     "name": "stdout",
     "output_type": "stream",
     "text": [
      "21\n",
      "2\n",
      "5\n",
      "7\n"
     ]
    },
    {
     "data": {
      "text/plain": [
       "'Mon'"
      ]
     },
     "execution_count": 28,
     "metadata": {},
     "output_type": "execute_result"
    }
   ],
   "source": [
    "def solution(S, K):\n",
    "    # write your code in Python 3.6\n",
    "    list1 = ['Mon','Tue','Wed','Thu','Fri','Sat','Sun']\n",
    "\n",
    "    counter = 1\n",
    "\n",
    "    while int(K) > counter and int(K) > 7:\n",
    "        temp = 0\n",
    "     \n",
    "            \n",
    "        for i in range(1,int(K)):\n",
    "            if counter < int(K):\n",
    "                temp = counter\n",
    "                counter = 7*i    \n",
    "                \n",
    "        val = int(K)- int(temp)\n",
    "        print(temp)\n",
    "        print(val)\n",
    "        \n",
    "\n",
    "    if int(K) < 7:\n",
    "        val = int(K)\n",
    "    \n",
    "\n",
    "    for i in range(0,len(list1)):\n",
    "        if list1[i] == S:\n",
    "            index1 = list1.index(list1[i])\n",
    "    print(index1)\n",
    "    \n",
    "    total_index =  val+index1\n",
    "    \n",
    "    print(total_index)\n",
    "    \n",
    "    if total_index > 6:\n",
    "        total_index = total_index - 7\n",
    "        return list1[total_index]\n",
    "    else:\n",
    "        return list1[total_index]\n",
    "        \n",
    "    \n",
    "\n",
    "solution('Sat', 23)"
   ]
  },
  {
   "cell_type": "code",
   "execution_count": 40,
   "metadata": {},
   "outputs": [
    {
     "data": {
      "text/plain": [
       "7"
      ]
     },
     "execution_count": 40,
     "metadata": {},
     "output_type": "execute_result"
    }
   ],
   "source": [
    "def solution(A, Y):\n",
    "    # write your code in Python 3.6\n",
    "    \n",
    "    list1 = []\n",
    "    val = 0\n",
    "    for i in range(0,len(A)):\n",
    "\n",
    "        if A.index(A[i]) == int(Y):\n",
    "            list1 = A[Y:]\n",
    "        \n",
    "        #print(list1)\n",
    "\n",
    "    for i in range(0,len(list1)):\n",
    "        val = val+ list1[i]\n",
    "\n",
    "    return val\n",
    "\n",
    "solution([1,4,3],1)"
   ]
  },
  {
   "cell_type": "code",
   "execution_count": null,
   "metadata": {},
   "outputs": [],
   "source": []
  },
  {
   "cell_type": "code",
   "execution_count": null,
   "metadata": {},
   "outputs": [],
   "source": []
  },
  {
   "cell_type": "code",
   "execution_count": null,
   "metadata": {},
   "outputs": [],
   "source": []
  },
  {
   "cell_type": "code",
   "execution_count": null,
   "metadata": {},
   "outputs": [],
   "source": []
  }
 ],
 "metadata": {
  "kernelspec": {
   "display_name": "Python 3",
   "language": "python",
   "name": "python3"
  },
  "language_info": {
   "codemirror_mode": {
    "name": "ipython",
    "version": 3
   },
   "file_extension": ".py",
   "mimetype": "text/x-python",
   "name": "python",
   "nbconvert_exporter": "python",
   "pygments_lexer": "ipython3",
   "version": "3.8.3"
  }
 },
 "nbformat": 4,
 "nbformat_minor": 4
}
