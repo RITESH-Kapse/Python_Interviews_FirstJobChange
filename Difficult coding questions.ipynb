{
 "cells": [
  {
   "cell_type": "markdown",
   "metadata": {},
   "source": [
    "#### 1. The Josephus Problem - Numberphile  - asked in Quest Global\n"
   ]
  },
  {
   "cell_type": "code",
   "execution_count": null,
   "metadata": {},
   "outputs": [],
   "source": [
    "https://www.youtube.com/watch?v=uCsD3ZGzMgE\n",
    "    \n",
    "https://www.geeksforgeeks.org/josephus-problem-set-1-a-on-solution/\n",
    "    \n",
    "    \n",
    "https://www.geeksforgeeks.org/josephus-problem-using-bit-magic/\n",
    "    \n",
    "    \n",
    "https://medium.com/@cortezcristian/coding-the-josephus-problem-77de8218257a\n",
    "    "
   ]
  },
  {
   "cell_type": "markdown",
   "metadata": {},
   "source": [
    "#### 2. Days of week as list and find nth day after mentioned day of list\n"
   ]
  },
  {
   "cell_type": "code",
   "execution_count": null,
   "metadata": {},
   "outputs": [],
   "source": [
    "import math \n",
    "list1 = [\"Mon\",\"Tue\",\"Wed\",\"Thu\",\"Fri\",\"Sat\",\"Sun\"]\n",
    "\n",
    "# Write function which takes list1 and K as input where K ranges from 0-500 inclusive. i.e. function returns the day of list which\n",
    "# is K days later\n",
    "\n",
    "k = input(\"Enter the number between 0 to 500\")"
   ]
  },
  {
   "cell_type": "markdown",
   "metadata": {},
   "source": [
    "#### 3"
   ]
  },
  {
   "cell_type": "code",
   "execution_count": null,
   "metadata": {},
   "outputs": [],
   "source": [
    "list1 = [-1,1,3,5,7,9]\n",
    "\n",
    "list2 = [-2,2,3,4,5,6]\n",
    "\n",
    "write a code to get below output -->\n",
    "\n",
    "o/p --> [-2,-1,1,2,3,4,5,6,7,9]"
   ]
  },
  {
   "cell_type": "markdown",
   "metadata": {},
   "source": [
    "#### 4. "
   ]
  },
  {
   "cell_type": "code",
   "execution_count": null,
   "metadata": {},
   "outputs": [],
   "source": [
    "Given row of oranges, each element in array is number of oranges in tree . Two people collect oranges .\n",
    "Identify best position to start picking to get maximum number of oranges.\n",
    "\n",
    "Ex : [1,4,3] --> 1 returns 7 . meaning  they start at position 1 and 2 , picking 7 oranges in 1 tick.\n",
    "    [1,4,3,5,2,9]--> 2 returns 19, meaning they start at position 2 and 4 , picking 19 oranges in 2 ticks."
   ]
  },
  {
   "cell_type": "markdown",
   "metadata": {},
   "source": [
    "#### 5. find similiar elements in the list and element them. Sort the latest list as output."
   ]
  },
  {
   "cell_type": "code",
   "execution_count": null,
   "metadata": {},
   "outputs": [],
   "source": [
    "arr=['eat','tea','tan','ate','nat','bat']\n",
    "use permutation and combination library."
   ]
  },
  {
   "cell_type": "markdown",
   "metadata": {},
   "source": []
  },
  {
   "cell_type": "code",
   "execution_count": null,
   "metadata": {},
   "outputs": [],
   "source": [
    "6. find closest number to gievn input which is valid square .  \n",
    "\n",
    "input = 40\n",
    "output --> 36"
   ]
  },
  {
   "cell_type": "markdown",
   "metadata": {},
   "source": [
    "#### 7. Zensar Paper"
   ]
  },
  {
   "cell_type": "code",
   "execution_count": null,
   "metadata": {},
   "outputs": [],
   "source": [
    "\n",
    "\n",
    "Write a function solution that , given integer N, return max possible value obtained by inserting digit '5' inside decimal\n",
    "representation of int N.\n",
    "\n",
    "Ex:\n",
    "    N =  268 the op should be 5268\n",
    "    N =  670 Op should be 6750"
   ]
  },
  {
   "cell_type": "code",
   "execution_count": null,
   "metadata": {},
   "outputs": [],
   "source": []
  },
  {
   "cell_type": "code",
   "execution_count": null,
   "metadata": {},
   "outputs": [],
   "source": []
  }
 ],
 "metadata": {
  "kernelspec": {
   "display_name": "Python 3",
   "language": "python",
   "name": "python3"
  },
  "language_info": {
   "codemirror_mode": {
    "name": "ipython",
    "version": 3
   },
   "file_extension": ".py",
   "mimetype": "text/x-python",
   "name": "python",
   "nbconvert_exporter": "python",
   "pygments_lexer": "ipython3",
   "version": "3.8.3"
  }
 },
 "nbformat": 4,
 "nbformat_minor": 4
}
