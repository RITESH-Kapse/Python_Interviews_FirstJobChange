{
 "cells": [
  {
   "cell_type": "code",
   "execution_count": 4,
   "metadata": {},
   "outputs": [
    {
     "name": "stdout",
     "output_type": "stream",
     "text": [
      "nitin\n",
      "n2\n",
      "i2\n",
      "t1\n",
      "i2\n",
      "n2\n",
      "{'i', 'n', 't'}\n"
     ]
    }
   ],
   "source": [
    "str1 = 'nitin'\n",
    "\n",
    "# n i t i n\n",
    "\n",
    "# str1.count('n')\n",
    "\n",
    "# a =97\n",
    "\n",
    "# n \n",
    "\n",
    "# # def  sample(str1):\n",
    "    \n",
    "# str1 = str1.split()\n",
    "print(str1)\n",
    "# freq = [0]*26\n",
    "\n",
    "# for i in range(0,len(str1)):\n",
    "#     freq[ord(str1[i])-97] +=1\n",
    "\n",
    "# for j in freq:\n",
    "#     if j>1:\n",
    "#         print(chr(freq[j]+97))\n",
    "\n",
    "list1 = []\n",
    "\n",
    "counter = 0    \n",
    "\n",
    "for i in range(0,len(str1)):\n",
    "    counter = str1.count(str1[i])\n",
    "    list1.append(str1[i])\n",
    "    \n",
    "    print(str1[i]+str(counter))\n",
    "    \n",
    "list1 = set(list1)\n",
    "print(list1)\n",
    "#     if str1[i] == str1[i+1]:\n",
    "#         counter += 1\n",
    "#     else:\n",
    "        \n",
    "#         print(str[i]+ str(counter))\n",
    "#         counter = 1\n",
    "        \n",
    "    \n",
    "sample.py"
   ]
  },
  {
   "cell_type": "code",
   "execution_count": null,
   "metadata": {},
   "outputs": [],
   "source": [
    "import sample from file.py\n",
    "\n",
    "import unittest\n",
    "\n"
   ]
  }
 ],
 "metadata": {
  "kernelspec": {
   "display_name": "Python 3",
   "language": "python",
   "name": "python3"
  },
  "language_info": {
   "codemirror_mode": {
    "name": "ipython",
    "version": 3
   },
   "file_extension": ".py",
   "mimetype": "text/x-python",
   "name": "python",
   "nbconvert_exporter": "python",
   "pygments_lexer": "ipython3",
   "version": "3.8.3"
  }
 },
 "nbformat": 4,
 "nbformat_minor": 4
}
