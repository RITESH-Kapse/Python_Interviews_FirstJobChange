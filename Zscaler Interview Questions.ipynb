{
 "cells": [
  {
   "cell_type": "code",
   "execution_count": 24,
   "metadata": {},
   "outputs": [
    {
     "name": "stdout",
     "output_type": "stream",
     "text": [
      "1\n",
      "2\n",
      "1\n",
      "2\n",
      "1\n",
      "[1, 2, 1, 2, 1]\n",
      "[1, 2, 1, 2, 1]\n",
      "Number is palindrome\n"
     ]
    }
   ],
   "source": [
    "import math\n",
    "sample = 12121\n",
    "\n",
    "list1 = []\n",
    "\n",
    "while sample > 1:\n",
    "    temp = math.floor(sample%10)\n",
    "    print(temp)\n",
    "    list1.append(temp)\n",
    "    sample = sample/10\n",
    "\n",
    "list2 = list1[::-1]\n",
    "print(list1)\n",
    "print(list2)\n",
    "\n",
    "counter = 0 \n",
    "\n",
    "for i in range(0,len(list1)):\n",
    "        if list1[i] == list2[i]:\n",
    "            counter += 1\n",
    "\n",
    "if counter == len(list1):\n",
    "    print(\"Number is palindrome\")"
   ]
  },
  {
   "cell_type": "code",
   "execution_count": 2,
   "metadata": {},
   "outputs": [],
   "source": [
    "arr=['eat','tea','tan','ate','nat','bat']\n",
    "\n",
    "# import re\n",
    "\n",
    "# test1 = re.subn(\"eat\",arr)\n",
    "\n",
    "# print(test1)\n",
    "\n",
    "# for i in range(0,len(arr)):\n",
    "#     for j in arr[i]\n",
    "\n",
    "list1 = []\n",
    "\n",
    "# arr[0][1]\n",
    "\n",
    "def sample(arr):\n",
    "    \n",
    "    len1 = len(arr)\n",
    "    \n",
    "    for i in range(0,len1):\n",
    "        \n",
    "        for j in len1[i]:\n",
    "            if j \n",
    "            \n",
    "            \n",
    "            list1.append(arr[i])\n",
    "            arr.remove(arr[i])\n",
    "    \n",
    "    return list1\n",
    "    \n",
    "    \n",
    "\n"
   ]
  },
  {
   "cell_type": "code",
   "execution_count": null,
   "metadata": {},
   "outputs": [],
   "source": [
    "\n",
    "            "
   ]
  },
  {
   "cell_type": "code",
   "execution_count": null,
   "metadata": {},
   "outputs": [],
   "source": [
    "24 opnenets \n",
    "1\n",
    "5sec per move\n",
    "55sec per move\n",
    "\n",
    "30 pair moves\n",
    "\n",
    "150\n",
    "1650\n",
    "\n",
    "30mins\n",
    "\n",
    "24*30mins = 12 hours  --> all games\n",
    "\n",
    "\n",
    "24 \n",
    "\n"
   ]
  },
  {
   "cell_type": "code",
   "execution_count": null,
   "metadata": {},
   "outputs": [],
   "source": []
  }
 ],
 "metadata": {
  "kernelspec": {
   "display_name": "Python 3",
   "language": "python",
   "name": "python3"
  },
  "language_info": {
   "codemirror_mode": {
    "name": "ipython",
    "version": 3
   },
   "file_extension": ".py",
   "mimetype": "text/x-python",
   "name": "python",
   "nbconvert_exporter": "python",
   "pygments_lexer": "ipython3",
   "version": "3.8.3"
  }
 },
 "nbformat": 4,
 "nbformat_minor": 4
}
