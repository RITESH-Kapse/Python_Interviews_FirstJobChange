{
 "cells": [
  {
   "cell_type": "code",
   "execution_count": 26,
   "metadata": {},
   "outputs": [
    {
     "name": "stdout",
     "output_type": "stream",
     "text": [
      "[12, 12, 12, 12]\n"
     ]
    }
   ],
   "source": [
    "def multiplexers ():\n",
    "\n",
    "    return [lambda n: index * n for index in range (4)]\n",
    "\n",
    "print([m(4) for m in multiplexers()])"
   ]
  },
  {
   "cell_type": "code",
   "execution_count": 22,
   "metadata": {},
   "outputs": [
    {
     "name": "stdout",
     "output_type": "stream",
     "text": [
      "5\n",
      "[0, 1, 1, 2, 5, 9, 14]\n",
      "Value is available in series\n"
     ]
    }
   ],
   "source": [
    "b = 1\n",
    "number = int(input())\n",
    "series = [0,1,1] \n",
    "# 0 1 1 2 3 5 8 13\n",
    "var = 0 \n",
    "for i in range(2, number + 1):\n",
    "    var =  var + i \n",
    "    series.append(var)\n",
    "    \n",
    "print(series)\n",
    "\n",
    "if number in series:\n",
    "    print(\"Value is available in series\")\n",
    "    "
   ]
  },
  {
   "cell_type": "code",
   "execution_count": null,
   "metadata": {},
   "outputs": [],
   "source": []
  }
 ],
 "metadata": {
  "kernelspec": {
   "display_name": "Python 3",
   "language": "python",
   "name": "python3"
  },
  "language_info": {
   "codemirror_mode": {
    "name": "ipython",
    "version": 3
   },
   "file_extension": ".py",
   "mimetype": "text/x-python",
   "name": "python",
   "nbconvert_exporter": "python",
   "pygments_lexer": "ipython3",
   "version": "3.8.3"
  }
 },
 "nbformat": 4,
 "nbformat_minor": 4
}
