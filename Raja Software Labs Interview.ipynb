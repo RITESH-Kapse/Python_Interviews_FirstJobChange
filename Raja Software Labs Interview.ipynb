{
 "cells": [
  {
   "cell_type": "code",
   "execution_count": null,
   "metadata": {},
   "outputs": [],
   "source": [
    "Given a sentence consist of words, write a program to return the words present in sentence in reverse order.\n",
    "\n",
    "E.g: Input = \"My name is XYZ\"\n",
    "\n",
    "Output = \"XYZ is name My\"\n",
    "\n",
    "Constraint: would be good to do it in O(n)."
   ]
  },
  {
   "cell_type": "code",
   "execution_count": 7,
   "metadata": {},
   "outputs": [
    {
     "name": "stdout",
     "output_type": "stream",
     "text": [
      "['My', 'name', 'is', 'XYZ']\n",
      "['XYZ', 'is', 'name', 'My']\n"
     ]
    }
   ],
   "source": [
    "Input = \"My name is XYZ\"\n",
    "\n",
    "# Output = Input[::-1]\n",
    "# print(Output)\n",
    "\n",
    "string = Input.split()\n",
    "print(string)\n",
    "list = string[::-1]\n",
    "\n",
    "print(list)\n",
    "# for i in range(0,len(string)):"
   ]
  },
  {
   "cell_type": "code",
   "execution_count": 70,
   "metadata": {},
   "outputs": [
    {
     "name": "stdout",
     "output_type": "stream",
     "text": [
      "['Y', 'X', ' ', 's', 'i', ' ', 'e', 'm', 'a', 'n', ' ', 'y']\n"
     ]
    }
   ],
   "source": [
    "Input = \"My name is XYZ\"\n",
    "list = []\n",
    "list1 = []\n",
    "\n",
    "def sample(Input):\n",
    "    \n",
    "    for i in range(0, len(Input)-1):\n",
    "        if Input[i] == ' ':\n",
    "            \n",
    "            \n",
    "#         if Input[i-1] or Input[i] or Input[i+1] != ' ' :\n",
    "            \n",
    "            list1.append(Input[i])\n",
    "\n",
    "    for i in range(len(list1)-1,0,-1):\n",
    "        list.append(list1[i])\n",
    "        \n",
    "    print(list)   \n",
    "\n",
    "sample(Input)\n"
   ]
  },
  {
   "cell_type": "code",
   "execution_count": 56,
   "metadata": {},
   "outputs": [
    {
     "name": "stdout",
     "output_type": "stream",
     "text": [
      "[0, 0, 0]\n"
     ]
    }
   ],
   "source": [
    "# Given an array consist of 0's and 1's, re-arrange them in such a way that 0's should come before 1's.\n",
    "\n",
    "Input = [1, 0, 1, 0, 0, 1, 1]\n",
    "# Output = [0, 0, 0, 1, 1, 1, 1]\n",
    "\n",
    "a = 1\n",
    "\n",
    "# list = []\n",
    "\n",
    "for i in range(0,len(Input)):\n",
    "    if Input[i] != a:\n",
    "        list.append(Input[i])\n",
    "\n",
    "        \n",
    "print(list)\n",
    "    \n",
    "    \n",
    "\n",
    "\n",
    "\n",
    "\n",
    "# Constraint: Each element should be visited once, no extra aurxilary space should be used."
   ]
  },
  {
   "cell_type": "code",
   "execution_count": null,
   "metadata": {},
   "outputs": [],
   "source": []
  },
  {
   "cell_type": "code",
   "execution_count": null,
   "metadata": {},
   "outputs": [],
   "source": []
  }
 ],
 "metadata": {
  "kernelspec": {
   "display_name": "Python 3",
   "language": "python",
   "name": "python3"
  },
  "language_info": {
   "codemirror_mode": {
    "name": "ipython",
    "version": 3
   },
   "file_extension": ".py",
   "mimetype": "text/x-python",
   "name": "python",
   "nbconvert_exporter": "python",
   "pygments_lexer": "ipython3",
   "version": "3.8.3"
  }
 },
 "nbformat": 4,
 "nbformat_minor": 4
}
