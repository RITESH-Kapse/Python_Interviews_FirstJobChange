{
 "cells": [
  {
   "cell_type": "markdown",
   "metadata": {},
   "source": [
    "## Python Interview Questions  - Part1"
   ]
  },
  {
   "cell_type": "markdown",
   "metadata": {},
   "source": [
    "#### Q. Explain deep and shalow copy in detail >? OR Explain = , copy(), deepcopy()"
   ]
  },
  {
   "cell_type": "code",
   "execution_count": 13,
   "metadata": {},
   "outputs": [
    {
     "name": "stdout",
     "output_type": "stream",
     "text": [
      "[1, 2, 3, 4]\n",
      "[1, 2, 3, 4]\n"
     ]
    }
   ],
   "source": [
    "'''1: normal equal to operator'''\n",
    "\n",
    "list1= [1,2,3,4]\n",
    "list2 =  list1\n",
    "print(list2)\n",
    "print(list1)\n",
    "\n",
    "# list1[0] = 10\n",
    "# print(list2)\n",
    "# print(list1)\n",
    "\n",
    "#Note -- Here if we change any element in list1 , list2 element gets updated."
   ]
  },
  {
   "cell_type": "code",
   "execution_count": 14,
   "metadata": {},
   "outputs": [
    {
     "name": "stdout",
     "output_type": "stream",
     "text": [
      "[1, 2, 3, 4]\n",
      "[10, 2, 3, 4]\n",
      "[1, 2, 3, 4]\n"
     ]
    }
   ],
   "source": [
    "'''2: Shallow Copy'''\n",
    "\n",
    "#Note : Deep copy works exactly same as shallow copy for single list(not nested list)\n",
    "\n",
    "list1= [1,2,3,4]\n",
    "list3 = list1.copy()\n",
    "print(list3)\n",
    "\n",
    "list1[0] = 10\n",
    "\n",
    "print(list1)\n",
    "print(list3)\n",
    "\n",
    "#Note -- Here if we change any element in list1 , list3 element gets not updated. list3 will have previous version of list1 elements."
   ]
  },
  {
   "cell_type": "code",
   "execution_count": 18,
   "metadata": {},
   "outputs": [
    {
     "name": "stdout",
     "output_type": "stream",
     "text": [
      "[[1, 2, 3, 4], [5, 6, 7, 8], [8, 9, 0, 1]]\n",
      "[[1, 2, 3, 4], [5, 6, 7, 8], [8, 9, 0, 1]]\n",
      "[[1, 100, 3, 4], [5, 6, 7, 8], [8, 9, 0, 1]]\n",
      "[[1, 100, 3, 4], [5, 6, 7, 8], [8, 9, 0, 1]]\n"
     ]
    }
   ],
   "source": [
    "'''2: Shallow Copy Nested List'''\n",
    "\n",
    "list1= [[1,2,3,4],[5,6,7,8],[8,9,0,1]]\n",
    "list2 = list1.copy()\n",
    "print(list1)\n",
    "print(list2)\n",
    "\n",
    "list1[0][1] = 100\n",
    "\n",
    "'''\n",
    "Note : \n",
    "Both objects in list and copied list are referring to same variables in nested list. So if we change the element of list1 after\n",
    "copy , then also it gets reflected in list2 . This is shallow copy for nested list/ '''\n",
    "\n",
    "print(list1)\n",
    "print(list2) "
   ]
  },
  {
   "cell_type": "code",
   "execution_count": 21,
   "metadata": {},
   "outputs": [
    {
     "name": "stdout",
     "output_type": "stream",
     "text": [
      "[[1, 2, 3, 4], [5, 6, 7, 8], [8, 9, 0, 1]]\n",
      "[[1, 2, 3, 4], [5, 6, 7, 8], [8, 9, 0, 1]]\n",
      "[[1, 2, 3, 4], [5, 6, 7, 8], [8, 9, 0, 1], [10, 20, 30, 40]]\n",
      "[[1, 2, 3, 4], [5, 6, 7, 8], [8, 9, 0, 1]]\n"
     ]
    }
   ],
   "source": [
    "'''2: Shallow Copy Nested List continues'''\n",
    "\n",
    "list1= [[1,2,3,4],[5,6,7,8],[8,9,0,1]]\n",
    "list2 = list1.copy()\n",
    "print(list1)\n",
    "print(list2)\n",
    "\n",
    "list1.append([10,20,30,40])\n",
    "print(list1)\n",
    "print(list2)\n",
    "\n",
    "#Note : So in shallow copy, when we append an item in list , it only gets reflected in list1 and not list2"
   ]
  },
  {
   "cell_type": "code",
   "execution_count": 24,
   "metadata": {},
   "outputs": [
    {
     "name": "stdout",
     "output_type": "stream",
     "text": [
      "[1, 100, 3, 4]\n",
      "[1, 2, 3, 4]\n"
     ]
    }
   ],
   "source": [
    "'''3: Deep Copy '''\n",
    "\n",
    "import copy\n",
    "list1= [1,2,3,4]\n",
    "list2 = copy.deepcopy(list1)\n",
    "\n",
    "list2[1] = 100\n",
    "print(list2)\n",
    "print(list1)\n",
    "\n",
    "#Note :Deep copy works exactly same as shallow copy for single list(not nested list)"
   ]
  },
  {
   "cell_type": "code",
   "execution_count": 25,
   "metadata": {},
   "outputs": [
    {
     "name": "stdout",
     "output_type": "stream",
     "text": [
      "[[1, 2, 3, 4], [100, 6, 7, 8], [8, 9, 0, 1]]\n",
      "[[1, 2, 3, 4], [5, 6, 7, 8], [8, 9, 0, 1]]\n"
     ]
    }
   ],
   "source": [
    "'''3: Deep Copy Nested List'''\n",
    "import copy\n",
    "list1= [[1,2,3,4],[5,6,7,8],[8,9,0,1]]\n",
    "list2 = copy.deepcopy(list1)\n",
    "\n",
    "list2[1][0]= 100\n",
    "print(list2)\n",
    "print(list1)\n",
    "\n",
    "#Note : Here shallow and deep copy are different since it is creating different memory location.\n",
    "\n",
    "'''\n",
    "i.e In shallow copy , once we will change any element of list1, list2 elements will get changed . But if we do deep copy , only\n",
    "list1 element will get changed. '''"
   ]
  },
  {
   "cell_type": "markdown",
   "metadata": {},
   "source": [
    "#### Q2. Explain memory utilization in python "
   ]
  },
  {
   "cell_type": "code",
   "execution_count": null,
   "metadata": {},
   "outputs": [],
   "source": []
  },
  {
   "cell_type": "markdown",
   "metadata": {},
   "source": [
    "#### Q . What are nolocal and global keywords used for?"
   ]
  },
  {
   "cell_type": "code",
   "execution_count": 30,
   "metadata": {},
   "outputs": [
    {
     "data": {
      "text/plain": [
       "'nolocal is often used when you need to access a variable in a nested function:'"
      ]
     },
     "execution_count": 30,
     "metadata": {},
     "output_type": "execute_result"
    }
   ],
   "source": [
    "#These two keywords are used to change the scope of a previously declared variable.\n",
    "\n",
    "'''nolocal is often used when you need to access a variable in a nested function:'''\n",
    "def func1():\n",
    "    x = 5\n",
    "    def func2():\n",
    "        nolocal x\n",
    "        print(x)\n",
    "    func2()"
   ]
  },
  {
   "cell_type": "code",
   "execution_count": 31,
   "metadata": {},
   "outputs": [
    {
     "name": "stdout",
     "output_type": "stream",
     "text": [
      "5\n"
     ]
    }
   ],
   "source": [
    "'''global is a more straightforward instruction. It makes a previously declared variable global'''\n",
    "x = 5\n",
    "def func1():\n",
    "    print(x)\n",
    "func1()"
   ]
  },
  {
   "cell_type": "code",
   "execution_count": 33,
   "metadata": {},
   "outputs": [],
   "source": [
    "#Since x is declared before function call, func1 can access it. However, if you try to change it:\\\n",
    "x = 5\n",
    "def func2():\n",
    "    x += 3\n",
    "func2()\n",
    "# > UnboundLocalError: local variable 'c' referenced before assignment"
   ]
  },
  {
   "cell_type": "code",
   "execution_count": 36,
   "metadata": {},
   "outputs": [],
   "source": [
    "#To make it work, we need to indicate that by x we mean the global variable x:\n",
    "x = 5\n",
    "def func2():\n",
    "    global x\n",
    "    x += 3\n",
    "func2()"
   ]
  },
  {
   "cell_type": "markdown",
   "metadata": {},
   "source": [
    "#### Q. Program to display the Fibonacci sequence up to n-th term"
   ]
  },
  {
   "cell_type": "code",
   "execution_count": 39,
   "metadata": {},
   "outputs": [
    {
     "name": "stdout",
     "output_type": "stream",
     "text": [
      "How many terms? 1\n",
      "Fibonacci sequence upto 1 :\n",
      "0\n"
     ]
    }
   ],
   "source": [
    "# Program to display the Fibonacci sequence up to n-th term\n",
    "\n",
    "nterms = int(input(\"How many terms? \"))\n",
    "\n",
    "# first two terms\n",
    "n1, n2 = 0, 1\n",
    "count = 0\n",
    "\n",
    "# check if the number of terms is valid\n",
    "if nterms <= 0:\n",
    "   print(\"Please enter a positive integer\")\n",
    "elif nterms == 1:\n",
    "   print(\"Fibonacci sequence upto\",nterms,\":\")\n",
    "   print(n1)\n",
    "else:\n",
    "   print(\"Fibonacci sequence:\")\n",
    "   while count < nterms:\n",
    "       print(n1)\n",
    "       nth = n1 + n2\n",
    "       # update values\n",
    "       n1 = n2\n",
    "       n2 = nth\n",
    "       count += 1"
   ]
  },
  {
   "cell_type": "markdown",
   "metadata": {},
   "source": [
    "#### Q. One Liner Questions -- Python"
   ]
  },
  {
   "cell_type": "markdown",
   "metadata": {},
   "source": [
    "1. What is pep 8 :\n",
    "        PEP stands for Python Enhancement Proposal. \n",
    "        It is a set of rules that specify how to format Python code for maximum readability.\n",
    "        \n",
    "2. What is the difference between list and tuples in Python?\n",
    "        Lists are mutable i.e they can be edited , Tuples are immutable (tuples are lists which can’t be edited).\n",
    "        Lists are slower than tuples. Tuples are faster than list.\n",
    "        \n",
    "3. What are python modules? Name some commonly used built-in modules in Python?\n",
    "        Python modules are files containing Python code. This code can either be functions classes or variables. \n",
    "        A Python module  is a .py file containing executable code.\n",
    "        Built-in Modules: os, sys, math, random, json\n",
    "        \n",
    " 4. What all the platforms/Sites  Python Django works on ?\n",
    "     Instagram, DISCUS, Mozilla Firefox, YouTube, Pinterest, Reddit, etc\n",
    "     \n",
    "5. Can we do search engine optimization in Django? --> Yes\n",
    "\n",
    "6. What is the difference between Python Arrays and lists?\n",
    "    Arrays and lists, in Python, have the same way of storing data. \n",
    "    But, arrays can hold only a single data type elements whereas lists can hold any data type elements.\n",
    "    \n",
    "7. What are docstrings in Python?\n",
    "    Docstrings are not actually comments, but, they are documentation strings.\n",
    "    These Docstrings are within triple quotes. \n",
    "    They are not assigned to any variable and therefore, at times, serve the purpose of comments as well.\n",
    "    \n",
    "8. Purpose of __init__ method?\n",
    "    __init__ is a method or constructor in Python. Used to initialize each object.\n",
    "\n",
    "9. What is “self” in Python?\n",
    "    Self is an instance or an object of a class.\n",
    "    It helps to differentiate between the methods and attributes of a class with local variables.\n",
    "    \n",
    "10. What is method overloading? -- It's possible in python !\n",
    "    One can give the same name to more than one methods within a class if the arguments passed differ.\n",
    "\n",
    "11. Types of Inheritance in Python?\n",
    "    1. Single inheritance\n",
    "    2. Multiple inheritance\n",
    "    3. Multilevel inheritance\n",
    "    4. Hierarchical inheritance\n",
    "    \n",
    "12. How do you debug a Python program?\n",
    "\t$ python -m pdb python-script.py\n",
    "\n",
    "13. How to convert a list into a string?\n",
    "\t\n",
    "    When we want to convert a list into a string, we can use the <”.join()> method \n",
    "    which joins all the elements into one and returns as a string.\n",
    "\tweekdays = ['sun','mon','tue','wed','thu','fri','sat']\n",
    "\tlistAsString = ' '.join(weekdays)\n",
    "\tprint(listAsString)\n",
    "\n",
    "14. How to convert a list into a tuple?\n",
    "\tlistAsTuple = tuple(weekdays)\n",
    "\t\n",
    "15. How to convert a list into a set?\n",
    "\tlistAsSet = set(weekdays)\n",
    "\t\n",
    "16. How to count the occurrences of a particular element in the list?\n",
    "\tprint(weekdays.count('mon'))\n",
    "\n",
    "17. What is NumPy array?\n",
    "\tA) NumPy arrays are more flexible then lists in Python. \n",
    "    By using NumPy arrays reading and writing items is faster and more efficient.\n",
    "\t\n",
    "18. How can you create Empty NumPy Array In Python?\n",
    "\timport numpy\n",
    "\tnumpy.array([])  OR  numpy.empty(shape=(0,0))\n",
    "\n",
    "19. what is namespace in python?\n",
    "    A namespace is a system that has a unique name for each and every object in Python.\n",
    "    object might be a variable or a method. Python itself maintains a namespace in the form of a Python dictionary.\n",
    "     "
   ]
  },
  {
   "cell_type": "markdown",
   "metadata": {},
   "source": [
    "#### Q. What is the difference between classmethod and staticmethod ?"
   ]
  },
  {
   "cell_type": "markdown",
   "metadata": {},
   "source": [
    "1. The @classmethod decorator, is a builtin function decorator that is an expression that gets evaluated after your function is defined.\n",
    "2. The result of that evaluation shadows your function definition.\n",
    "3. A class method receives the class as implicit first argument, just like an instance method receives the instance\n",
    "4. They have the access to the state of the class as it takes a class parameter that points to the class and not the object instance.\n",
    "5. It can modify a class state that would apply across all the instances of the class. For example it can modify a class variable that will be applicable to all the instances.\n",
    "\n",
    "Syntax:\n",
    "```\n",
    "class C(object):\n",
    "    @classmethod\n",
    "    def fun(cls, arg1, arg2, ...):\n",
    "       ....\n",
    "fun: function that needs to be converted into a class method\n",
    "returns: a class method for function.```"
   ]
  },
  {
   "cell_type": "markdown",
   "metadata": {},
   "source": [
    "1. A static method is also a method which is bound to the class and not the object of the class.\n",
    "2. A static method can’t access or modify class state..\n",
    "3. It is present in a class because it makes sense for the method to be present in class."
   ]
  },
  {
   "cell_type": "markdown",
   "metadata": {},
   "source": [
    "In general, static methods know nothing about class state. \n",
    "They are utility type methods that take some parameters and work upon those parameters. \n",
    "On the other hand class methods must have class as parameter."
   ]
  },
  {
   "cell_type": "code",
   "execution_count": 70,
   "metadata": {},
   "outputs": [
    {
     "name": "stdout",
     "output_type": "stream",
     "text": [
      "21\n",
      "25\n",
      "True\n"
     ]
    },
    {
     "data": {
      "text/plain": [
       "'Output\\n\\n21\\n21\\nTrue'"
      ]
     },
     "execution_count": 70,
     "metadata": {},
     "output_type": "execute_result"
    }
   ],
   "source": [
    "# Python program to demonstrate use of class method and static method.\n",
    "from datetime import date\n",
    "class Person:\n",
    "    def __init__(self, name, age):\n",
    "        self.name = name\n",
    "        self.age = age\n",
    "    #a class method to create a Person object by birth year.\n",
    "    \n",
    "    @classmethod\n",
    "    def fromBirthYear(cls, name, year):\n",
    "        return cls(name, date.today().year - year)\n",
    "    \n",
    "    #astatic method to check if a Person is adult or not.\n",
    "    @staticmethod\n",
    "    def isAdult(age):\n",
    "        return age > 18\n",
    "\n",
    "person1 = Person('mayank', 21)\n",
    "person2 = Person.fromBirthYear('mayank', 1996)\n",
    "\n",
    "print (person1.age)\n",
    "print (person2.age)\n",
    "# print the result\n",
    "print (Person.isAdult(22))\n",
    "\n",
    "\n",
    "'''Output\n",
    "\n",
    "21\n",
    "21\n",
    "True'''"
   ]
  },
  {
   "cell_type": "code",
   "execution_count": null,
   "metadata": {},
   "outputs": [],
   "source": [
    "\n",
    "What is GIL and what are some of the ways to get around it? ...\n",
    "What are metaclasses and when are they used? ...\n",
    "What are type annotations? ...\n",
    "What are generator functions? ...\n",
    "What are decorators in Python?                                                                                                                                                                                                                                                                                                                                                                                                                                                                                                                                                                                     "
   ]
  },
  {
   "cell_type": "code",
   "execution_count": null,
   "metadata": {},
   "outputs": [],
   "source": [
    "#Try Except Else Finally :\n",
    "\n",
    "try:\n",
    "       # Some Code.... \n",
    "\n",
    "except:\n",
    "       # optional block\n",
    "       # Handling of exception (if required)\n",
    "\n",
    "else:\n",
    "       # execute if no exception\n",
    "\n",
    "finally:\n",
    "      # Some code .....(always executed)"
   ]
  },
  {
   "cell_type": "code",
   "execution_count": null,
   "metadata": {},
   "outputs": [],
   "source": [
    "# Python program to demonstrate finally \n",
    "    \n",
    "# No Exception raised in try block \n",
    "try: \n",
    "    k = 5//0 # raises divide by zero exception. \n",
    "    print(k) \n",
    "    \n",
    "# handles zerodivision exception     \n",
    "except ZeroDivisionError:    \n",
    "    print(\"Can't divide by zero\") \n",
    "        \n",
    "finally: \n",
    "    # this block is always executed  \n",
    "    # regardless of exception generation. \n",
    "    print('This is always executed')  "
   ]
  },
  {
   "cell_type": "code",
   "execution_count": null,
   "metadata": {},
   "outputs": [],
   "source": [
    "#Raising exception\n",
    "# Program to depict Raising Exception\n",
    "  \n",
    "try: \n",
    "    raise NameError(\"Hi there\")  # Raise Error\n",
    "except NameError:\n",
    "    print \"An exception\"\n",
    "    raise  # To determine whether the exception was raised or not"
   ]
  },
  {
   "cell_type": "markdown",
   "metadata": {},
   "source": [
    "#### Q . Class or Static Variables, Instance Variables in Python\n"
   ]
  },
  {
   "cell_type": "code",
   "execution_count": null,
   "metadata": {},
   "outputs": [],
   "source": [
    "# Python program to show that the variables with a value \n",
    "# assigned in class declaration, are class variables\n",
    "  \n",
    "# Class for Computer Science Student\n",
    "class CSStudent:\n",
    "    stream = 'cse'                  # Class Variable\n",
    "    def __init__(self,name,roll):\n",
    "        self.name = name            # Instance Variable\n",
    "        self.roll = roll            # Instance Variable\n",
    "  \n",
    "# Objects of CSStudent class\n",
    "a = CSStudent('Geek', 1)\n",
    "b = CSStudent('Nerd', 2)\n",
    "  \n",
    "print(a.stream)  # prints \"cse\"\n",
    "print(b.stream)  # prints \"cse\"\n",
    "print(a.name)    # prints \"Geek\"\n",
    "print(b.name)    # prints \"Nerd\"\n",
    "print(a.roll)    # prints \"1\"\n",
    "print(b.roll)    # prints \"2\"\n",
    "  \n",
    "# Class variables can be accessed using class\n",
    "# name also\n",
    "print(CSStudent.stream) # prints \"cse\"\n",
    "  \n",
    "# Now if we change the stream for just a it won't be changed for b\n",
    "a.stream = 'ece'\n",
    "print(a.stream) # prints 'ece'\n",
    "print(b.stream) # prints 'cse'\n",
    "  \n",
    "# To change the stream for all instances of the class we can change it \n",
    "# directly from the class\n",
    "CSStudent.stream = 'mech'\n",
    "  \n",
    "print(a.stream) # prints 'mech'\n",
    "print(b.stream) # prints 'mech'"
   ]
  },
  {
   "cell_type": "code",
   "execution_count": 72,
   "metadata": {},
   "outputs": [],
   "source": [
    "#Explain below codes on List and Tuples.:\n",
    "    \n",
    "l1 = ([1,2,3],)\n",
    "l2 = [1,2,3,(4,5)]\n",
    "\n",
    "# Can we update l1 and l2 . "
   ]
  },
  {
   "cell_type": "code",
   "execution_count": 73,
   "metadata": {},
   "outputs": [
    {
     "data": {
      "text/plain": [
       "([1, 2, 3, 4],)"
      ]
     },
     "execution_count": 73,
     "metadata": {},
     "output_type": "execute_result"
    }
   ],
   "source": [
    "l1[0].append(4)  #It will add 4 to the list inside the tuple.\n",
    "l1"
   ]
  },
  {
   "cell_type": "code",
   "execution_count": 74,
   "metadata": {},
   "outputs": [
    {
     "ename": "AttributeError",
     "evalue": "'tuple' object has no attribute 'append'",
     "output_type": "error",
     "traceback": [
      "\u001b[1;31m---------------------------------------------------------------------------\u001b[0m",
      "\u001b[1;31mAttributeError\u001b[0m                            Traceback (most recent call last)",
      "\u001b[1;32m<ipython-input-74-7d7b6d70ef32>\u001b[0m in \u001b[0;36m<module>\u001b[1;34m\u001b[0m\n\u001b[1;32m----> 1\u001b[1;33m \u001b[0ml2\u001b[0m\u001b[1;33m[\u001b[0m\u001b[1;36m3\u001b[0m\u001b[1;33m]\u001b[0m\u001b[1;33m.\u001b[0m\u001b[0mappend\u001b[0m\u001b[1;33m(\u001b[0m\u001b[1;36m6\u001b[0m\u001b[1;33m)\u001b[0m\u001b[1;33m\u001b[0m\u001b[1;33m\u001b[0m\u001b[0m\n\u001b[0m",
      "\u001b[1;31mAttributeError\u001b[0m: 'tuple' object has no attribute 'append'"
     ]
    }
   ],
   "source": [
    "l2[3].append(6) # We can not update tuble which is inside list.\n"
   ]
  },
  {
   "cell_type": "markdown",
   "metadata": {},
   "source": [
    "#### Q Multithreading in python"
   ]
  },
  {
   "cell_type": "markdown",
   "metadata": {},
   "source": [
    "Python has construct called Global Interpreter Lock(GIL) -- It make sure that only one thread executes at a time.\n",
    "So thread aquires the GIL, does work and pass GIL to next thread. (They are not running paralelly.)\n",
    "\n",
    "import threading"
   ]
  },
  {
   "cell_type": "markdown",
   "metadata": {},
   "source": [
    "Multiprocessing can use multiple processors to run particular job.\n",
    "import multiprocessing"
   ]
  },
  {
   "cell_type": "markdown",
   "metadata": {},
   "source": [
    "#### Q Monkey Patching"
   ]
  },
  {
   "cell_type": "code",
   "execution_count": null,
   "metadata": {},
   "outputs": [],
   "source": [
    "#In Python, the term monkey patch refers to dynamic (or run-time) modifications of a class or module. \n",
    "#In Python, we can actually change the behavior of code at run-time.\n",
    "\n",
    "#Lets assume file name is monk.py\n",
    "# monk.py \n",
    "class A: \n",
    "     def func(self): \n",
    "          print (\"func() is being called\") \n",
    "\n",
    "#We use above module (monk) in below code and change behavior of func() at run-time by assigning different value.\n",
    "\n",
    "\n",
    "import monk \n",
    "def monkey_f(self): \n",
    "     print (\"monkey_f() is being called\") \n",
    "        \n",
    "# replacing address of \"func\" with \"monkey_f\" \n",
    "\n",
    "monk.A.func = monkey_f \n",
    "\n",
    "obj = monk.A() \n",
    "\n",
    "# calling function \"func\" whose address got replaced \n",
    "# with function \"monkey_f()\" \n",
    "\n",
    "obj.func() "
   ]
  },
  {
   "cell_type": "markdown",
   "metadata": {},
   "source": [
    "#### Q. Write a code to explain left and right shift if input string is given by user."
   ]
  },
  {
   "cell_type": "code",
   "execution_count": null,
   "metadata": {},
   "outputs": [],
   "source": [
    "#Q Explain right rotation as per input ?\n",
    "\n",
    "def reverseRightAlgo(arr,i,j):\n",
    "    while(i<j):\n",
    "        temp = arr[i]\n",
    "        arr[i] = arr[j]\n",
    "        arr[j]= temp\n",
    "        i +=1\n",
    "        j -=1\n",
    "        \n",
    "def printArr(arr,n):\n",
    "    for i in range(n):\n",
    "        print(arr[i], end = '')\n",
    "    \n",
    "    print()\n",
    "\n",
    "def main():\n",
    "    \n",
    "    t = int(input())\n",
    "    while (t > 0):\n",
    "        n,k = map(int,input().split())\n",
    "        arr = list(map(int,input().split()))\n",
    "\n",
    "        reverseRightAlgo(arr,n-k,n-1)\n",
    "        reverseRightAlgo(arr,0,n-k-1)\n",
    "        reverseRightAlgo(arr,0,n-1)\n",
    "        printArr(arr,n)\n",
    "        t = t-1\n",
    "        \n",
    "if __name__ == '__main__':\n",
    "    main()\n",
    " "
   ]
  },
  {
   "cell_type": "code",
   "execution_count": null,
   "metadata": {},
   "outputs": [],
   "source": [
    "#Left Rotation Code\n",
    "def reverseLeftAlgo(arr,i,j):\n",
    "    while(i<j):\n",
    "        temp = arr[i]\n",
    "        arr[i] = arr[j]\n",
    "        arr[j]= temp\n",
    "        i +=1\n",
    "        j -=1\n",
    "        \n",
    "def printArr(arr,n):\n",
    "    for i in range(n):\n",
    "        print(arr[i], end = '')\n",
    "    \n",
    "    print()\n",
    "\n",
    "def main():\n",
    "    \n",
    "    t = int(input())\n",
    "    while (t > 0):\n",
    "        n,k = map(int,input().split())\n",
    "        arr = list(map(int,input().split()))\n",
    "\n",
    "        reverseLeftAlgo(arr,0,k-1)\n",
    "        reverseLeftAlgo(arr,k,n-1)\n",
    "        reverseLeftAlgo(arr,0,n-1)\n",
    "        \n",
    "        printArr(arr,n)\n",
    "        t = t-1\n",
    "        \n",
    "if __name__ == '__main__':\n",
    "    main()"
   ]
  },
  {
   "cell_type": "markdown",
   "metadata": {},
   "source": [
    "#### Q. What is re module and explain split(),sub() and subn() with example"
   ]
  },
  {
   "cell_type": "code",
   "execution_count": null,
   "metadata": {},
   "outputs": [],
   "source": [
    "#split() --> uses regex patterns to split given string into list.\n",
    "#sub() --> find all substrings where regex matches and replace them with diff string\n",
    "#subn() --> similiar to sub(), returns new string with no of replacements.\n",
    "\n",
    "import re\n",
    "\n",
    "string = \"blablabla\"\n",
    "pattern = \"bla\"\n",
    "replace =  \"aaa\"\n",
    "print(re.split(string,pattern)) --> ['bla']\n",
    "print(re.subn(pattern,replace,string)) --> ['aaaaaaaaa']"
   ]
  },
  {
   "cell_type": "markdown",
   "metadata": {},
   "source": [
    "#### Q. What is inheritance in python?"
   ]
  },
  {
   "cell_type": "markdown",
   "metadata": {},
   "source": [
    "Defin -- >Gaining the attribute and method from one class to another :\n",
    "\n",
    "Types-->\n",
    "    1. single\n",
    "    2. multi-level\n",
    "    3. hierarchical\n",
    "    4. multiple"
   ]
  },
  {
   "cell_type": "code",
   "execution_count": null,
   "metadata": {},
   "outputs": [],
   "source": [
    "class ParentClass:\n",
    "    v1 = \"from parent class -v1\"\n",
    "    v2 =  \"from parent class -v2\"\n",
    "    \n",
    "class ChildClass(ParentClass):\n",
    "    pass\n",
    "\n",
    "\n",
    "print(ChildClass.v1)\n",
    "print(ChildClass.v2)"
   ]
  },
  {
   "cell_type": "code",
   "execution_count": null,
   "metadata": {},
   "outputs": [],
   "source": []
  },
  {
   "cell_type": "code",
   "execution_count": null,
   "metadata": {},
   "outputs": [],
   "source": []
  },
  {
   "cell_type": "code",
   "execution_count": null,
   "metadata": {},
   "outputs": [],
   "source": []
  },
  {
   "cell_type": "code",
   "execution_count": null,
   "metadata": {},
   "outputs": [],
   "source": []
  },
  {
   "cell_type": "code",
   "execution_count": null,
   "metadata": {},
   "outputs": [],
   "source": []
  },
  {
   "cell_type": "code",
   "execution_count": null,
   "metadata": {},
   "outputs": [],
   "source": []
  },
  {
   "cell_type": "code",
   "execution_count": null,
   "metadata": {},
   "outputs": [],
   "source": []
  },
  {
   "cell_type": "code",
   "execution_count": null,
   "metadata": {},
   "outputs": [],
   "source": []
  },
  {
   "cell_type": "code",
   "execution_count": null,
   "metadata": {},
   "outputs": [],
   "source": []
  },
  {
   "cell_type": "code",
   "execution_count": null,
   "metadata": {},
   "outputs": [],
   "source": []
  },
  {
   "cell_type": "code",
   "execution_count": null,
   "metadata": {},
   "outputs": [],
   "source": []
  },
  {
   "cell_type": "code",
   "execution_count": null,
   "metadata": {},
   "outputs": [],
   "source": []
  },
  {
   "cell_type": "code",
   "execution_count": null,
   "metadata": {},
   "outputs": [],
   "source": [
    "#### Q. Explain how can you setup database in Django?"
   ]
  },
  {
   "cell_type": "code",
   "execution_count": null,
   "metadata": {},
   "outputs": [],
   "source": [
    "#settings.py file\n",
    "\n",
    "DATABASES = {\n",
    "    \n",
    "    'default':{\n",
    "        \n",
    "        'ENGINE':'django.db.backends.sqllite3',\n",
    "        'NAME' : os.path.join(BASE_DIR,'db.sqllite3'),\n",
    "    }\n",
    "}"
   ]
  },
  {
   "cell_type": "code",
   "execution_count": null,
   "metadata": {},
   "outputs": [],
   "source": [
    "Give example of view in Django ?\n",
    "\n",
    "from django.http import HttpResponse\n",
    "import datetime\n",
    "\n",
    "def Current_datetime(request):\n",
    "    now = datetime.datetime.now()\n",
    "    html = \"<html><body>It is now %s</body></html>\" % now\n",
    "    \n",
    "    return HttpResponse(html)\n",
    "\n",
    "    "
   ]
  },
  {
   "cell_type": "code",
   "execution_count": null,
   "metadata": {},
   "outputs": [],
   "source": [
    "Django Templates -->\n",
    "\n",
    "can create any text based format like XLM,CSV,HTML etc."
   ]
  },
  {
   "cell_type": "code",
   "execution_count": null,
   "metadata": {},
   "outputs": [],
   "source": [
    "Explain use of session in Django framework ?\n",
    "We can store and retrive the data as per site visit.\n",
    "store details in session ID."
   ]
  },
  {
   "cell_type": "code",
   "execution_count": null,
   "metadata": {},
   "outputs": [],
   "source": [
    "Q. Types of inheritance in Django?\n",
    "\n",
    "1. Abstract Base Classes\n",
    "    When you only wants parents class to hold info that you dont want to type out for each chile model.\n",
    "2. Multi Table Inheritance\n",
    "    Used if you are subclassing an existing model and need each model to have its own database table.\n",
    "3. Proxy Models\n",
    "    By creating proxy models, you can create multiple behaviours without changing the actual code of base classs.\n",
    "    i.e. if you only wants to modify the python level behaviour of model, without changing the models fields.\n",
    "\n",
    "\n"
   ]
  },
  {
   "cell_type": "code",
   "execution_count": null,
   "metadata": {},
   "outputs": [],
   "source": [
    "Q. What is Django field class ?\n",
    "    \n",
    "    It contains the databse column type as int , str etc.\n",
    "    The default HTML widget to avail while rendering a form field.\n",
    "    Minimum validation requirements used in Django admin and in automatically generated forms.\n",
    "    "
   ]
  },
  {
   "cell_type": "markdown",
   "metadata": {},
   "source": [
    "#### Data Analysis using Python"
   ]
  },
  {
   "cell_type": "code",
   "execution_count": null,
   "metadata": {},
   "outputs": [],
   "source": [
    "\n",
    "\n",
    "Q. How to get indices of N maximum values in numpy array?\n",
    "\n",
    "import numpy as np\n",
    "arr = np.array([1,3,2,4,5])\n",
    "\n",
    "print(arr.argsort()[-3:][::-1])   ---> argsort() will give indices of array element\n",
    "\n",
    "Output -- > [4,3,1]\n"
   ]
  },
  {
   "cell_type": "markdown",
   "metadata": {},
   "source": [
    "#Difference btwn numpy array and list\n",
    " \n",
    "list -- general purpose containers used in regular insertion and deletion. dynamic in nature/\n",
    "   \n",
    "numpy -- numpy array is faster and contains most datatypes. Its good for indexing  , sorting, reshaping etc.\n",
    "\n",
    "SciPy -- contains more fully featured versions of  linear algebra modules, as well as many other numerical algoithms.\n",
    "\n"
   ]
  },
  {
   "cell_type": "code",
   "execution_count": null,
   "metadata": {},
   "outputs": [],
   "source": []
  },
  {
   "cell_type": "code",
   "execution_count": null,
   "metadata": {},
   "outputs": [],
   "source": []
  },
  {
   "cell_type": "code",
   "execution_count": null,
   "metadata": {},
   "outputs": [],
   "source": []
  },
  {
   "cell_type": "code",
   "execution_count": null,
   "metadata": {},
   "outputs": [],
   "source": []
  },
  {
   "cell_type": "code",
   "execution_count": null,
   "metadata": {},
   "outputs": [],
   "source": []
  },
  {
   "cell_type": "code",
   "execution_count": null,
   "metadata": {},
   "outputs": [],
   "source": []
  },
  {
   "cell_type": "code",
   "execution_count": null,
   "metadata": {},
   "outputs": [],
   "source": []
  },
  {
   "cell_type": "code",
   "execution_count": null,
   "metadata": {},
   "outputs": [],
   "source": []
  },
  {
   "cell_type": "code",
   "execution_count": null,
   "metadata": {},
   "outputs": [],
   "source": []
  },
  {
   "cell_type": "code",
   "execution_count": null,
   "metadata": {},
   "outputs": [],
   "source": []
  },
  {
   "cell_type": "code",
   "execution_count": null,
   "metadata": {},
   "outputs": [],
   "source": []
  },
  {
   "cell_type": "code",
   "execution_count": null,
   "metadata": {},
   "outputs": [],
   "source": []
  },
  {
   "cell_type": "code",
   "execution_count": null,
   "metadata": {},
   "outputs": [],
   "source": []
  },
  {
   "cell_type": "code",
   "execution_count": null,
   "metadata": {},
   "outputs": [],
   "source": []
  },
  {
   "cell_type": "code",
   "execution_count": null,
   "metadata": {},
   "outputs": [],
   "source": []
  },
  {
   "cell_type": "code",
   "execution_count": null,
   "metadata": {},
   "outputs": [],
   "source": []
  },
  {
   "cell_type": "code",
   "execution_count": null,
   "metadata": {},
   "outputs": [],
   "source": [
    "What are types of comprehensions in python like list, dict etc?\n",
    "\n",
    "\n",
    "how to copy the object in python\n",
    "\n",
    "\n",
    "\n",
    "\n",
    "https://www.youtube.com/watch?v=y7NBT6O0fJU \n",
    "\n",
    "explain :  09-april-2021\n",
    "left join with example\n",
    "\n",
    "\n",
    "polymorphrism types\n",
    "public private and protected\n",
    "\n",
    "try except else finally  explain --- particularly else explain\n",
    "\n",
    "multithreading in python\n",
    "\n",
    "How to call the method in class without defining the object in class.\n",
    "\n",
    "Interview questions >>>>>\t\n",
    "\n",
    "\n",
    "explain CNN in detail ?\n",
    "\n",
    "Python logger for exception handlings\n",
    "\n",
    "libraries with python-2 ( 2 days)\n",
    "\n",
    "\tNumpy\n",
    "\tPandas\n",
    "\tMatplotlib\n",
    "\tSeaborn\n",
    "\tScipy\n",
    "\t\n",
    "Combine libraries for ML and DL\n",
    "\tFlask\n",
    "\tDjango\n",
    "\tScipy\n",
    "\tMatplotlib\n",
    "\tSeaborn\n",
    "\tNumpy\n",
    "\tNVDIA CUDA Library\n",
    "\tSkLearn\n",
    "\tDask\n",
    "\tkeras\n",
    "\tTensorflow\n",
    "\tPytorch\n",
    "\t\n",
    "\t\n",
    "Deployment\n",
    "\tHeroku\n",
    "\tAWS EC2 instance\n",
    "\tAzure\n",
    "\t\n",
    "\t\n",
    "Creating api and it should be scalable\n",
    "\n",
    "\n",
    "Python webframe works for web development\n",
    "\tFlask\n",
    "\tDjango\n",
    "\tWeb2Py\n",
    "\tTurboGears\n",
    "\tCherryPy\n",
    "\t\n",
    "\t\n",
    "Python frameworks for Desktop applications\n",
    "\tTkinter\n",
    "\tQt\n",
    "\tKivy\n",
    "\t\n",
    "django orm\n",
    "queries\n",
    "\n",
    "show sorting code without sort\n",
    "\n",
    "what was the filters and \n",
    "\n",
    "explain tensorflow\n",
    "\n",
    "\n",
    "10 most common interview codes on python.\n",
    "\n",
    "Decorators\n",
    "name funtions\n",
    "pandas bumpy\n",
    "multi threading\n",
    "data structures\n",
    "\n",
    "Bubble Sort in python\n",
    " \n",
    " \n",
    "django version - 3.1.3\n",
    "python - 3.8.5\n",
    "\n",
    "API : testing api, staging api, developement api , production api.\n",
    "\n",
    "test driven developement ?\n",
    "\n",
    "\n",
    "\n",
    "\n",
    "PEP-8 code guidelines that help structure our code\n",
    " \n",
    "Design Pattern\n",
    "\tDuck Typing\n",
    "\t\n",
    "\t\n",
    "Behavioral Patterns\n",
    "\tBehavioural Patterns involve communication between objects, how objects interact and fulfil a given task.\n",
    "\tAccording to Gang of Four (GoF) principles, there are a total of 11 behavioral patterns in Python: \n",
    "\tChain of responsibility, Command, Interpreter, Iterator, Mediator, Memento, Observer, State, Strategy, Template, Visitor.\n",
    "\t\n",
    "Structural Patterns\t\n",
    "\tFACADE\n",
    "\tadd an interface object exposing a well thought-out subset of all API methods\\\n",
    "\t\n",
    "\t\n",
    "\n",
    "NoSQL\t\n",
    "\tDocument databases -- store data in documents similar to JSON (JavaScript Object Notation) objects\n",
    "\t\tMongoDB \n",
    "\t\n",
    "\tKey-value databases -- a simpler type of database where each item contains keys and values.\n",
    "\t\tRedis and DynanoDB \n",
    "\t\t\n",
    "\tWide-column stores -- store data in tables, rows, and dynamic columns\n",
    "\t\tCassandra and HBase\n",
    "\t\n",
    "\tGraph databases --store data in nodes and edges\n",
    "\t\tNeo4j and JanusGraph\n",
    "\t\t\n",
    "\t\t\n",
    "PostgreSQL :\n",
    "\tfree and open-source relational database management system emphasizing extensibility and SQL compliance.\n",
    "\t\n",
    "\t\n",
    "python debuggers  -- Just add following line in to a Django view function\n",
    "\timport pdb; pdb.set_trace()\n",
    "\n",
    "Testing \n",
    "\tunittest, Zest libraries\n",
    "\t\n",
    "\n",
    "\n",
    "\n",
    "\n",
    "\n",
    "manage.py --> command line utility which lets us interact with django project\n",
    "\n",
    "__init__.py --> empty directory which is considered as package\n",
    "\n",
    "settings.py --> all settings\n",
    "\n",
    "wsgi.py --> webserver gateway interface -- calling convention to webserver to forward request to web application or other servers\n",
    "\n",
    "\n",
    "\n",
    "Difference between python 2 and python 3\n",
    "\n",
    "\n",
    "Testing Python code\n",
    "\n",
    "import unittest\n",
    "\n",
    "class NameTestCase(unittest.TestCase):\n",
    "\t\"\"\" Tests for some other file\"\"\"\n",
    "\t\n",
    "\tdef some methods\n",
    "\t\n",
    "\n",
    "# to run the test:\n",
    "\n",
    "unittest.main()\n",
    "\n",
    "\n",
    "\n",
    "code analysis python :\n",
    "pip3 install coala-bears\n",
    "\n",
    "\t\tcoala provides linting and fixing for all the languages\n",
    "\t\tbears are plugins or simple modules that extend the capability of your coala\n",
    "\t\t\n",
    "\t\t\n",
    "sort list without sort functions :\n",
    "\n",
    "\t\tunsorted_list = [3, 1, 0, 9, 4]\n",
    "\t\tsorted_list = []\n",
    "\n",
    "\t\twhile unsorted_list:\n",
    "\t\t\tminimum = unsorted_list[0]\n",
    "\t\t\tfor item in unsorted_list:\n",
    "\t\t\t\tif item < minimum:\n",
    "\t\t\t\t\tminimum = item\n",
    "\t\t\tsorted_list.append(minimum)\n",
    "\t\t\tunsorted_list.remove(minimum)\n",
    "\n",
    "\t\tprint(sorted_list)\n",
    "\n",
    "\n"
   ]
  },
  {
   "cell_type": "code",
   "execution_count": null,
   "metadata": {},
   "outputs": [],
   "source": [
    "Explain below libraries:\n",
    "Pandas, PyMongo, OS, Logging, re, PyYAML, Celery\n",
    "\n",
    "\n",
    "3+ exp in python\n",
    "Django\n",
    "\n",
    "\n",
    "NoSql and MonGoDb\n",
    "AWS\n",
    "Docker\n",
    "\n",
    "JS HTML5 Css3\n",
    "\n",
    "\n",
    "\n",
    "PEP-8 code guidelines that help structure our code\n",
    " \n",
    "Design Pattern\n",
    "\tDuck Typing\n",
    "\t\n",
    "\t\n",
    "Behavioral Patterns\n",
    "\tBehavioural Patterns involve communication between objects, how objects interact and fulfil a given task.\n",
    "\tAccording to Gang of Four (GoF) principles, there are a total of 11 behavioral patterns in Python: \n",
    "\tChain of responsibility, Command, Interpreter, Iterator, Mediator, Memento, Observer, State, Strategy, Template, Visitor.\n",
    "\t\n",
    "Structural Patterns\t\n",
    "\tFACADE\n",
    "\tadd an interface object exposing a well thought-out subset of all API methods\\\n",
    "\t\n",
    "\t\n",
    "\n",
    "NoSQL\t\n",
    "\tDocument databases -- store data in documents similar to JSON (JavaScript Object Notation) objects\n",
    "\t\tMongoDB \n",
    "\t\n",
    "\tKey-value databases -- a simpler type of database where each item contains keys and values.\n",
    "\t\tRedis and DynanoDB \n",
    "\t\t\n",
    "\tWide-column stores -- store data in tables, rows, and dynamic columns\n",
    "\t\tCassandra and HBase\n",
    "\t\n",
    "\tGraph databases --store data in nodes and edges\n",
    "\t\tNeo4j and JanusGraph\n",
    "\t\t\n",
    "\t\t\n",
    "PostgreSQL :\n",
    "\tfree and open-source relational database management system emphasizing extensibility and SQL compliance.\n",
    "\t\n",
    "\t\n",
    "python debuggers  -- Just add following line in to a Django view function\n",
    "\timport pdb; pdb.set_trace()\n",
    "\n",
    "Testing \n",
    "\tunittest, Zest libraries\n",
    "\t\n",
    "\n",
    "\n",
    "explain CNN in detail ?\n",
    "\t\n",
    "\t"
   ]
  },
  {
   "cell_type": "markdown",
   "metadata": {},
   "source": [
    "\n",
    "what is context\n",
    "what are middlewares\n",
    "what are file scheduling rendering \n",
    "what are mixins\n",
    "\n",
    "what are ORMs\n",
    "how to copy the object in python\n",
    "what is namespace in python\n",
    "\n",
    "\n",
    "what is manage.py in django\n",
    "\n",
    "self,init,new method in python\n",
    "\n",
    "memory managment in python\n",
    "\n",
    "iter and next methods\n",
    "\n",
    "generator and decorator code examples in python\n",
    "\n",
    "map filter and reduce code examples\n",
    "\n",
    "how to iterate over functions in python.\n",
    "\n",
    "\n",
    "Linux commands to check string in file\n",
    "\tcheck the memory of file \n",
    "\thow to search the data in file\n",
    "\n",
    "what are regex in python and give examples\n",
    "\n",
    "what is example of inheritance and encapsulation in python\n",
    "\n",
    "\n",
    "What is try except else in python? with example\n",
    "\n",
    "what are types of comprehensions in python\n",
    "<!-- def multiplexers ():\n",
    "    return [lambda n: index * n for index in range (4)]\n",
    "\n",
    "print([m (2) for m in multiplexers ()]) -->\n",
    "\n",
    "Fabonaci series in python code\n",
    "\n",
    "\n",
    "what are multi  threading and muli  processing and what is memory  managment in python ?\n",
    "\n",
    "To prepre on priority !\n",
    "\n",
    "Difference between python 2 and python 3\n",
    "voin and integer pointer    C language\n",
    "what is semaphore,context switching,mutation  C language\n",
    "\n",
    "code example of abstraction , inheritance , polymorphirsm, data encapsulation. What is Encapsulation ?\n",
    "\n",
    "code of adding two numbers without using inbuild sort or temp variable\n",
    "\n",
    "what is inline function ?\n",
    "\n",
    "what is process and thread ?\n",
    "\n",
    "How to check bit of integer ?\n",
    "\n",
    "what are most difficult things u came across in your field of work ?\n",
    "\n",
    "\n",
    "sort the list ascending and decending without using sort function.\n",
    "\n",
    "\n",
    "check quick guide on :\n",
    "\t\n",
    "\tBasics of C and CPP\n",
    "\tGo through Resume and check for projects completed.\n",
    "\tsql and no sql guide\n",
    "\tdjango and django ORM\n",
    "\tfilter,map,reduce and lambda\n",
    "\tclasses , objects, arguments, keyword arguments\n",
    "\tdatatypes in python\n",
    "\tmultiprocessing and multi threading in python examples\n",
    "\twhat is call by value and reference in python with example?\n",
    "\tmemory managment in python ?\n",
    "\tuse of .pyc file in python\n",
    "\twhat is method overloading and overriding example in python?\n",
    "\t \n",
    "\thow to perform basic login, register functions in django with code ?\n",
    "\tis string mutable or imutable\n",
    "\tuse of like and with keyword \n",
    "\twhat is prefix in ORM\n",
    "\twhat is middlewares in django\n",
    "\twhat is docker and what is CI-CD\n",
    "\tExplain CNN for image processing\n",
    "\tExplain ML algorithms used\n",
    "\tExplain Pandas and Numpy and how difference from List / tuples ?\n",
    "\t\n",
    "\tWhen to use tuples ? any real life examples ?\n",
    "\t\n",
    "\tAre keys in dictory mutable ? and can be use List at keys of dictionary?\n",
    "\t\n",
    "\twhat is the error when it goes out of range?\n",
    "\t\n",
    "\texplain tensorflow\n",
    "\t\n",
    "\tfake migrations in django?\n",
    "\t\n",
    "\twhat are django websockets, name funtions, datatypes and data structures.\n",
    "\t\n",
    "\tpickle files?\n",
    "\t\n",
    "\n",
    "\n"
   ]
  },
  {
   "cell_type": "code",
   "execution_count": null,
   "metadata": {},
   "outputs": [],
   "source": [
    "#Codes\n",
    "String operations\n",
    "leap year\n",
    "prime numbers , addition etc\n",
    "freq of char in string\n",
    "string compression\n",
    "\n",
    "link list coding\n"
   ]
  },
  {
   "cell_type": "code",
   "execution_count": null,
   "metadata": {},
   "outputs": [],
   "source": [
    " Python test frameworks\n",
    "\tRobot Framework\n",
    "\tPytest   -- functional \n",
    "\tBehave   -- behavior driven testing\n",
    "\tUnitTest -- functional and unit testing\n",
    "\tLettuce --  behavior driven testing\n",
    "\t\n",
    "\n",
    "\n",
    "pdb module\n",
    "debugger\n",
    "map filter reduce functions\n",
    "\n",
    "list second maximum -- geeks for gix\n",
    "\n",
    "django - model deploy. \n",
    "\n",
    "svm - \n",
    "logistic n linear \n",
    "logistic vs navie basics\n",
    "svm koroner trees\n",
    "\n",
    "precesion values - model evaluation parameters\\\n",
    "\n",
    "hyper parameters tuniing\n",
    "\n",
    "algorithms and why ?\n",
    "\n",
    "ensemble models - random forest and decision trees\n",
    "\n",
    "neural network - kiti network and layers\n",
    "\n",
    "weights initialization - random \n",
    "\n",
    "aws deployement - Ec2 instance, AWS step functions\n",
    "\n",
    "deploy any of case study on django.\n",
    "\n",
    "deployement django/flask.\n",
    "\n",
    "pickle files\n",
    "irish deployement.\n",
    "\n",
    "\n",
    "CNN classification.\n",
    "\n",
    "model evaluation\n",
    "\n",
    "confusion matrix\n",
    "\n",
    "pipelines kasha lihilya\n",
    "\n",
    "SVm\n",
    "Logistics\n",
    "linear - regression -- laso and two more\n"
   ]
  }
 ],
 "metadata": {
  "kernelspec": {
   "display_name": "Python 3",
   "language": "python",
   "name": "python3"
  },
  "language_info": {
   "codemirror_mode": {
    "name": "ipython",
    "version": 3
   },
   "file_extension": ".py",
   "mimetype": "text/x-python",
   "name": "python",
   "nbconvert_exporter": "python",
   "pygments_lexer": "ipython3",
   "version": "3.8.3"
  }
 },
 "nbformat": 4,
 "nbformat_minor": 4
}
