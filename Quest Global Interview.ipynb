{
 "cells": [
  {
   "cell_type": "code",
   "execution_count": null,
   "metadata": {},
   "outputs": [],
   "source": [
    "If there is boolean filed in db, and by mistake it is turned to char filed and migrations takes place.\n",
    "Will it cause an error \n",
    "and what will be default value of the field"
   ]
  },
  {
   "cell_type": "code",
   "execution_count": null,
   "metadata": {},
   "outputs": [],
   "source": [
    "client to server there is login request , and server sends 401 not auntheticated response.\n",
    "\n",
    "How to replicate this in codes"
   ]
  },
  {
   "cell_type": "code",
   "execution_count": null,
   "metadata": {},
   "outputs": [],
   "source": [
    "https://www.youtube.com/watch?v=uCsD3ZGzMgE\n",
    "    \n",
    "    \n",
    "Josephus Problem\n",
    "\n",
    "https://medium.com/@cortezcristian/coding-the-josephus-problem-77de8218257a\n",
    "https://www.geeksforgeeks.org/josephus-problem-using-bit-magic/\n",
    "https://www.geeksforgeeks.org/josephus-problem-set-1-a-on-solution/\n"
   ]
  },
  {
   "cell_type": "code",
   "execution_count": null,
   "metadata": {},
   "outputs": [],
   "source": []
  },
  {
   "cell_type": "code",
   "execution_count": null,
   "metadata": {},
   "outputs": [],
   "source": [
    "https://realpython.com/python-concurrency/"
   ]
  },
  {
   "cell_type": "code",
   "execution_count": null,
   "metadata": {},
   "outputs": [],
   "source": []
  }
 ],
 "metadata": {
  "kernelspec": {
   "display_name": "Python 3",
   "language": "python",
   "name": "python3"
  },
  "language_info": {
   "codemirror_mode": {
    "name": "ipython",
    "version": 3
   },
   "file_extension": ".py",
   "mimetype": "text/x-python",
   "name": "python",
   "nbconvert_exporter": "python",
   "pygments_lexer": "ipython3",
   "version": "3.8.3"
  }
 },
 "nbformat": 4,
 "nbformat_minor": 4
}
