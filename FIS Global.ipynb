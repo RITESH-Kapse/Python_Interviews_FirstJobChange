{
 "cells": [
  {
   "cell_type": "code",
   "execution_count": 31,
   "metadata": {},
   "outputs": [
    {
     "name": "stdout",
     "output_type": "stream",
     "text": [
      "['o', 'o', 'p', 'p', 'p', 'p', 'o', 'o']\n"
     ]
    }
   ],
   "source": [
    "   \n",
    "# Longest Palindromic Substring\n",
    "# Input: s = \"yuyoppouii\"\n",
    "# Output: \"oppo\"\n",
    "s = \"yuyoppouii\"\n",
    "\n",
    "newlist = s[::-1]\n",
    "\n",
    "# print(len())\n",
    "# print(newlist)\n",
    "\n",
    "list = []\n",
    "\n",
    "for i in range(0,len(s)):\n",
    "    for j in range(0,len(newlist)):\n",
    "        if s.index(s[i]) == newlist.index(newlist[j]) and s[i] == newlist[j]:\n",
    "            list.append(s[i])\n",
    "\n",
    "print(list)"
   ]
  },
  {
   "cell_type": "code",
   "execution_count": 32,
   "metadata": {},
   "outputs": [
    {
     "name": "stdout",
     "output_type": "stream",
     "text": [
      "<bound method A.methodA of <__main__.B object at 0x000001CB3F732610>>\n"
     ]
    }
   ],
   "source": [
    "class A:\n",
    "    def methodA():\n",
    "        print(\"A\")  \n",
    "        \n",
    "class B(A):\n",
    "    def methodB():\n",
    "        print(\"B\")\n",
    "        \n",
    "objectB = B()\n",
    "a = objectB.methodA\n",
    "\n",
    "print(a)"
   ]
  },
  {
   "cell_type": "code",
   "execution_count": null,
   "metadata": {},
   "outputs": [],
   "source": []
  }
 ],
 "metadata": {
  "kernelspec": {
   "display_name": "Python 3",
   "language": "python",
   "name": "python3"
  },
  "language_info": {
   "codemirror_mode": {
    "name": "ipython",
    "version": 3
   },
   "file_extension": ".py",
   "mimetype": "text/x-python",
   "name": "python",
   "nbconvert_exporter": "python",
   "pygments_lexer": "ipython3",
   "version": "3.8.3"
  }
 },
 "nbformat": 4,
 "nbformat_minor": 4
}
