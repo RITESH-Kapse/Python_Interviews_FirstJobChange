{
 "cells": [
  {
   "cell_type": "markdown",
   "metadata": {},
   "source": [
    "### Python Interview Coding Questions - April 2021"
   ]
  },
  {
   "cell_type": "markdown",
   "metadata": {},
   "source": [
    "###### Below two Codes were asked as Raja Software Labs Coding Round"
   ]
  },
  {
   "cell_type": "markdown",
   "metadata": {},
   "source": [
    "#### Q. Reverse words in a given String in Python without using default methods."
   ]
  },
  {
   "cell_type": "code",
   "execution_count": 11,
   "metadata": {},
   "outputs": [
    {
     "name": "stdout",
     "output_type": "stream",
     "text": [
      "code practice quiz geeks "
     ]
    }
   ],
   "source": [
    "# Dont use this code as it is -- > https://www.geeksforgeeks.org/reverse-words-given-string-python/\n",
    "#https://www.geeksforgeeks.org/reverse-words-in-a-given-string/\n",
    "\n",
    "# Q. Reverse words in a given String in Python without using default methods.\n",
    "\n",
    "# Input : str = geeks quiz practice code\n",
    "# Output : str = code practice quiz geeks\n",
    "      \n",
    "# Function to reverse the words\n",
    "# of a given strring\n",
    "def printRev(strr):\n",
    "     \n",
    "    # Stack to store each\n",
    "    # word of the strring\n",
    "    strr = strr.split(\" \")\n",
    "    st = []\n",
    " \n",
    "    # Store the whole strring\n",
    "    # in strream\n",
    "    for i in strr:\n",
    " \n",
    "        # Push each word of the\n",
    "        # into the stack\n",
    "        st.append(i)\n",
    " \n",
    "    # Print the in reverse\n",
    "    # order of the words\n",
    "    while len(st) > 0:\n",
    "        print(st[-1], end = \" \")\n",
    "        del st[-1]\n",
    " \n",
    "# Driver Code\n",
    "if __name__ == '__main__':\n",
    "     \n",
    "    strr = \"geeks quiz practice code\"\n",
    "     \n",
    "    printRev(strr)"
   ]
  },
  {
   "cell_type": "code",
   "execution_count": 12,
   "metadata": {},
   "outputs": [
    {
     "name": "stdout",
     "output_type": "stream",
     "text": [
      "code practice quiz geeks\n"
     ]
    }
   ],
   "source": [
    "#String Reverse using default methods of .split() and .reverse()\n",
    "def printRev(string):\n",
    "    # split by space and converting\n",
    "    # string to list\n",
    "    lis = list(string.split())\n",
    "    # reverse the list\n",
    "    lis.reverse()\n",
    "    # printing the list\n",
    "    print(*lis)\n",
    "\n",
    " \n",
    "# Driver Code\n",
    "if __name__ == '__main__':\n",
    " \n",
    "    strr = \"geeks quiz practice code\"\n",
    " \n",
    "    printRev(strr)"
   ]
  },
  {
   "cell_type": "markdown",
   "metadata": {},
   "source": [
    "####  Q. Given an array consist of 0's and 1's, re-arrange them in such a way that 0's should come before 1's."
   ]
  },
  {
   "cell_type": "code",
   "execution_count": 2,
   "metadata": {},
   "outputs": [
    {
     "name": "stdout",
     "output_type": "stream",
     "text": [
      "Array after segregation\n",
      "[0, 0, 1, 1, 1, 1]\n"
     ]
    }
   ],
   "source": [
    "#### Input array   =  [0, 1, 0, 1, 0, 0, 1, 1, 1, 0] \n",
    "#### Output array =  [0, 0, 0, 0, 0, 1, 1, 1, 1, 1] \n",
    "\n",
    "def ArraySegregate(arr,size):\n",
    "    \n",
    "    left = 0\n",
    "    right = size-1\n",
    "    \n",
    "    while left < right :\n",
    "        # Increment left index while we see 0 at left\n",
    "        while arr[left] == 0 and left < right:\n",
    "            left += 1\n",
    "            \n",
    "        # Decrement right index while we see 1 at right\n",
    "        while arr[right] == 1 and left< right:\n",
    "            right -= 1\n",
    "            \n",
    "        # If left is smaller than right then there is a 1 at left\n",
    "        # and a 0 at right. Exchange arr[left] and arr[right]\n",
    "        \n",
    "        if left < right:\n",
    "            arr[left] = 0\n",
    "            arr[right] = 1\n",
    "             \n",
    "            left += 1\n",
    "            right -= 1\n",
    "    return arr\n",
    "\n",
    "arr = [0, 1, 0, 1, 1, 1]\n",
    "size = len(arr)\n",
    "\n",
    "print(\"Array after segregation\")\n",
    "print(ArraySegregate(arr, size))\n",
    "\n",
    "\n",
    "# https://www.geeksforgeeks.org/segregate-0s-and-1s-in-an-array-by-traversing-array-once/"
   ]
  },
  {
   "cell_type": "markdown",
   "metadata": {},
   "source": [
    "#### Q. Fabonaci series in python code ?"
   ]
  },
  {
   "cell_type": "code",
   "execution_count": null,
   "metadata": {},
   "outputs": [],
   "source": [
    "nterms = int(input(\"How many terms? \"))\n",
    "\n",
    "# first two terms\n",
    "n1, n2 = 0, 1\n",
    "count = 0\n",
    "\n",
    "# check if the number of terms is valid\n",
    "if nterms <= 0:\n",
    "   print(\"Please enter a positive integer\")\n",
    "elif nterms == 1:\n",
    "   print(\"Fibonacci sequence upto\",nterms,\":\")\n",
    "   print(n1)\n",
    "else:\n",
    "   print(\"Fibonacci sequence:\")\n",
    "   while count < nterms:\n",
    "       print(n1)\n",
    "       nth = n1 + n2\n",
    "       # update values\n",
    "       n1 = n2\n",
    "       n2 = nth\n",
    "       count += 1"
   ]
  },
  {
   "cell_type": "markdown",
   "metadata": {},
   "source": [
    "#### Q. Write a decorator code to print arguments which are passed to different functions in code."
   ]
  },
  {
   "cell_type": "code",
   "execution_count": null,
   "metadata": {},
   "outputs": [],
   "source": [
    "@logger    ---> with 2,3\n",
    "def sum(a,b):\n",
    "    return a+b\n",
    "\n",
    "@logger --> with 2,3,4,5\n",
    "def mul(a*b*c*d):\n",
    "    return a*b*c*d"
   ]
  },
  {
   "cell_type": "code",
   "execution_count": 15,
   "metadata": {},
   "outputs": [
    {
     "name": "stdout",
     "output_type": "stream",
     "text": [
      "executing hello_world\n",
      "Hello World\n"
     ]
    }
   ],
   "source": [
    "#Decorator are just function that take function as first parameter and return a function\n",
    "\n",
    "def logging(f):\n",
    "  def decorator_function(*args, **kwargs):\n",
    "    print('executing '+f.__name__)\n",
    "    return f(*args, **kwargs)\n",
    "  return decorator_function\n",
    "#Use it like this\n",
    "\n",
    "@logging\n",
    "def hello_world():\n",
    "  print('Hello World')\n",
    "\n",
    "hello_world()"
   ]
  },
  {
   "cell_type": "markdown",
   "metadata": {},
   "source": [
    "#### Below are the two codes from Interview at \"TO THE NEW\" organization."
   ]
  },
  {
   "cell_type": "markdown",
   "metadata": {},
   "source": [
    "#### Q. Find maximum occurance of a in the string."
   ]
  },
  {
   "cell_type": "code",
   "execution_count": 13,
   "metadata": {},
   "outputs": [
    {
     "name": "stdout",
     "output_type": "stream",
     "text": [
      "a=8 b=4 "
     ]
    }
   ],
   "source": [
    "# Code :\n",
    "# s = \"aaabbaabaaba\"\n",
    "# find max occurance in input\n",
    "\n",
    "#Use frequency array to solve\n",
    "\n",
    "s = \"aaabbaabaaba\"\n",
    "freq = [0]*26\n",
    "\n",
    "for i in range(0,len(s)):\n",
    "    freq[ord(s[i])-97]+=1\n",
    "\n",
    "\n",
    "for i in range(0,26):\n",
    "    if freq[i]>1:\n",
    "        print(\"{}={}\".format(chr(i+97),freq[i]),end = ' ')"
   ]
  },
  {
   "cell_type": "markdown",
   "metadata": {},
   "source": [
    "#### Q. find if it has max opening and closing braces in the string. Check for balanced parentheses in Python"
   ]
  },
  {
   "cell_type": "code",
   "execution_count": 19,
   "metadata": {},
   "outputs": [
    {
     "name": "stdout",
     "output_type": "stream",
     "text": [
      "balanced\n"
     ]
    }
   ],
   "source": [
    "# Code :\n",
    "#refer --> https://www.geeksforgeeks.org/check-for-balanced-parentheses-in-python/\n",
    "s = \"()()()((()))()\"\n",
    "\n",
    "open_list = [\"(\"]\n",
    "close_list = [\")\"]\n",
    "\n",
    "list1 = []\n",
    "\n",
    "for i in s:\n",
    "    if i in open_list:\n",
    "        list1.append(i)\n",
    "    elif i in close_list:\n",
    "        pos = close_list.index(i)\n",
    "        \n",
    "        if (len(list1)>0) and (open_list[pos] == list1[len(list1)-1]):\n",
    "            list1.pop()\n",
    "            \n",
    "        else:\n",
    "            print(\"unbalanced\")\n",
    "            \n",
    "\n",
    "if len(list1) == 0:\n",
    "    print(\"balanced\")\n",
    "else:\n",
    "    print(\"unbalanced\")\n"
   ]
  },
  {
   "cell_type": "markdown",
   "metadata": {},
   "source": [
    "#### Q. Sort list without sort functions :"
   ]
  },
  {
   "cell_type": "code",
   "execution_count": null,
   "metadata": {},
   "outputs": [],
   "source": [
    "unsorted_list = [3, 1, 0, 9, 4]\n",
    "sorted_list = []\n",
    "\n",
    "while unsorted_list:\n",
    "    minimum = unsorted_list[0]\n",
    "    for item in unsorted_list:\n",
    "        if item < minimum:\n",
    "            minimum = item\n",
    "    sorted_list.append(minimum)\n",
    "    unsorted_list.remove(minimum)\n",
    "\n",
    "print(sorted_list)\n",
    "\n",
    "---->OR<----\n",
    "        \n",
    "my_list = [-15, -26, 15, 1, 23, -64, 23, 76]\n",
    "new_list = []\n",
    "\n",
    "while my_list:\n",
    "    min = my_list[0]  \n",
    "    for x in my_list: \n",
    "        if x < min:\n",
    "            min = x\n",
    "    new_list.append(min)\n",
    "    my_list.remove(min)    \n",
    "\n",
    "print(new_list)"
   ]
  },
  {
   "cell_type": "markdown",
   "metadata": {},
   "source": [
    "#### Q. Write a code to sort the dictionary in python"
   ]
  },
  {
   "cell_type": "code",
   "execution_count": null,
   "metadata": {},
   "outputs": [],
   "source": [
    "employees = [\n",
    "    {'Name': 'Alan Turing', 'age': 25, 'salary': 10000},\n",
    "    {'Name': 'Sharon Lin', 'age': 30, 'salary': 8000},\n",
    "    {'Name': 'John Hopkins', 'age': 18, 'salary': 1000},\n",
    "    {'Name': 'Mikhail Tal', 'age': 40, 'salary': 15000},\n",
    "]\n",
    "\n",
    "# custom functions to get employee info\n",
    "def get_name(employee):\n",
    "    return employee.get('Name')\n",
    "\n",
    "\n",
    "def get_age(employee):\n",
    "    return employee.get('age')\n",
    "\n",
    "\n",
    "def get_salary(employee):\n",
    "    return employee.get('salary')\n",
    "\n",
    "\n",
    "# # sort by name (Ascending order)\n",
    "# employees.sort(key=get_name)\n",
    "# print(employees, end='\\n\\n')\n",
    "\n",
    "# # sort by Age (Ascending order)\n",
    "# employees.sort(key=get_age)\n",
    "# print(employees, end='\\n\\n')\n",
    "\n",
    "# sort by salary (Descending order)\n",
    "employees.sort(key=get_salary, reverse=True)\n",
    "print(employees, end='\\n\\n')"
   ]
  },
  {
   "cell_type": "markdown",
   "metadata": {},
   "source": [
    "#### Below are the two codes from FIS Global Organization."
   ]
  },
  {
   "cell_type": "markdown",
   "metadata": {},
   "source": [
    "#### Q. Write a code to find the palindrome in middle of string"
   ]
  },
  {
   "cell_type": "code",
   "execution_count": null,
   "metadata": {},
   "outputs": [],
   "source": [
    "# Longest Palindromic Substring\n",
    "# Input: s = \"yuyoppouii\"\n",
    "# Output: \"oppo\"\n",
    "s = \"yuyoppouii\"\n",
    "\n",
    "newlist = s[::-1]\n",
    "\n",
    "# print(len())\n",
    "# print(newlist)\n",
    "\n",
    "list = []\n",
    "\n",
    "for i in range(0,len(s)):\n",
    "    for j in range(0,len(newlist)):\n",
    "        if s.index(s[i]) == newlist.index(newlist[j]) and s[i] == newlist[j]:\n",
    "            list.append(s[i])\n",
    "\n",
    "print(list)"
   ]
  },
  {
   "cell_type": "markdown",
   "metadata": {},
   "source": [
    "#### Q. Correct the below inheritance code :"
   ]
  },
  {
   "cell_type": "code",
   "execution_count": null,
   "metadata": {},
   "outputs": [],
   "source": [
    "\n",
    "    \n",
    "class A:\n",
    "def methodA():\n",
    "    print(\"A\")  \n",
    "        \n",
    "class B(A):\n",
    "    def methodB():\n",
    "        print(\"B\")\n",
    "        \n",
    "objectB = B()\n",
    "a = objectB.methodA\n",
    "\n",
    "\n",
    "OR --->\n",
    "class ParentClass:\n",
    "    v1 = \"from parent class -v1\"\n",
    "    v2 =  \"from parent class -v2\"\n",
    "    \n",
    "class ChildClass(ParentClass):\n",
    "    pass\n",
    "\n",
    "\n",
    "print(ChildClass.v1)\n",
    "print(ChildClass.v2)"
   ]
  },
  {
   "cell_type": "markdown",
   "metadata": {},
   "source": [
    "#### Below is the code from interview at Parkar Digital"
   ]
  },
  {
   "cell_type": "markdown",
   "metadata": {},
   "source": [
    "#### Q. What is output of below code and why explain ? "
   ]
  },
  {
   "cell_type": "code",
   "execution_count": 18,
   "metadata": {},
   "outputs": [
    {
     "name": "stdout",
     "output_type": "stream",
     "text": [
      "[12, 12, 12, 12]\n"
     ]
    }
   ],
   "source": [
    "def multiplexers ():\n",
    "\n",
    "    return [lambda n: index * n for index in range (4)]\n",
    "\n",
    "print([m(4) for m in multiplexers()])"
   ]
  },
  {
   "cell_type": "markdown",
   "metadata": {},
   "source": [
    "#### Q. Find substring in string ?"
   ]
  },
  {
   "cell_type": "code",
   "execution_count": 5,
   "metadata": {},
   "outputs": [
    {
     "name": "stdout",
     "output_type": "stream",
     "text": [
      "['thing', 'thing']\n"
     ]
    }
   ],
   "source": [
    "import re\n",
    "# simple find all\n",
    "sample = \"Nothing lasts... but nothing is lost\"\n",
    "found = re.findall(\"thing\", sample)\n",
    "print(found)"
   ]
  },
  {
   "cell_type": "markdown",
   "metadata": {},
   "source": [
    "#### Q Explain right and left rotation as per input ?"
   ]
  },
  {
   "cell_type": "code",
   "execution_count": null,
   "metadata": {},
   "outputs": [],
   "source": [
    "def reverseRightAlgo(arr,i,j):\n",
    "    while(i<j):\n",
    "        temp = arr[i]\n",
    "        arr[i] = arr[j]\n",
    "        arr[j]= temp\n",
    "        i +=1\n",
    "        j -=1\n",
    "        \n",
    "def printArr(arr,n):\n",
    "    for i in range(n):\n",
    "        print(arr[i], end = '')\n",
    "    \n",
    "    print()\n",
    "\n",
    "def main():\n",
    "    \n",
    "    t = int(input())\n",
    "    while (t > 0):\n",
    "        n,k = map(int,input().split())\n",
    "        arr = list(map(int,input().split()))\n",
    "\n",
    "        reverseRightAlgo(arr,n-k,n-1)\n",
    "        reverseRightAlgo(arr,0,n-k-1)\n",
    "        reverseRightAlgo(arr,0,n-1)\n",
    "        printArr(arr,n)\n",
    "        t = t-1\n",
    "        \n",
    "if __name__ == '__main__':\n",
    "    main()"
   ]
  },
  {
   "cell_type": "code",
   "execution_count": null,
   "metadata": {},
   "outputs": [],
   "source": [
    "#Left Rotation Code\n",
    "def reverseLeftAlgo(arr,i,j):\n",
    "    while(i<j):\n",
    "        temp = arr[i]\n",
    "        arr[i] = arr[j]\n",
    "        arr[j]= temp\n",
    "        i +=1\n",
    "        j -=1\n",
    "        \n",
    "def printArr(arr,n):\n",
    "    for i in range(n):\n",
    "        print(arr[i], end = '')\n",
    "    \n",
    "    print()\n",
    "\n",
    "def main():\n",
    "    \n",
    "    t = int(input())\n",
    "    while (t > 0):\n",
    "        n,k = map(int,input().split())\n",
    "        arr = list(map(int,input().split()))\n",
    "\n",
    "        reverseLeftAlgo(arr,0,k-1)\n",
    "        reverseLeftAlgo(arr,k,n-1)\n",
    "        reverseLeftAlgo(arr,0,n-1)\n",
    "        \n",
    "        printArr(arr,n)\n",
    "        t = t-1\n",
    "        \n",
    "if __name__ == '__main__':\n",
    "    main()"
   ]
  },
  {
   "cell_type": "markdown",
   "metadata": {},
   "source": [
    "#### Below is the code from Amdocs coding exam"
   ]
  },
  {
   "cell_type": "code",
   "execution_count": null,
   "metadata": {},
   "outputs": [],
   "source": [
    "\n",
    "input = [\"hello\",\"world\",\"please\",\"code\",\"daily\",\"hello\",\"please\"]\n",
    "\n",
    "op --> \"hello\", 2\n",
    "        \"world\",1\n",
    "        \"please\",2\n",
    "        \n",
    "        "
   ]
  },
  {
   "cell_type": "markdown",
   "metadata": {},
   "source": [
    "#### Q. If input is given in the form of string, find the maximum occurance of the character in alphabetical order."
   ]
  },
  {
   "cell_type": "code",
   "execution_count": 2,
   "metadata": {},
   "outputs": [
    {
     "name": "stdout",
     "output_type": "stream",
     "text": [
      "3\n",
      "java\n",
      "a=2 \n",
      "ritesh\n",
      "-1\n",
      "ravindra\n",
      "a=2 r=2 \n"
     ]
    }
   ],
   "source": [
    "#\n",
    "#Ex : java --> output --> a=2\n",
    "#Ex : algorithm --> output = -1 since there are no repetations\n",
    "\n",
    "# Here we can use concept of frequency array(But it needs integers as index)\n",
    "#So lets convert strings using its Ascii values \n",
    "# a-97 , b -98, c-99 ...z -122 \n",
    "# A- 65, B-66 ...\n",
    "\n",
    "#So to get ascii value of character in python -- it has function called \"ord()\" --> ord(a) = 97\n",
    "\n",
    "# To start the count from 0 instead of 97, we can substract the value from 97(for small a). ex : freq[ord[str(i)]-97]\n",
    "\n",
    "#Now when we need to convert back the interger value to char we use : \"chr(97)-->a\"\n",
    "\n",
    "t = int(input())\n",
    "\n",
    "while(t>0):\n",
    "    str = input()\n",
    "    freq = [0]*26\n",
    "    \n",
    "    for i in range(len(str)):\n",
    "        freq[ord(str[i])-97]+=1\n",
    "      \n",
    "    flag = 0\n",
    "    \n",
    "    for i in range(0,26):\n",
    "        if freq[i] > 1:\n",
    "            print(\"{}={}\".format(chr(i+97),freq[i]),end = ' ')\n",
    "            flag = 1  \n",
    "    \n",
    "    if(flag==0):\n",
    "        print(\"-1\")\n",
    "    else:\n",
    "        print()\n",
    "    \n",
    "    t = t-1"
   ]
  },
  {
   "cell_type": "code",
   "execution_count": 47,
   "metadata": {},
   "outputs": [
    {
     "name": "stdout",
     "output_type": "stream",
     "text": [
      "6 123\n",
      "1 10\n",
      "2 11\n",
      "6 15\n",
      "9 18\n",
      "[10, 18]\n"
     ]
    }
   ],
   "source": [
    "# Print all the numbers in the range given as input which can be divided by sum of their digits.\n",
    "\n",
    "# Inputs --> i=10 , j = 20\n",
    "\n",
    "# Output --> 10/1+0 = 10\n",
    "#             12/1+2 = 4\n",
    "#             18/1+8 = 2\n",
    "#             20/2+0 = 10\n",
    "            \n",
    "#             so output --> 10,4,2,10\n",
    "            \n",
    "sum = 0    \n",
    "n = [123,10,11,15,18]\n",
    "list1=[]\n",
    "\n",
    "for i in range(0,len(n)):\n",
    "    temp = n[i]\n",
    "    a = n[i]\n",
    "    while a > 0:\n",
    "        b = a % 10\n",
    "        sum += b\n",
    "        a = a //10\n",
    "\n",
    "\n",
    "        \n",
    "    \n",
    "    if (temp % sum == 0):\n",
    "        list1.append(temp)\n",
    "    print(sum,temp)\n",
    "  \n",
    "    sum = 0\n",
    "\n",
    "print(list1)\n",
    "           \n",
    "            "
   ]
  },
  {
   "cell_type": "code",
   "execution_count": null,
   "metadata": {},
   "outputs": [],
   "source": [
    "list1 = [-1,1,3,5,7,9]\n",
    "\n",
    "list2 = [-2,2,3,4,5,6]\n",
    "\n",
    "write a code to get below output -->\n",
    "\n",
    "o/p --> [-2,-1,1,2,3,4,5,6,7,9]"
   ]
  },
  {
   "cell_type": "code",
   "execution_count": 16,
   "metadata": {},
   "outputs": [
    {
     "name": "stdout",
     "output_type": "stream",
     "text": [
      "32\n"
     ]
    }
   ],
   "source": [
    "# Give examples of map,filter and reduce with codes\n",
    "\n",
    "# python reduce function\n",
    "#https://www.geeksforgeeks.org/reduce-in-python/\n",
    "\n",
    "#max num in list\n",
    "from functools import reduce\n",
    "items = [1, 24, 17, 14, 9, 32, 2]\n",
    "all_max = reduce(lambda a,b: a if (a > b) else b, items)\n",
    " \n",
    "print (all_max) # 32"
   ]
  },
  {
   "cell_type": "markdown",
   "metadata": {},
   "source": [
    "#### Example of dictionary comp in python"
   ]
  },
  {
   "cell_type": "code",
   "execution_count": 20,
   "metadata": {},
   "outputs": [
    {
     "name": "stdout",
     "output_type": "stream",
     "text": [
      "{'a': 1, 'b': 4}\n"
     ]
    }
   ],
   "source": [
    "simple_dict = {\n",
    "    'a': 1,\n",
    "    'b': 2\n",
    "}\n",
    "my_dict = {key: value**2 for key,value in simple_dict.items()}\n",
    "print(my_dict)"
   ]
  },
  {
   "cell_type": "markdown",
   "metadata": {},
   "source": [
    "#### Example of zip function"
   ]
  },
  {
   "cell_type": "code",
   "execution_count": 22,
   "metadata": {},
   "outputs": [
    {
     "data": {
      "text/plain": [
       "[(1, 'a'), (2, 'b'), (3, 'c')]"
      ]
     },
     "execution_count": 22,
     "metadata": {},
     "output_type": "execute_result"
    }
   ],
   "source": [
    "numbers = [1, 2, 3]\n",
    "letters = ['a', 'b', 'c']\n",
    "zipped = zip(numbers, letters)\n",
    "\n",
    "list(zipped)"
   ]
  },
  {
   "cell_type": "code",
   "execution_count": null,
   "metadata": {},
   "outputs": [],
   "source": [
    "Explain CNN in detail\n",
    "https://towardsdatascience.com/a-comprehensive-guide-to-convolutional-neural-networks-the-eli5-way-3bd2b1164a53\n",
    "https://www.analyticsvidhya.com/blog/2020/02/learn-image-classification-cnn-convolutional-neural-networks-3-datasets/"
   ]
  },
  {
   "cell_type": "markdown",
   "metadata": {},
   "source": [
    "### Explain OOPS with example for each concept in Python"
   ]
  },
  {
   "cell_type": "markdown",
   "metadata": {},
   "source": [
    "Encapsulation -- group related elements and functions together to reduce the complexity, increase reusability.\n",
    "\n",
    "Abstraction -- hide details and complexity and show only essentials. Reduces complexity and isolate impact of chnage on code.\n",
    "\n",
    "Inheritance -- eleminate redundant code \n",
    "\n",
    "Polymorphrism- many forms-- refactor ugly switch/case statement."
   ]
  },
  {
   "cell_type": "markdown",
   "metadata": {},
   "source": [
    "#### Inheritance"
   ]
  },
  {
   "cell_type": "markdown",
   "metadata": {},
   "source": [
    "Defin -- >Gaining the attribute and method from one class to another :\n",
    "\n",
    "Types-->\n",
    "\n",
    "1. single\n",
    "2. multi-level\n",
    "3. hierarchical\n",
    "4. multiple"
   ]
  },
  {
   "cell_type": "code",
   "execution_count": 23,
   "metadata": {},
   "outputs": [
    {
     "name": "stdout",
     "output_type": "stream",
     "text": [
      "from parent class -v1\n",
      "from parent class -v2\n"
     ]
    }
   ],
   "source": [
    "class ParentClass:\n",
    "    v1 = \"from parent class -v1\"\n",
    "    v2 =  \"from parent class -v2\"\n",
    "    \n",
    "class ChildClass(ParentClass):\n",
    "    pass\n",
    "\n",
    "\n",
    "print(ChildClass.v1)\n",
    "print(ChildClass.v2)"
   ]
  },
  {
   "cell_type": "code",
   "execution_count": null,
   "metadata": {},
   "outputs": [],
   "source": []
  },
  {
   "cell_type": "markdown",
   "metadata": {},
   "source": [
    "#### Zscaler -- Shell Codility test questions."
   ]
  },
  {
   "cell_type": "code",
   "execution_count": 33,
   "metadata": {},
   "outputs": [
    {
     "name": "stdout",
     "output_type": "stream",
     "text": [
      "Enter the number between 0 to 50010\n"
     ]
    },
    {
     "data": {
      "text/plain": [
       "'Sun'"
      ]
     },
     "execution_count": 33,
     "metadata": {},
     "output_type": "execute_result"
    }
   ],
   "source": [
    "import math \n",
    "list1 = [\"Mon\",\"Tue\",\"Wed\",\"Thu\",\"Fri\",\"Sat\",\"Sun\"]\n",
    "\n",
    "# Write function which takes list1 and K as input where K ranges from 0-500 inclusive. i.e. function returns the day of list which\n",
    "# is K days later\n",
    "\n",
    "k = input(\"Enter the number between 0 to 500\")\n",
    "\n",
    "def solution(list1,k):\n",
    "    \n",
    "#     print(k)\n",
    "#     for k in range(0,k+1):\n",
    "        while int(k) > len(list1):\n",
    "            k = int(k)//7\n",
    "            \n",
    "        var = len(list1)-k\n",
    "        \n",
    "        return list1[var]\n",
    "        \n",
    "        while k > 6:\n",
    "            sample = k/7\n",
    "        \n",
    "        sample2 =7*math.floor(6.14)\n",
    "            \n",
    "            \n",
    "\n",
    "solution(list1,k)"
   ]
  },
  {
   "cell_type": "markdown",
   "metadata": {},
   "source": [
    "#### Q. Check if given number is palindrome(integer)"
   ]
  },
  {
   "cell_type": "code",
   "execution_count": 1,
   "metadata": {},
   "outputs": [
    {
     "name": "stdout",
     "output_type": "stream",
     "text": [
      "1\n",
      "2\n",
      "1\n",
      "2\n",
      "1\n",
      "[1, 2, 1, 2, 1]\n",
      "[1, 2, 1, 2, 1]\n",
      "Number is palindrome\n"
     ]
    }
   ],
   "source": [
    "import math\n",
    "sample = 12121\n",
    "\n",
    "list1 = []\n",
    "\n",
    "while sample > 1:\n",
    "    temp = math.floor(sample%10)\n",
    "    print(temp)\n",
    "    list1.append(temp)\n",
    "    sample = sample/10\n",
    "\n",
    "list2 = list1[::-1]\n",
    "print(list1)\n",
    "print(list2)\n",
    "\n",
    "counter = 0 \n",
    "\n",
    "for i in range(0,len(list1)):\n",
    "        if list1[i] == list2[i]:\n",
    "            counter += 1\n",
    "\n",
    "if counter == len(list1):\n",
    "    print(\"Number is palindrome\")"
   ]
  },
  {
   "cell_type": "code",
   "execution_count": null,
   "metadata": {},
   "outputs": [],
   "source": []
  },
  {
   "cell_type": "code",
   "execution_count": null,
   "metadata": {},
   "outputs": [],
   "source": []
  },
  {
   "cell_type": "code",
   "execution_count": null,
   "metadata": {},
   "outputs": [],
   "source": []
  },
  {
   "cell_type": "code",
   "execution_count": null,
   "metadata": {},
   "outputs": [],
   "source": []
  },
  {
   "cell_type": "code",
   "execution_count": null,
   "metadata": {},
   "outputs": [],
   "source": []
  },
  {
   "cell_type": "code",
   "execution_count": null,
   "metadata": {},
   "outputs": [],
   "source": []
  },
  {
   "cell_type": "code",
   "execution_count": null,
   "metadata": {},
   "outputs": [],
   "source": []
  },
  {
   "cell_type": "code",
   "execution_count": null,
   "metadata": {},
   "outputs": [],
   "source": []
  },
  {
   "cell_type": "code",
   "execution_count": null,
   "metadata": {},
   "outputs": [],
   "source": []
  },
  {
   "cell_type": "code",
   "execution_count": null,
   "metadata": {},
   "outputs": [],
   "source": [
    "#Codes\n",
    "String operations\n",
    "leap year\n",
    "prime numbers , addition etc\n",
    "freq of char in string\n",
    "string compression\n",
    "\n",
    "link list coding"
   ]
  },
  {
   "cell_type": "code",
   "execution_count": null,
   "metadata": {},
   "outputs": [],
   "source": [
    "\tcode :\n",
    "1.\t\tclass A:\n",
    "\t\t\tpass\n",
    "\t\t\n",
    "\t\tobj = A()\n",
    "\t\t\n",
    "\t\tprint(obj)\n",
    "\t\t\n",
    "2.\t\tclass A:\n",
    "\t\t\ta = 10\n",
    "\t\t\n",
    "\t\tobj = A()\n",
    "\t\t\n",
    "\t\tprint(obj)\t\n",
    "\t\t\n",
    "3.\t\tclass A:\n",
    "\t\t\ta = 10\n",
    "\t\t\n",
    "\t\tobj = A()\n",
    "\t\t\n",
    "\t\tprint(obj)\t\t\n",
    "4.\t\tclass A:\n",
    "\t\t\tdef __self__(self):\n",
    "\t\t\t\tprint(\"Ritesh\")\n",
    "\t\t\n",
    "\t\tobj = A()\n",
    "\t\t\n",
    "\t\tprint(obj)\n",
    "5.\t\tclass A:\n",
    "\t\t\tdef __self__(self):\n",
    "\t\t\t\tprint(\"Ritesh\")\n",
    "\t\t\n",
    "\t\tobj = A()\n",
    "\t\t\n",
    "\t\tprint(obj())\n",
    "6.\t\tclass A:\n",
    "\t\t\tdef __init__(self):\n",
    "\t\t\t\tprint(\"Ritesh\")\n",
    "\t\t\n",
    "\t\tobj = A()\n",
    "\t\t\n",
    "\t\tprint(obj())\n",
    "7.\t\tclass A:\n",
    "\t\t\tdef __init__(self):\n",
    "\t\t\t\tprint(\"Ritesh\")\n",
    "\t\t\n",
    "\t\tobj = A()\n",
    "\t\t\n",
    "\t\tprint(obj)\n",
    "8.\t\tclass A:\n",
    "\t\t\tdef __call__(self):\n",
    "\t\t\t\tprint(\"Ritesh\")\n",
    "\t\t\n",
    "\t\tobj = A()\n",
    "\t\t\n",
    "\t\tprint(obj())"
   ]
  }
 ],
 "metadata": {
  "kernelspec": {
   "display_name": "Python 3",
   "language": "python",
   "name": "python3"
  },
  "language_info": {
   "codemirror_mode": {
    "name": "ipython",
    "version": 3
   },
   "file_extension": ".py",
   "mimetype": "text/x-python",
   "name": "python",
   "nbconvert_exporter": "python",
   "pygments_lexer": "ipython3",
   "version": "3.8.3"
  }
 },
 "nbformat": 4,
 "nbformat_minor": 4
}
