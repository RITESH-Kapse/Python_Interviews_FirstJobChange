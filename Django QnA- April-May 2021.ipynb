{
 "cells": [
  {
   "cell_type": "markdown",
   "metadata": {},
   "source": [
    "#### How to write serializers inside django rest api"
   ]
  },
  {
   "cell_type": "code",
   "execution_count": null,
   "metadata": {},
   "outputs": [],
   "source": [
    "#Note : you should create serializers.py file and call models inside the same.\n",
    "# COde: \n",
    "\n",
    "from django.contrib.auth.models import User, Group\n",
    "from rest_framework import serializers\n",
    "\n",
    "\n",
    "class UserSerializer(serializers.HyperlinkedModelSerializer):\n",
    "    class Meta:\n",
    "        model = User\n",
    "        fields = ['url', 'username', 'email', 'groups']\n",
    "\n",
    "\n",
    "class GroupSerializer(serializers.HyperlinkedModelSerializer):\n",
    "    class Meta:\n",
    "        model = Group\n",
    "        fields = ['url', 'name']"
   ]
  },
  {
   "cell_type": "code",
   "execution_count": null,
   "metadata": {},
   "outputs": [],
   "source": [
    "What are signals?\n",
    "What are wsgi?\n",
    "\n",
    "what is manage.py ,  __init_.py files\n",
    "\n",
    "Where static contents are stored?\n",
    "\n",
    "How to check the db connections in django ?\n",
    "\n",
    "what are sessions ?\n",
    "\n",
    "what are field class ?\n",
    "\n",
    "what are django mixins ?\n",
    "\n",
    "what are contexts ?\n",
    "\n",
    "Iterators and generators example ?\n",
    "\n",
    "What are catching strategies in django ?\n",
    "\n",
    "What are middlewares ?\n",
    "\n",
    "When we use get or filters in sheel while orm query?\n",
    "\n",
    "What are file based sessions ?\n",
    "\n",
    "What are django exceptions ?\n",
    "\n",
    "How to update django admin portal ?\n",
    "\n",
    "\n",
    "How deployment is performed over AWS server for django projects ?\n",
    "\n",
    "\n",
    "why django over flask?\n",
    "\n",
    "\n",
    "Write Django commands to run the project from scratch ?\n",
    "\n",
    "What are Dbs used and diff in sql and non sql db?\n",
    "\n",
    "explain mysql, postgres , sqllite3  and how to update in settings.py ?\n",
    "\n",
    "what is mongoDB, graphql , DynamoDb ?\n",
    "\n",
    "Explain AWS services , Azure services ?\n",
    "\n"
   ]
  },
  {
   "cell_type": "code",
   "execution_count": null,
   "metadata": {},
   "outputs": [],
   "source": [
    "Explain Sql Injection\n",
    "\n",
    "SQL injection is a code injection technique that might destroy your database. \n",
    "SQL injection is one of the most common web hacking techniques.\n",
    "SQL injection is a code injection technique used to attack data-driven applications, in which malicious SQL statements are inserted into an entry field for execution."
   ]
  },
  {
   "cell_type": "code",
   "execution_count": null,
   "metadata": {},
   "outputs": [],
   "source": [
    "Explain left,right,inner outer joins using raw queries ?\n",
    "    https://www.w3schools.com/sql/sql_join.asp\n",
    "        \n",
    "What is default join ? --> inner."
   ]
  },
  {
   "cell_type": "code",
   "execution_count": null,
   "metadata": {},
   "outputs": [],
   "source": [
    "#Inner Join\n",
    "\n",
    "SELECT column_name(s)\n",
    "\n",
    "FROM table1\n",
    "\n",
    "INNER JOIN table2\n",
    " ON table1.column_name = table2.column_name;"
   ]
  },
  {
   "cell_type": "code",
   "execution_count": null,
   "metadata": {},
   "outputs": [],
   "source": [
    "Python Requests --> get ,put,patch,delete,post\n",
    "\n",
    "https://www.geeksforgeeks.org/python-requests-tutorial/\n",
    "    "
   ]
  },
  {
   "cell_type": "code",
   "execution_count": null,
   "metadata": {},
   "outputs": [],
   "source": [
    "ML model deploy using Django tutorials :\n",
    "    \n",
    "https://medium.com/saarthi-ai/deploying-a-machine-learning-model-using-django-part-1-6c7de05c8d7\n",
    "    \n",
    "https://israelaminu.medium.com/deploying-ml-models-using-django-rest-api-part-1-da0370a07b90    \n",
    "https://medium.datadriveninvestor.com/deploying-ml-models-using-django-rest-api-part-2-84cea50b3c83\n",
    "    \n",
    "https://www.analyticsvidhya.com/blog/2021/02/machine-learning-model-deployment-using-django/"
   ]
  },
  {
   "cell_type": "code",
   "execution_count": null,
   "metadata": {},
   "outputs": [],
   "source": [
    "# Top linux question and answers :\n",
    "https://www.guru99.com/linux-interview-questions-answers.html\n",
    "    "
   ]
  },
  {
   "cell_type": "markdown",
   "metadata": {},
   "source": [
    "#### SQL interview questions :\n",
    "\n",
    "https://www.interviewbit.com/sql-interview-questions/\n",
    "\n",
    "https://www.guru99.com/sql-interview-questions-answers.html\n",
    "    \n",
    "  1. What is DBMS?\n",
    "  2. What is RDBMS?\n",
    "  3. What is SQL?\n",
    "  4. What is a Database?\n",
    "  5. What are tables and Fields?\n",
    "  6. What is a primary key?\n",
    "  7. What is a unique key?\n",
    "  8. What is a foreign key?\n",
    "  9. What is a join?\n",
    "  10. What are the types of join and explain each?\n",
    "  11. What is normalization?\n",
    "  12. What is Denormalization.\n",
    "  13. What are all the different normalizations?\n",
    "  14. What is a View?\n",
    "  15. What is an Index?\n",
    "  16. What are all the different types of indexes?\n",
    "  17. What is a Cursor?\n",
    "  18. What is a relationship and what are they?\n",
    "  19. What is a query?\n",
    "  20. What is subquery?\n",
    "  21. What are the types of subquery?\n",
    "  22. What is a stored procedure?\n",
    "  23. What is a trigger?\n",
    "  24. What is the difference between DELETE and TRUNCATE commands?\n",
    "  25. What are local and global variables and their differences?\n",
    "  26. What is a constraint?\n",
    "  27. What is data Integrity?\n",
    "  28. What is Auto Increment?\n",
    "  29. What is the difference between Cluster and Non-Cluster Index?\n",
    "  30. What is Datawarehouse?\n",
    "  31. What is Self-Join?\n",
    "  32. What is Cross-Join?\n",
    "  33. What is user defined functions?\n",
    "  34. What are all types of user defined functions?\n",
    "  35. What is collation?\n",
    "  36. What are all different types of collation sensitivity?\n",
    "  37. Advantages and Disadvantages of Stored Procedure?\n",
    "  38. What is Online Transaction Processing (OLTP)?\n",
    "  39. What is CLAUSE?\n",
    "  40. What is recursive stored procedure?\n",
    "  41. What is Union, minus and Interact commands?\n",
    "  42. What is an ALIAS command?\n",
    "  43. What is the difference between TRUNCATE and DROP statements?\n",
    "  44. What are aggregate and scalar functions?\n",
    "  45. How can you create an empty table from an existing table?\n",
    "  46. How to fetch common records from two tables?\n",
    "  47. How to fetch alternate records from a table?\n",
    "  48. How to select unique records from a table?\n",
    "  49. What is the command used to fetch first 5 characters of the string?\n",
    "  50. Which operator is used in query for pattern matching?"
   ]
  },
  {
   "cell_type": "code",
   "execution_count": null,
   "metadata": {},
   "outputs": [],
   "source": []
  }
 ],
 "metadata": {
  "kernelspec": {
   "display_name": "Python 3",
   "language": "python",
   "name": "python3"
  },
  "language_info": {
   "codemirror_mode": {
    "name": "ipython",
    "version": 3
   },
   "file_extension": ".py",
   "mimetype": "text/x-python",
   "name": "python",
   "nbconvert_exporter": "python",
   "pygments_lexer": "ipython3",
   "version": "3.8.3"
  }
 },
 "nbformat": 4,
 "nbformat_minor": 4
}
