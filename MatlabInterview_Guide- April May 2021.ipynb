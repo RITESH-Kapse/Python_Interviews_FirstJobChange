{
 "cells": [
  {
   "cell_type": "code",
   "execution_count": null,
   "metadata": {},
   "outputs": [],
   "source": [
    "Matlab Questions\n",
    "\n",
    "What is Aspice and ISO26262 ?\n",
    "What are storage classes in matlab\n",
    "what is default matlab datatype\n",
    "What is use of solver in matlab explain in details\n",
    "why we export matlab models in embedded codes only\n",
    "The Difference Between Extrapolation and Interpolation\n",
    "How to enter the time conditions in stateflow for transitions\n",
    "How to declare variables in simulink and how to check them in codes\n",
    "What are storage classes in matlab\n",
    "what is default matlab datatype\n",
    "What is use of solver in matlab explain in details\n",
    "why we export matlab models in embedded codes only\n",
    "The Difference Between Extrapolation and Interpolation\n",
    "How to enter the time conditions in stateflow for transitions\n",
    "How to declare variables in simulink and how to check them in codes"
   ]
  },
  {
   "cell_type": "code",
   "execution_count": null,
   "metadata": {},
   "outputs": [],
   "source": [
    "ASPICE levels\n",
    "https://www.lhpes.com/blog/what-is-aspice-in-automotive#:~:text=Automotive%20Software%20Performance%20Improvement%20and,parts%20in%20the%20automotive%20industry.\n",
    "    "
   ]
  },
  {
   "cell_type": "code",
   "execution_count": null,
   "metadata": {},
   "outputs": [],
   "source": [
    "Explain IBM doors :\n",
    "    https://www.ibm.com/docs/en/ermd/9.7.0?topic=overview-doors"
   ]
  },
  {
   "cell_type": "code",
   "execution_count": null,
   "metadata": {},
   "outputs": [],
   "source": [
    "#convert matlab code to c++\n",
    "\n",
    "mex -setup\n",
    "        --> here we need to select compiler required to convert matlab to c++ codes.\n",
    "    \n",
    "then check which file you need to convert to cpp.\n",
    "go to command window and type >>coder\n",
    "    \n",
    "    give a project name as function name and save it on some location.\n",
    "    \n",
    "    click on add files, select folder .\n",
    "    In cpp, we have to decide the type of variable defination.\n",
    "    So define the type of all the variable inputs to matlab function which needs conversion.\n",
    "    In project settings , select language as C++ , dynamic memory allocation for varible sized array.\n",
    "    select generate code only option.\n",
    "    \n",
    "    click on build.\n",
    "    \n",
    "    check the source code in code gen folder.\n",
    "    \n",
    "    "
   ]
  },
  {
   "cell_type": "code",
   "execution_count": null,
   "metadata": {},
   "outputs": [],
   "source": [
    "c --> procedural oriented language , top down approach etc.\n",
    "\n",
    "c ++ -> OOPS , bottom ups, \n",
    "\n",
    "object is instance of class.\n",
    "\n",
    "User defined datatype --> class --> combination of objects of similiar type., Blueprint of object of similiar types.\n",
    "\n",
    "encapsulation -- data binding\n",
    "abstraction -- data hiding\n",
    "inheritance -- reusability\n",
    "polymorphrism -- ability to take more than one thing. Single entity multiple usages. achieved by overloading.\n"
   ]
  },
  {
   "cell_type": "code",
   "execution_count": null,
   "metadata": {},
   "outputs": [],
   "source": [
    "<<cout  --> object of iostream class and used to print msg.\n",
    ">>cin (extraction operator)  -->\n",
    "endl  --> print new line\n",
    "setw  --> set width of variable bwtn two variable"
   ]
  },
  {
   "cell_type": "code",
   "execution_count": null,
   "metadata": {},
   "outputs": [],
   "source": [
    "#include<iostream.h>  --> include files\n",
    "\n",
    "#class decalration\n",
    "class stud\n",
    "{\n",
    "    int a,b\n",
    "    public void get(),\n",
    "    void put(),\n",
    "    \n",
    "},\n",
    "\n",
    "#member function declaration\n",
    "void stud::get()\n",
    "        {\n",
    "            \n",
    "            cin>>a>>b;\n",
    "        }\n",
    "        \n",
    "void stud::put()\n",
    "        {\n",
    "            cout<<a<<b;\n",
    "        }\n",
    "    \n",
    "#main function\n",
    "void main(){\n",
    "    \n",
    "    stud s;\n",
    "    s.get();\n",
    "    s.put();\n",
    "    \n",
    "    \n",
    "}"
   ]
  },
  {
   "cell_type": "code",
   "execution_count": null,
   "metadata": {},
   "outputs": [],
   "source": [
    "while --> entry control loop\n",
    "do while --> exit control loop\n"
   ]
  },
  {
   "cell_type": "code",
   "execution_count": null,
   "metadata": {},
   "outputs": [],
   "source": [
    "new, delete operators --> for memory allocation/operation( in c we use malloc and calloc using typecasting)"
   ]
  },
  {
   "cell_type": "code",
   "execution_count": null,
   "metadata": {},
   "outputs": [],
   "source": [
    "typecasting --> changing one datatype to another(implicit, explicit)"
   ]
  },
  {
   "cell_type": "code",
   "execution_count": null,
   "metadata": {},
   "outputs": [],
   "source": [
    "copy constructor --> copy one object value to another object "
   ]
  },
  {
   "cell_type": "code",
   "execution_count": null,
   "metadata": {},
   "outputs": [],
   "source": []
  },
  {
   "cell_type": "code",
   "execution_count": null,
   "metadata": {},
   "outputs": [],
   "source": []
  },
  {
   "cell_type": "code",
   "execution_count": null,
   "metadata": {},
   "outputs": [],
   "source": []
  },
  {
   "cell_type": "code",
   "execution_count": null,
   "metadata": {},
   "outputs": [],
   "source": []
  },
  {
   "cell_type": "code",
   "execution_count": null,
   "metadata": {},
   "outputs": [],
   "source": []
  },
  {
   "cell_type": "code",
   "execution_count": null,
   "metadata": {},
   "outputs": [],
   "source": []
  },
  {
   "cell_type": "code",
   "execution_count": null,
   "metadata": {},
   "outputs": [],
   "source": []
  },
  {
   "cell_type": "code",
   "execution_count": null,
   "metadata": {},
   "outputs": [],
   "source": []
  },
  {
   "cell_type": "code",
   "execution_count": null,
   "metadata": {},
   "outputs": [],
   "source": []
  },
  {
   "cell_type": "code",
   "execution_count": null,
   "metadata": {},
   "outputs": [],
   "source": []
  },
  {
   "cell_type": "code",
   "execution_count": null,
   "metadata": {},
   "outputs": [],
   "source": []
  },
  {
   "cell_type": "code",
   "execution_count": null,
   "metadata": {},
   "outputs": [],
   "source": []
  },
  {
   "cell_type": "code",
   "execution_count": null,
   "metadata": {},
   "outputs": [],
   "source": []
  },
  {
   "cell_type": "code",
   "execution_count": null,
   "metadata": {},
   "outputs": [],
   "source": []
  },
  {
   "cell_type": "code",
   "execution_count": null,
   "metadata": {},
   "outputs": [],
   "source": []
  }
 ],
 "metadata": {
  "kernelspec": {
   "display_name": "Python 3",
   "language": "python",
   "name": "python3"
  },
  "language_info": {
   "codemirror_mode": {
    "name": "ipython",
    "version": 3
   },
   "file_extension": ".py",
   "mimetype": "text/x-python",
   "name": "python",
   "nbconvert_exporter": "python",
   "pygments_lexer": "ipython3",
   "version": "3.8.3"
  }
 },
 "nbformat": 4,
 "nbformat_minor": 4
}
