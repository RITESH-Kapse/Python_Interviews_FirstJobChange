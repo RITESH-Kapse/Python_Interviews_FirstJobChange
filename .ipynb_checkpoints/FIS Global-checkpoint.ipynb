{
 "cells": [
  {
   "cell_type": "code",
   "execution_count": 1,
   "metadata": {},
   "outputs": [
    {
     "ename": "SyntaxError",
     "evalue": "invalid syntax (<ipython-input-1-9d6911436c53>, line 11)",
     "output_type": "error",
     "traceback": [
      "\u001b[1;36m  File \u001b[1;32m\"<ipython-input-1-9d6911436c53>\"\u001b[1;36m, line \u001b[1;32m11\u001b[0m\n\u001b[1;33m    for j in range(0,len(newlist):\u001b[0m\n\u001b[1;37m                                 ^\u001b[0m\n\u001b[1;31mSyntaxError\u001b[0m\u001b[1;31m:\u001b[0m invalid syntax\n"
     ]
    }
   ],
   "source": [
    "   \n",
    "# Longest Palindromic Substring\n",
    "# Input: s = \"yuyoppouii\"\n",
    "# Output: \"oppo\"\n",
    "s = \"yuyoppouii\"\n",
    "\n",
    "newlist = s[::-1]\n",
    "\n",
    "print(newlist)\n",
    "# list = []\n",
    "\n",
    "# for i in range(0,len(s)):\n",
    "#     for j in range(0,len(s):\n",
    "#                    if s.index(s[i]) == newlist.index(newlis[j])\n",
    "#                    list.append[s[i]]\n",
    "\n",
    "#     print(list)\n",
    "                   \n",
    "    \n",
    "\n"
   ]
  },
  {
   "cell_type": "code",
   "execution_count": null,
   "metadata": {},
   "outputs": [],
   "source": []
  }
 ],
 "metadata": {
  "kernelspec": {
   "display_name": "Python 3",
   "language": "python",
   "name": "python3"
  },
  "language_info": {
   "codemirror_mode": {
    "name": "ipython",
    "version": 3
   },
   "file_extension": ".py",
   "mimetype": "text/x-python",
   "name": "python",
   "nbconvert_exporter": "python",
   "pygments_lexer": "ipython3",
   "version": "3.8.3"
  }
 },
 "nbformat": 4,
 "nbformat_minor": 4
}
