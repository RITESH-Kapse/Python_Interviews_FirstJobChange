{
 "cells": [
  {
   "cell_type": "markdown",
   "metadata": {},
   "source": [
    "### Python Notes from NanoDegree"
   ]
  },
  {
   "cell_type": "code",
   "execution_count": 2,
   "metadata": {},
   "outputs": [
    {
     "data": {
      "text/plain": [
       "'Hello wørld!'"
      ]
     },
     "execution_count": 2,
     "metadata": {},
     "output_type": "execute_result"
    }
   ],
   "source": [
    "#several ways to format strings:\n",
    "\n",
    "greeting = 'Hello'\n",
    "group = \"wørld\"\n",
    "\n",
    "f\"{greeting} {group}!\"  # f-strings – interpolate expressions into a string\n",
    "\"{greeting} {group}!\".format(greeting=greeting, group=group)  # string-formatting by named groups\n",
    "\"{0} {1}!\".format(greeting, group)  # string-formatting by positional groups\n",
    "\"%s %s!\" % (greeting, group)  # C-style string-formatting    "
   ]
  },
  {
   "cell_type": "code",
   "execution_count": null,
   "metadata": {},
   "outputs": [],
   "source": [
    "#Methods on Strings\n",
    "\n",
    "greeting = \"Hello world! \"\n",
    "\n",
    "greeting.find('lo')   # 3 (-1 if not found)\n",
    "greeting.replace('llo', 'y')  # => \"Hey world!\"\n",
    "greeting.startswith('Hell')  # => True\n",
    "greeting.isalpha()           # => False (due to '!')\n",
    "\n",
    "greeting.lower()  # => \"hello world! \"\n",
    "greeting.title()  # => \"Hello World! \"\n",
    "greeting.upper()  # => \"HELLO WORLD! \"\n",
    "\n",
    "greeting.strip()  # => \"Hello world!\"\n",
    "greeting.strip('dH !')  # => \"ello worl\""
   ]
  },
  {
   "cell_type": "code",
   "execution_count": 7,
   "metadata": {},
   "outputs": [
    {
     "data": {
      "text/plain": [
       "5.0"
      ]
     },
     "execution_count": 7,
     "metadata": {},
     "output_type": "execute_result"
    }
   ],
   "source": [
    "#Convertors\n",
    "\n",
    "str(42)       # => \"42\"\n",
    "int(\"42\")     # => 42\n",
    "float(\"2.5\")  # => 2.5\n",
    "\n",
    "int(\"42.5\")   # Raises an error (ValueError).\n",
    "\n",
    "# False operators in bool--> None,0,0.0,\"\",[]  other than these , all are true inside bool operator \n",
    "\n",
    "# 'Falsy' values.\n",
    "bool(None)   # => False\n",
    "bool(False)  # => False\n",
    "bool(0)      # => False\n",
    "bool(0.0)    # => False\n",
    "bool('')     # => False\n",
    "bool([])     # => False"
   ]
  },
  {
   "cell_type": "code",
   "execution_count": null,
   "metadata": {},
   "outputs": [],
   "source": [
    "# Python's dynamic typing system encouraging duck typing and interface-driven typing.\n",
    "\n",
    "#Every python object has its type --> type()\n",
    "#It's essential to understand that everything in Python is an object. \n",
    "\n",
    "isinstance(4, object)        # => True\n",
    "isinstance(\"Hello\", object)  # => True\n",
    "isinstance(None, object)     # => True\n",
    "isinstance([1,2,3], object)  # => True\n",
    "isinstance(str, object)      # => True\n",
    "\n",
    "#every Python object has an identity. \n",
    "id(41)  # => 4361704848 (for example)\n",
    "\n"
   ]
  },
  {
   "cell_type": "code",
   "execution_count": null,
   "metadata": {},
   "outputs": [],
   "source": [
    "'''In CPython (the reference implementation of the Python language specification),\n",
    "the \"identity\" of a Python object is it's memory address in C.'''"
   ]
  },
  {
   "cell_type": "code",
   "execution_count": null,
   "metadata": {},
   "outputs": [],
   "source": [
    "#Difference between == and is keywords\n",
    "x = \"hello world\"\n",
    "y = \"hello \" + \"world\"\n",
    "\n",
    "x == y  # => True\n",
    "x is y  # => False\n",
    "\n",
    "id(x)  # => 4455464720\n",
    "id(y)  # => 4455960848\n",
    "\n",
    "#Note : use **==** when comparing values (almost always!) and use **is** when comparing identities."
   ]
  },
  {
   "cell_type": "code",
   "execution_count": null,
   "metadata": {},
   "outputs": [],
   "source": [
    "#Duck Typing\n",
    "'''When I see a bird that walks like a duck and swims like a duck and quacks like a duck, I call that bird a duck.\n",
    "\n",
    "James Whitcomb Riley'''\n",
    "\n",
    "#Dynamic Typing\n",
    "\n",
    "'''Python's approach to type systems, in which objects have types, but variables (names) are untyped.'''\n",
    "\n",
    "#Namespace\n",
    "\n",
    "'''An associative mapping between names and objects, used to resolve names to the object values to which they refer.'''"
   ]
  },
  {
   "cell_type": "code",
   "execution_count": null,
   "metadata": {},
   "outputs": [],
   "source": [
    "#Analyse the code below :\n",
    "\n",
    "def compute(a, b, c):\n",
    "    return (a + b) * c\n",
    "\n",
    "compute(4, 1, 3)  # => 15\n",
    "compute([1], [2, 3], 2) # => [1, 2, 3, 1, 2, 3] #Here lists of different lengths.\n",
    "compute('l', 'olo', 4)  # => 'lolololololololo'"
   ]
  },
  {
   "cell_type": "code",
   "execution_count": 11,
   "metadata": {},
   "outputs": [
    {
     "name": "stdout",
     "output_type": "stream",
     "text": [
      "Hello, world\n"
     ]
    },
    {
     "data": {
      "text/plain": [
       "2360153471152"
      ]
     },
     "execution_count": 11,
     "metadata": {},
     "output_type": "execute_result"
    }
   ],
   "source": [
    "s = \"Hello\"\n",
    "\n",
    "print(s + \", world\")\n",
    "\n",
    "\n",
    "type(s)\n",
    "id(s)"
   ]
  },
  {
   "cell_type": "code",
   "execution_count": 19,
   "metadata": {},
   "outputs": [
    {
     "name": "stdout",
     "output_type": "stream",
     "text": [
      "[1, 2, 100]\n",
      "[100, 2, 1]\n"
     ]
    }
   ],
   "source": [
    "#List Operations\n",
    "\n",
    "a = [1,2]\n",
    "\n",
    "a.insert(3,100)\n",
    "print(a) --> #[1,2,100]\n",
    "\n",
    "a.sort(key=None, reverse=True)\n",
    "\n",
    "print(a)\n",
    "\n",
    "# Reverse *in place*.\n",
    "a.reverse()\n",
    "print(a)\n",
    "\n"
   ]
  },
  {
   "cell_type": "code",
   "execution_count": 21,
   "metadata": {},
   "outputs": [
    {
     "data": {
      "text/plain": [
       "True"
      ]
     },
     "execution_count": 21,
     "metadata": {},
     "output_type": "execute_result"
    }
   ],
   "source": [
    "#tuples\n",
    "fish = (1, 2, \"red\", \"blue\")  # Create a tuple.\n",
    "\n",
    "fish[0]  # => 1\n",
    "fish[0] = 7  # Raises a TypeError. Tuples are immutable!\n",
    "\n",
    "# Usual sequence methods work.\n",
    "len(fish)  # => 4\n",
    "fish[:2]  # => (1, 2)\n",
    "\"red\" in fish  # => True\n"
   ]
  },
  {
   "cell_type": "code",
   "execution_count": 22,
   "metadata": {},
   "outputs": [
    {
     "name": "stdout",
     "output_type": "stream",
     "text": [
      "Promoted François Borgot to COO.\n"
     ]
    }
   ],
   "source": [
    "# Code to change contents inside tuple (if there are lists inside tuples)\n",
    "\n",
    "employees = (\n",
    "    [1, \"CEO\", \"Madeline Bemelmans\"],\n",
    "    [2, \"CTO\", \"Emily Elizabeth\"],\n",
    "    [3, \"VP Ops\", \"François Borgot\"]\n",
    ")\n",
    "for employee in employees:\n",
    "    if not employee[1].startswith('C'):\n",
    "        employee[1] = 'COO'\n",
    "        print(f\"Promoted {employee[2]} to COO.\")"
   ]
  },
  {
   "cell_type": "code",
   "execution_count": null,
   "metadata": {},
   "outputs": [],
   "source": [
    "#Any comma-separated values are packed into a tuple:\n",
    "t = 12345, 54321, 'hello!'\n",
    "print(t)  # (12345, 54321, 'hello!')\n",
    "type(t)  # => tuple"
   ]
  },
  {
   "cell_type": "code",
   "execution_count": 25,
   "metadata": {},
   "outputs": [
    {
     "name": "stdout",
     "output_type": "stream",
     "text": [
      "0 0\n",
      "1 1\n",
      "2 1\n",
      "3 2\n",
      "4 3\n",
      "5 5\n",
      "6 8\n",
      "7 13\n",
      "8 21\n",
      "9 34\n"
     ]
    }
   ],
   "source": [
    "#Fabonacci Series\n",
    "a, b = 0, 1\n",
    "for i in range(10):\n",
    "    print(i,a)\n",
    "    a, b = b, a + b"
   ]
  },
  {
   "cell_type": "code",
   "execution_count": 34,
   "metadata": {},
   "outputs": [
    {
     "name": "stdout",
     "output_type": "stream",
     "text": [
      "['2', '55', '234', '66']\n"
     ]
    }
   ],
   "source": [
    "#Extract the numbers from the list.\n",
    "\n",
    "sample = \"This 2is r55eally int234restin g66man\"\n",
    "\n",
    "# list1 = []\n",
    "\n",
    "# for i in range(0,len(sample)) :\n",
    "#     if sample[i].isdigit():\n",
    "#         list1.append(sample[i])\n",
    "\n",
    "# print(list1)\n",
    "\n",
    "\n",
    "import re\n",
    "\n",
    "num  = re.findall('\\d+',sample)  \n",
    "print(num)\n",
    "# /d gives the"
   ]
  },
  {
   "cell_type": "code",
   "execution_count": null,
   "metadata": {},
   "outputs": [],
   "source": []
  },
  {
   "cell_type": "code",
   "execution_count": null,
   "metadata": {},
   "outputs": [],
   "source": []
  },
  {
   "cell_type": "code",
   "execution_count": null,
   "metadata": {},
   "outputs": [],
   "source": []
  },
  {
   "cell_type": "code",
   "execution_count": null,
   "metadata": {},
   "outputs": [],
   "source": [
    "#Linux:\n",
    "https://www.youtube.com/watch?v=BGjTboXjH28"
   ]
  },
  {
   "cell_type": "code",
   "execution_count": null,
   "metadata": {},
   "outputs": [],
   "source": [
    "#Python debugger --- pdb for shell or puDB for debug screen\n",
    "\n",
    "https://www.youtube.com/watch?v=I6yEW9DCPMA"
   ]
  },
  {
   "cell_type": "code",
   "execution_count": null,
   "metadata": {},
   "outputs": [],
   "source": [
    "#Linux commands after vitual box\n",
    "#First do bridge adaptor if we need to communiate machines\n",
    "\n",
    "#To check the ip address and details after adapter bridge and are communicating systems :\n",
    "ifcongif\n",
    "\n",
    "#to check if comminunicating , open cmd and type ip of linux\n",
    "ping 192.168.0.102\n",
    "\n",
    "#to clear \n",
    "clear\n",
    "\n",
    "#to update\n",
    "apt-get update && apt-get upgrade\n",
    "\n",
    "#to check user name details\n",
    "uname -r       #r is for recursive\n",
    "uname -a       #a is for all\n",
    "\n",
    "\n",
    "#to check all commands\n",
    "history\n",
    "\n",
    "#handling files using ls directories (ls- list)\n",
    "~#  this is for root dir\n",
    "/# this is for user dir\n",
    "\n",
    "#to go to root dir\n",
    "cd\n",
    "\n",
    "#to create a file\n",
    "touch test.txt  --> to create .txt file\n",
    "\n",
    "#to remove\n",
    "rm test.txt\n",
    "\n",
    "# to make directory\n",
    "mkdir Ritesh            # to create folder\n",
    "\n",
    "#to delete dir\n",
    "rmdir Ritesh\n",
    "\n",
    "#to check manual to check the commands\n",
    "man ls\n",
    "\n",
    "#to copy the file\n",
    "cp filename /location/\n",
    "\n",
    "#to move the file\n",
    "mv filename /location/\n",
    "\n",
    "#permissions \n",
    "ls -l filename   --> to check permisions\n",
    "\n",
    "#admin , group , public  -->rwx rw r i.e read write and execute\n",
    "\n",
    "#to change permissions\n",
    "chmod 764 filename\n",
    "\n",
    "1 --> execute\n",
    "2 --> write\n",
    "4 --> read \n",
    "\n",
    "total = 1+2+4 =7  --> admin  , r+w = 6 : group , r:public : 4\n"
   ]
  },
  {
   "cell_type": "code",
   "execution_count": null,
   "metadata": {},
   "outputs": [],
   "source": [
    "robot frameworks\n",
    "    libraries\n",
    "    Test files which has\n",
    "            settings\n",
    "            variables\n",
    "            test cases\n",
    "            keywords\n",
    "            "
   ]
  },
  {
   "cell_type": "code",
   "execution_count": null,
   "metadata": {},
   "outputs": [],
   "source": []
  },
  {
   "cell_type": "code",
   "execution_count": null,
   "metadata": {},
   "outputs": [],
   "source": []
  }
 ],
 "metadata": {
  "kernelspec": {
   "display_name": "Python 3",
   "language": "python",
   "name": "python3"
  },
  "language_info": {
   "codemirror_mode": {
    "name": "ipython",
    "version": 3
   },
   "file_extension": ".py",
   "mimetype": "text/x-python",
   "name": "python",
   "nbconvert_exporter": "python",
   "pygments_lexer": "ipython3",
   "version": "3.8.3"
  }
 },
 "nbformat": 4,
 "nbformat_minor": 4
}
