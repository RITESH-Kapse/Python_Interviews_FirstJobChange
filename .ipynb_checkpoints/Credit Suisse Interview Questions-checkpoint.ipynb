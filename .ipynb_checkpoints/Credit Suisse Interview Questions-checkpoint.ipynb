{
 "cells": [
  {
   "cell_type": "markdown",
   "metadata": {},
   "source": [
    "### Credit Suisse Interview Questions:"
   ]
  },
  {
   "cell_type": "code",
   "execution_count": 31,
   "metadata": {},
   "outputs": [
    {
     "name": "stdout",
     "output_type": "stream",
     "text": [
      "['This', 'is', 'the', 'good', 'the', 'things', 'to', 'do', 'is']\n",
      "{'good', 'things', 'the', 'to', 'is', 'do', 'This'}\n",
      "good1\n",
      "things1\n",
      "the2\n",
      "to1\n",
      "is3\n",
      "do1\n",
      "This1\n"
     ]
    }
   ],
   "source": [
    "#Write a code to count number of elements in the string.\n",
    "\n",
    "string = 'This is the good the things to do is'\n",
    "\n",
    "a = string.split()\n",
    "print(a)\n",
    "\n",
    "a = set(a)\n",
    "print(a)\n",
    "for i in a:\n",
    "    print(i+ str(string.count(i)))"
   ]
  },
  {
   "cell_type": "code",
   "execution_count": null,
   "metadata": {},
   "outputs": [],
   "source": [
    "What are python modules you have worked before ?\n",
    "    numpy,pandas,re,os,matplotlib,unittest,django etc.\n",
    "\n",
    "\n",
    "Why we need decorators when we can already create a functions ?\n",
    "https://betterprogramming.pub/why-you-need-decorators-in-your-python-code-df12d43eac9c\n",
    "    \n",
    "Difference between list, tuples, sets, dictionary.\n",
    "\n"
   ]
  },
  {
   "cell_type": "code",
   "execution_count": 3,
   "metadata": {},
   "outputs": [
    {
     "name": "stdout",
     "output_type": "stream",
     "text": [
      "[1, 2, 3, 4, 5]\n",
      "[1, 2, 3, 4, 5]\n",
      "[1, 2, 10, 4, 5]\n",
      "[1, 2, 10, 4, 5]\n",
      "[1, 2, 100, 4, 5]\n",
      "[1, 2, 100, 4, 5]\n"
     ]
    }
   ],
   "source": [
    "#Explain below :\n",
    "a = [1,2,3,4,5]\n",
    "b = a\n",
    "print(a)\n",
    "print(b)\n",
    "\n",
    "a[2]=10\n",
    "\n",
    "print(a)\n",
    "print(b)\n",
    "\n",
    "b[2]= 100\n",
    "print(a)\n",
    "print(b)"
   ]
  },
  {
   "cell_type": "code",
   "execution_count": 4,
   "metadata": {},
   "outputs": [
    {
     "data": {
      "text/plain": [
       "[4, 5]"
      ]
     },
     "execution_count": 4,
     "metadata": {},
     "output_type": "execute_result"
    }
   ],
   "source": [
    "#Explain below : Can we update the list in tuple. ---> I have given the wrong answers.\n",
    "\n",
    "a = (1,2,[4,5],10)\n",
    "a[2]"
   ]
  },
  {
   "cell_type": "code",
   "execution_count": 5,
   "metadata": {},
   "outputs": [],
   "source": [
    "a[2][0] = 10"
   ]
  },
  {
   "cell_type": "code",
   "execution_count": 6,
   "metadata": {},
   "outputs": [
    {
     "data": {
      "text/plain": [
       "[10, 5]"
      ]
     },
     "execution_count": 6,
     "metadata": {},
     "output_type": "execute_result"
    }
   ],
   "source": [
    "a[2]\n",
    "\n",
    "#So correct answer is , we can change the list elements inside the tuple"
   ]
  },
  {
   "cell_type": "code",
   "execution_count": 9,
   "metadata": {},
   "outputs": [
    {
     "ename": "TypeError",
     "evalue": "'tuple' object does not support item assignment",
     "output_type": "error",
     "traceback": [
      "\u001b[1;31m---------------------------------------------------------------------------\u001b[0m",
      "\u001b[1;31mTypeError\u001b[0m                                 Traceback (most recent call last)",
      "\u001b[1;32m<ipython-input-9-0ff6d45118ce>\u001b[0m in \u001b[0;36m<module>\u001b[1;34m\u001b[0m\n\u001b[0;32m      1\u001b[0m \u001b[0ma\u001b[0m \u001b[1;33m=\u001b[0m \u001b[1;33m[\u001b[0m\u001b[1;36m1\u001b[0m\u001b[1;33m,\u001b[0m\u001b[1;36m2\u001b[0m\u001b[1;33m,\u001b[0m\u001b[1;33m(\u001b[0m\u001b[1;36m4\u001b[0m\u001b[1;33m,\u001b[0m\u001b[1;36m5\u001b[0m\u001b[1;33m)\u001b[0m\u001b[1;33m,\u001b[0m\u001b[1;36m10\u001b[0m\u001b[1;33m]\u001b[0m\u001b[1;33m\u001b[0m\u001b[1;33m\u001b[0m\u001b[0m\n\u001b[1;32m----> 2\u001b[1;33m \u001b[0ma\u001b[0m \u001b[1;33m[\u001b[0m\u001b[1;36m2\u001b[0m\u001b[1;33m]\u001b[0m\u001b[1;33m[\u001b[0m\u001b[1;36m0\u001b[0m\u001b[1;33m]\u001b[0m\u001b[1;33m=\u001b[0m\u001b[1;36m10\u001b[0m\u001b[1;33m\u001b[0m\u001b[1;33m\u001b[0m\u001b[0m\n\u001b[0m",
      "\u001b[1;31mTypeError\u001b[0m: 'tuple' object does not support item assignment"
     ]
    }
   ],
   "source": [
    "a = [1,2,(4,5),10]\n",
    "a [2][0]=10"
   ]
  },
  {
   "cell_type": "code",
   "execution_count": null,
   "metadata": {},
   "outputs": [],
   "source": [
    "#So conclusion is, we can not change the tuple elements inside the list. But can change the list elements inside the tuple."
   ]
  },
  {
   "cell_type": "code",
   "execution_count": null,
   "metadata": {},
   "outputs": [],
   "source": [
    "How to end generators?\n",
    "\n",
    "If you used next(), then instead you’ll get an explicit StopIteration exception at the end of last element inside generator."
   ]
  },
  {
   "cell_type": "code",
   "execution_count": 34,
   "metadata": {},
   "outputs": [
    {
     "name": "stdout",
     "output_type": "stream",
     "text": [
      "{'var1': array([0., 0., 0., 0., 0., 0., 0., 0., 0., 0.]), 'var2': array([0., 0., 0., 0., 0., 0., 0., 0., 0., 0.]), 'var3': array([0., 0., 0., 0., 0., 0., 0., 0., 0., 0.])}\n"
     ]
    }
   ],
   "source": [
    "# Explain Dictionary comprehensions.\n",
    "\n",
    "# Refer :\n",
    "# https://www.educative.io/edpresso/what-is-dictionary-comprehension-in-python?aid=5082902844932096&utm_source=google&utm_medium=cpc&utm_campaign=edpresso-dynamic&gclid=CjwKCAjwhMmEBhBwEiwAXwFoEdlECV4M8pYXxRU-_aocvNBBSEyXmjlt0pVIz7MrUrk_mzOXTUfAuBoCacUQAvD_BwE\n",
    "    \n",
    "import numpy as np\n",
    "\n",
    "\n",
    "\n",
    "keys=['var1','var2','var3']\n",
    "my_dict={key:np.zeros(10) for key in keys}\n",
    "print(my_dict)"
   ]
  },
  {
   "cell_type": "code",
   "execution_count": 35,
   "metadata": {},
   "outputs": [
    {
     "name": "stdout",
     "output_type": "stream",
     "text": [
      "[-5, -4, -3, -2, -1]\n"
     ]
    }
   ],
   "source": [
    "# Explain how to use filter in python ?\n",
    "\n",
    "number_list = range(-5, 5)\n",
    "less_than_zero = list(filter(lambda x: x < 0, number_list))\n",
    "print(less_than_zero)"
   ]
  },
  {
   "cell_type": "code",
   "execution_count": null,
   "metadata": {},
   "outputs": [],
   "source": []
  },
  {
   "cell_type": "code",
   "execution_count": null,
   "metadata": {},
   "outputs": [],
   "source": []
  },
  {
   "cell_type": "code",
   "execution_count": null,
   "metadata": {},
   "outputs": [],
   "source": []
  },
  {
   "cell_type": "code",
   "execution_count": null,
   "metadata": {},
   "outputs": [],
   "source": []
  }
 ],
 "metadata": {
  "kernelspec": {
   "display_name": "Python 3",
   "language": "python",
   "name": "python3"
  },
  "language_info": {
   "codemirror_mode": {
    "name": "ipython",
    "version": 3
   },
   "file_extension": ".py",
   "mimetype": "text/x-python",
   "name": "python",
   "nbconvert_exporter": "python",
   "pygments_lexer": "ipython3",
   "version": "3.8.3"
  }
 },
 "nbformat": 4,
 "nbformat_minor": 4
}
