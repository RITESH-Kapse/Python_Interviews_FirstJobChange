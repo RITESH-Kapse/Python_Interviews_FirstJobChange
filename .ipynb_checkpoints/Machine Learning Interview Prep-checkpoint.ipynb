{
 "cells": [
  {
   "cell_type": "code",
   "execution_count": 1,
   "metadata": {},
   "outputs": [],
   "source": [
    "from sklearn.ensemble import RandomForestRegressor\n"
   ]
  },
  {
   "cell_type": "code",
   "execution_count": null,
   "metadata": {},
   "outputs": [],
   "source": [
    "rf_random = RandomForestRegressor()"
   ]
  },
  {
   "cell_type": "code",
   "execution_count": null,
   "metadata": {},
   "outputs": [],
   "source": [
    "from sklearn.modelselection import RandomizedSearchCV\n",
    "#for feature selection\n"
   ]
  },
  {
   "cell_type": "code",
   "execution_count": null,
   "metadata": {},
   "outputs": [],
   "source": [
    "#image classification using CNN \n",
    "https://www.analyticsvidhya.com/blog/2020/02/learn-image-classification-cnn-convolutional-neural-networks-3-datasets/\n"
   ]
  },
  {
   "cell_type": "code",
   "execution_count": null,
   "metadata": {},
   "outputs": [],
   "source": [
    "# NLP -- What is tfidfvectorizer\n",
    "https://scikit-learn.org/stable/modules/generated/sklearn.feature_extraction.text.TfidfVectorizer.html\n",
    "https://www.google.com/search?q=tfidfvectorizer&rlz=1C1CHBF_enIN924IN924&oq=tfidfvectorizer+&aqs=chrome..69i57j0j0i20i263j0l7.6831j0j7&sourceid=chrome&ie=UTF-8"
   ]
  },
  {
   "cell_type": "code",
   "execution_count": 3,
   "metadata": {},
   "outputs": [],
   "source": [
    "# #what is variance and standard deviation\n",
    "https://www150.statcan.gc.ca/n1/edu/power-pouvoir/ch12/5214891-eng.htm#:~:text=The%20variance%20(symbolized%20by%20S,commonly%20used%20measures%20of%20spread.&text=For%20example%2C%20for%20the%20numbers,and%20the%20variance%20is%200.667.\n",
    "\n",
    "Standard deviation looks at how spread out a group of numbers is from the mean, by looking at the square root of the variance.\n",
    "The variance measures the average degree to which each point differs from the mean—the average of all data points.\n",
    "\n",
    "The variance (symbolized by S**2) and standard deviation (the square root of the variance, symbolized by S)\n",
    "are the most commonly used measures of spread.\n",
    "\n",
    "For example, for the numbers 1, 2, and 3 the mean is 2 and the variance is 0.667.\n",
    "[(1 - 2)**2 + (2 - 2)**2 + (3 - 2)**2] ÷ 3 = 0.667\n",
    "\n",
    "[squaring deviation from the mean] ÷ number of observations = variance\n",
    "  \n",
    "Variance (S2) = average squared deviation of values from mean\n",
    "Standard deviation (S) = square root of the variance"
   ]
  },
  {
   "cell_type": "code",
   "execution_count": null,
   "metadata": {},
   "outputs": [],
   "source": [
    "# 21 ML question and answers:\n",
    "https://elitedatascience.com/machine-learning-interview-questions-answers"
   ]
  },
  {
   "cell_type": "code",
   "execution_count": null,
   "metadata": {},
   "outputs": [],
   "source": []
  }
 ],
 "metadata": {
  "kernelspec": {
   "display_name": "Python 3",
   "language": "python",
   "name": "python3"
  },
  "language_info": {
   "codemirror_mode": {
    "name": "ipython",
    "version": 3
   },
   "file_extension": ".py",
   "mimetype": "text/x-python",
   "name": "python",
   "nbconvert_exporter": "python",
   "pygments_lexer": "ipython3",
   "version": "3.8.3"
  }
 },
 "nbformat": 4,
 "nbformat_minor": 4
}
