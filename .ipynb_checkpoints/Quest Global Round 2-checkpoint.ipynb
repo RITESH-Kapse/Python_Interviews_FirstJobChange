{
 "cells": [
  {
   "cell_type": "code",
   "execution_count": 21,
   "metadata": {},
   "outputs": [
    {
     "name": "stdout",
     "output_type": "stream",
     "text": [
      "yes\n",
      "No\n",
      "yes twice\n",
      "No twice\n"
     ]
    }
   ],
   "source": [
    "# \"Polymorphrism\" Example 1\n",
    "class Animal():\n",
    "    \n",
    "    def fly(self):\n",
    "        print(\"yes\")\n",
    "    \n",
    "    def swim(self):\n",
    "        print(\"No\")\n",
    "        \n",
    "\n",
    "class Bird():\n",
    "    \n",
    "    def fly(self):\n",
    "        print(\"yes twice\")\n",
    "    \n",
    "    def swim(self):\n",
    "        print(\"No twice\")\n",
    "    \n",
    "    \n",
    "obj1 = Animal()\n",
    "obj2 = Bird()\n",
    "\n",
    "for result in (obj1,obj2):\n",
    "    result.fly()\n",
    "    result.swim()"
   ]
  },
  {
   "cell_type": "code",
   "execution_count": 22,
   "metadata": {},
   "outputs": [
    {
     "name": "stdout",
     "output_type": "stream",
     "text": [
      "New Delhi is the capital of India.\n",
      "Hindi is the most widely spoken language of India.\n",
      "India is a developing country.\n",
      "Washington, D.C. is the capital of USA.\n",
      "English is the primary language of USA.\n",
      "USA is a developed country.\n"
     ]
    }
   ],
   "source": [
    "# \"Polymorphrism\" Example 2\n",
    "class India(): \n",
    "    def capital(self): \n",
    "        print(\"New Delhi is the capital of India.\") \n",
    "  \n",
    "    def language(self): \n",
    "        print(\"Hindi is the most widely spoken language of India.\") \n",
    "  \n",
    "    def type(self): \n",
    "        print(\"India is a developing country.\") \n",
    "  \n",
    "class USA(): \n",
    "    def capital(self): \n",
    "        print(\"Washington, D.C. is the capital of USA.\") \n",
    "  \n",
    "    def language(self): \n",
    "        print(\"English is the primary language of USA.\") \n",
    "  \n",
    "    def type(self): \n",
    "        print(\"USA is a developed country.\") \n",
    "  \n",
    "obj_ind = India() \n",
    "obj_usa = USA() \n",
    "\n",
    "for country in (obj_ind, obj_usa): \n",
    "    country.capital() \n",
    "    country.language() \n",
    "    country.type() "
   ]
  },
  {
   "cell_type": "markdown",
   "metadata": {},
   "source": [
    "#### Method overloading and overriding\n",
    "\n",
    "Overriding -- uses inheritance where we will use previous class and\n",
    "            pass same number of parameters to same method of another class.\n",
    "\n",
    "Overloding - two same name methods in two different classes with different arguments.\n",
    "\n",
    "Overloading is the ability of a function or an operator to behave in different ways based on the parameters that are passed to \n",
    "the function, or the operands that the operator acts on.\n",
    "\n",
    "Method overloading is in the Polymorphism.\n",
    "\n",
    "It is used in a single class\n",
    "\n",
    "    "
   ]
  },
  {
   "cell_type": "code",
   "execution_count": 35,
   "metadata": {},
   "outputs": [
    {
     "name": "stdout",
     "output_type": "stream",
     "text": [
      "Area Value: 0\n",
      "Area Value: 16\n",
      "Area Value: 15\n"
     ]
    }
   ],
   "source": [
    "##Method Overloading Examples\n",
    "\n",
    "class Compute:\n",
    "# area method\n",
    "    def area(self, x = None, y = None):\n",
    "        if x != None and y != None:\n",
    "            return x * y\n",
    "        elif x != None:\n",
    "            return x * x\n",
    "        else:\n",
    "            return 0\n",
    "        \n",
    "# object\n",
    "obj = Compute()\n",
    "\n",
    "# zero argument\n",
    "print(\"Area Value:\", obj.area())\n",
    "\n",
    "# one argument\n",
    "print(\"Area Value:\", obj.area(4))\n",
    "\n",
    "# two argument\n",
    "print(\"Area Value:\", obj.area(3, 5))"
   ]
  },
  {
   "cell_type": "code",
   "execution_count": 37,
   "metadata": {},
   "outputs": [
    {
     "name": "stdout",
     "output_type": "stream",
     "text": [
      "('argument1', 'Geeks')\n",
      "('argument2', 4)\n",
      "('argument3', 'Geeks')\n"
     ]
    }
   ],
   "source": [
    "# different number of keyword arguments passed\n",
    "  \n",
    "# function definition\n",
    "def displayArgument(**arguments): \n",
    "    for arg in arguments.items():\n",
    "        print(arg)\n",
    "  \n",
    "# function call\n",
    "displayArgument(argument1 =\"Geeks\", argument2 = 4,\n",
    "                argument3 =\"Geeks\")\n",
    "    "
   ]
  },
  {
   "cell_type": "code",
   "execution_count": 38,
   "metadata": {},
   "outputs": [
    {
     "name": "stdout",
     "output_type": "stream",
     "text": [
      "Inside Parent\n",
      "Inside Child\n"
     ]
    }
   ],
   "source": [
    "# Python program to demonstrate method overriding (it uses inheritance)\n",
    "\n",
    "# Defining parent class\n",
    "class Parent():\n",
    "      \n",
    "    # Constructor\n",
    "    def __init__(self):\n",
    "        self.value = \"Inside Parent\"\n",
    "          \n",
    "    # Parent's show method\n",
    "    def show(self):\n",
    "        print(self.value)\n",
    "          \n",
    "# Defining child class\n",
    "class Child(Parent):\n",
    "      \n",
    "    # Constructor\n",
    "    def __init__(self):\n",
    "        self.value = \"Inside Child\"\n",
    "          \n",
    "    # Child's show method\n",
    "    def show(self):\n",
    "        print(self.value)\n",
    "          \n",
    "          \n",
    "# Driver's code\n",
    "obj1 = Parent()\n",
    "obj2 = Child()\n",
    "  \n",
    "obj1.show()\n",
    "obj2.show()"
   ]
  },
  {
   "cell_type": "markdown",
   "metadata": {},
   "source": [
    "#Encapsulation\n",
    "\n",
    "#Note: The __init__ method is a constructor and runs as soon as an object of a class is instantiated. \n",
    "\n",
    "#Protected members\n",
    "    # members of the class that cannot be accessed outside the class but can be accessed from within the class and its subclasses. \n",
    "\n",
    "    #To accomplish this in Python, just follow the convention by prefixing the name of the member by a single underscore “_”\n",
    "\n",
    "#Private members\n",
    "    #Private members are similar to protected members, the difference is that the class members declared private should neither be accessed outside the class nor by any base class. \n",
    "    \n",
    "    #In Python, there is no existence of Private instance variables that cannot be accessed except inside a class.\n",
    "    \n",
    "    #to define a private member prefix the member name with double underscore “__”.\n",
    "\n",
    "    "
   ]
  },
  {
   "cell_type": "code",
   "execution_count": null,
   "metadata": {},
   "outputs": [],
   "source": [
    "# Encapsulation Example :\n",
    "\n",
    "class Base:\n",
    "    def __init__(self):\n",
    "        self.a = \"GeeksforGeeks\"\n",
    "        self.__c = \"GeeksforGeeks\"\n",
    " \n",
    "# Creating a derived class\n",
    "class Derived(Base):\n",
    "    def __init__(self):\n",
    "         \n",
    "        # Calling constructor of\n",
    "        # Base class\n",
    "        Base.__init__(self)\n",
    "        print(\"Calling private member of base class: \")\n",
    "        print(self.__c)\n",
    "# Driver code\n",
    "obj1 = Base()\n",
    "print(obj1.a)\n",
    " \n",
    "# Uncommenting print(obj1.c) will\n",
    "# raise an AttributeError\n",
    " \n",
    "# Uncommenting obj2 = Derived() will\n",
    "# also raise an AtrributeError as\n",
    "# private member of base class\n",
    "# is called inside derived class"
   ]
  },
  {
   "cell_type": "code",
   "execution_count": null,
   "metadata": {},
   "outputs": [],
   "source": [
    "#Abstraction \n",
    "#Abstraction is used to hide the internal functionality of the function from the users\n",
    "\n",
    "from abc import ABC  \n",
    "class ClassName(ABC):  "
   ]
  },
  {
   "cell_type": "code",
   "execution_count": 39,
   "metadata": {},
   "outputs": [
    {
     "name": "stdout",
     "output_type": "stream",
     "text": [
      "The mileage is 30kmph\n"
     ]
    }
   ],
   "source": [
    "# Abstraction Example :\n",
    "\n",
    "from abc import ABC, abstractmethod   \n",
    "\n",
    "class Car(ABC):   \n",
    "    def mileage(self):   \n",
    "        pass  \n",
    "    \n",
    "class Tesla(Car):   \n",
    "    def mileage(self):   \n",
    "        print(\"The mileage is 30kmph\")   \n",
    "\n",
    "# Driver code   \n",
    "t= Tesla ()   \n",
    "t.mileage()  "
   ]
  },
  {
   "cell_type": "code",
   "execution_count": 40,
   "metadata": {},
   "outputs": [
    {
     "data": {
      "text/plain": [
       "['other random stuff', '22', 'map', '']"
      ]
     },
     "execution_count": 40,
     "metadata": {},
     "output_type": "execute_result"
    }
   ],
   "source": [
    "#Example of map ,filter\n",
    "\n",
    "mylist = [5, 4, 6, \"other random stuff\", True, \"22\", \"map\", False, \"\"]\n",
    "\n",
    "def multiply_by_two(obj):\n",
    "\treturn obj*2\n",
    "\n",
    "def is_str(obj):\n",
    "\treturn type(obj) == str\n",
    "  \n",
    "list(map(multiply_by_two, mylist))\n",
    "# [10, 8, 12, \"other random stuffother random stuff\", 2, \"2222\", \"mapmap\", 0, \"\"]\n",
    "\n",
    "list(filter(is_str, mylist))\n",
    "# [\"other random stuff\", \"22\", \"map\", \"\"]\n",
    "\n",
    "# You could also use lambdas on both examples:\n",
    "list(map(lambda x: x*2, mylist))\n",
    "list(filter(lambda x: type(x) == str, mylist))"
   ]
  },
  {
   "cell_type": "code",
   "execution_count": 42,
   "metadata": {},
   "outputs": [
    {
     "name": "stdout",
     "output_type": "stream",
     "text": [
      "With an initial value: 26\n"
     ]
    }
   ],
   "source": [
    "#Example of reduce\n",
    "\n",
    "from functools import reduce\n",
    "\n",
    "list = [2, 4, 7, 3]\n",
    "\n",
    "# print(reduce(lambda x, y: x + y, list))\n",
    "print(\"With an initial value: \" + str(reduce(lambda x, y: x + y, list, 10)))"
   ]
  },
  {
   "cell_type": "code",
   "execution_count": 43,
   "metadata": {},
   "outputs": [
    {
     "name": "stdout",
     "output_type": "stream",
     "text": [
      "{'a': 1, 'b': 4}\n"
     ]
    }
   ],
   "source": [
    "#Dictionary comprehensions:\n",
    "\n",
    "simple_dict = {\n",
    "    'a': 1,\n",
    "    'b': 2\n",
    "}\n",
    "my_dict = {key: value**2 for key,value in simple_dict.items()}\n",
    "print(my_dict)\n",
    "#result = {'a': 1, 'b': 4}"
   ]
  },
  {
   "cell_type": "code",
   "execution_count": null,
   "metadata": {},
   "outputs": [],
   "source": []
  },
  {
   "cell_type": "code",
   "execution_count": null,
   "metadata": {},
   "outputs": [],
   "source": []
  },
  {
   "cell_type": "code",
   "execution_count": null,
   "metadata": {},
   "outputs": [],
   "source": []
  },
  {
   "cell_type": "code",
   "execution_count": 11,
   "metadata": {},
   "outputs": [
    {
     "ename": "SyntaxError",
     "evalue": "invalid syntax (<ipython-input-11-e0b3cbe590b3>, line 1)",
     "output_type": "error",
     "traceback": [
      "\u001b[1;36m  File \u001b[1;32m\"<ipython-input-11-e0b3cbe590b3>\"\u001b[1;36m, line \u001b[1;32m1\u001b[0m\n\u001b[1;33m    create a dictionary with keys: values =  keys*keys\u001b[0m\n\u001b[1;37m           ^\u001b[0m\n\u001b[1;31mSyntaxError\u001b[0m\u001b[1;31m:\u001b[0m invalid syntax\n"
     ]
    }
   ],
   "source": [
    "create a dictionary with keys: values =  keys*keys\n",
    "\n",
    "dict1 = {'1':1 }\n",
    "\n",
    "1 20\n",
    "\n",
    "for i in range(1,21):\n",
    "    if i%2 == 0:\n",
    "\n",
    "        "
   ]
  },
  {
   "cell_type": "code",
   "execution_count": 12,
   "metadata": {},
   "outputs": [
    {
     "data": {
      "text/plain": [
       "[2, 4, 6, 8, 10, 12, 14, 16, 18, 20]"
      ]
     },
     "execution_count": 12,
     "metadata": {},
     "output_type": "execute_result"
    }
   ],
   "source": [
    "dict1 = [i for i in range(1,21) if i%2==0]\n",
    "dict1\n",
    "# "
   ]
  },
  {
   "cell_type": "code",
   "execution_count": 13,
   "metadata": {},
   "outputs": [
    {
     "ename": "TypeError",
     "evalue": "descriptor 'items' of 'dict' object needs an argument",
     "output_type": "error",
     "traceback": [
      "\u001b[1;31m---------------------------------------------------------------------------\u001b[0m",
      "\u001b[1;31mTypeError\u001b[0m                                 Traceback (most recent call last)",
      "\u001b[1;32m<ipython-input-13-c6566ea1fe2b>\u001b[0m in \u001b[0;36m<module>\u001b[1;34m\u001b[0m\n\u001b[0;32m      1\u001b[0m \u001b[0mdict1\u001b[0m \u001b[1;33m=\u001b[0m \u001b[1;33m{\u001b[0m\u001b[1;33m}\u001b[0m\u001b[1;33m\u001b[0m\u001b[1;33m\u001b[0m\u001b[0m\n\u001b[0;32m      2\u001b[0m \u001b[1;33m\u001b[0m\u001b[0m\n\u001b[1;32m----> 3\u001b[1;33m \u001b[1;32mfor\u001b[0m \u001b[0mkey\u001b[0m\u001b[1;33m,\u001b[0m \u001b[0mvalue\u001b[0m \u001b[1;32min\u001b[0m \u001b[0mdict\u001b[0m\u001b[1;33m.\u001b[0m\u001b[0mitems\u001b[0m\u001b[1;33m(\u001b[0m\u001b[1;33m)\u001b[0m\u001b[1;33m:\u001b[0m\u001b[1;33m\u001b[0m\u001b[1;33m\u001b[0m\u001b[0m\n\u001b[0m\u001b[0;32m      4\u001b[0m     \u001b[0mvalue\u001b[0m \u001b[1;33m=\u001b[0m \u001b[0mkey\u001b[0m\u001b[1;33m*\u001b[0m\u001b[0mkey\u001b[0m\u001b[1;33m\u001b[0m\u001b[1;33m\u001b[0m\u001b[0m\n\u001b[0;32m      5\u001b[0m     \u001b[0mdict1\u001b[0m\u001b[1;33m.\u001b[0m\u001b[0mset\u001b[0m\u001b[1;33m(\u001b[0m\u001b[0mkeym\u001b[0m\u001b[1;33m)\u001b[0m\u001b[1;33m\u001b[0m\u001b[1;33m\u001b[0m\u001b[0m\n",
      "\u001b[1;31mTypeError\u001b[0m: descriptor 'items' of 'dict' object needs an argument"
     ]
    }
   ],
   "source": [
    "dict1 = {}\n",
    "\n",
    "for key, value in dict.items():\n",
    "    value = key*key\n",
    "    dict1.set(keym)"
   ]
  },
  {
   "cell_type": "code",
   "execution_count": 17,
   "metadata": {},
   "outputs": [
    {
     "name": "stdout",
     "output_type": "stream",
     "text": [
      "['2', '2', '1']\n"
     ]
    }
   ],
   "source": [
    "#find the numbers from the string\n",
    "a = 'dict2 = { key: value*2 for key,value in dict1.items()}'\n",
    "\n",
    "# list1 = []\n",
    "\n",
    "# for i in range(0,len(a)):\n",
    "#     if a[i].isdigit():\n",
    "#         list1.append(a[i])\n",
    "\n",
    "# print(list1)\n",
    "\n",
    "#in one line\n",
    "\n",
    "list1 = [a[i] for i in range(0,len(a)) if a[i].isdigit()]\n",
    "print(list1)\n"
   ]
  },
  {
   "cell_type": "code",
   "execution_count": null,
   "metadata": {},
   "outputs": [],
   "source": [
    "Explain Sql Injection\n",
    "\n",
    "SQL injection is a code injection technique that might destroy your database. \n",
    "SQL injection is one of the most common web hacking techniques.\n",
    "SQL injection is a code injection technique used to attack data-driven applications, in which malicious SQL statements are inserted into an entry field for execution."
   ]
  },
  {
   "cell_type": "code",
   "execution_count": null,
   "metadata": {},
   "outputs": [],
   "source": [
    "Differnent between patch and post \n",
    "\n",
    "what is ORM"
   ]
  },
  {
   "cell_type": "code",
   "execution_count": null,
   "metadata": {},
   "outputs": [],
   "source": []
  }
 ],
 "metadata": {
  "kernelspec": {
   "display_name": "Python 3",
   "language": "python",
   "name": "python3"
  },
  "language_info": {
   "codemirror_mode": {
    "name": "ipython",
    "version": 3
   },
   "file_extension": ".py",
   "mimetype": "text/x-python",
   "name": "python",
   "nbconvert_exporter": "python",
   "pygments_lexer": "ipython3",
   "version": "3.8.3"
  }
 },
 "nbformat": 4,
 "nbformat_minor": 4
}
