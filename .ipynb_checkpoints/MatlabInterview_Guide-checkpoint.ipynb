{
 "cells": [
  {
   "cell_type": "code",
   "execution_count": null,
   "metadata": {},
   "outputs": [],
   "source": [
    "Matlab Questions\n",
    "\n",
    "What is Aspice and ISO26262 ?\n",
    "What are storage classes in matlab\n",
    "what is default matlab datatype\n",
    "What is use of solver in matlab explain in details\n",
    "why we export matlab models in embedded codes only\n",
    "The Difference Between Extrapolation and Interpolation\n",
    "How to enter the time conditions in stateflow for transitions\n",
    "How to declare variables in simulink and how to check them in codes\n",
    "What are storage classes in matlab\n",
    "what is default matlab datatype\n",
    "What is use of solver in matlab explain in details\n",
    "why we export matlab models in embedded codes only\n",
    "The Difference Between Extrapolation and Interpolation\n",
    "How to enter the time conditions in stateflow for transitions\n",
    "How to declare variables in simulink and how to check them in codes"
   ]
  }
 ],
 "metadata": {
  "kernelspec": {
   "display_name": "Python 3",
   "language": "python",
   "name": "python3"
  },
  "language_info": {
   "codemirror_mode": {
    "name": "ipython",
    "version": 3
   },
   "file_extension": ".py",
   "mimetype": "text/x-python",
   "name": "python",
   "nbconvert_exporter": "python",
   "pygments_lexer": "ipython3",
   "version": "3.8.3"
  }
 },
 "nbformat": 4,
 "nbformat_minor": 4
}
