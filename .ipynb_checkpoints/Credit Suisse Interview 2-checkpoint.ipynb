{
 "cells": [
  {
   "cell_type": "code",
   "execution_count": 20,
   "metadata": {},
   "outputs": [
    {
     "name": "stdout",
     "output_type": "stream",
     "text": [
      "{'a': 3, 'b': 4, 'c': 100}\n"
     ]
    }
   ],
   "source": [
    "#How to check if there is dictionary inside the list and print its contents\n",
    "\n",
    "list1 = [1,2,3,[3,5],{'a':3,'b':4,'c':100}]\n",
    "\n",
    "for i in range(0,len(list1)):\n",
    "    if type(list1[i]) == dict:\n",
    "        print(list1[i])\n"
   ]
  },
  {
   "cell_type": "code",
   "execution_count": 15,
   "metadata": {},
   "outputs": [],
   "source": [
    "l = {'null':'isnull','none':'','None':'',None:''}\n",
    "\n",
    "#This is allowed and valid dictionary"
   ]
  },
  {
   "cell_type": "code",
   "execution_count": 17,
   "metadata": {},
   "outputs": [
    {
     "name": "stdout",
     "output_type": "stream",
     "text": [
      "null\n",
      "dict_items([('null', 'isnull'), ('none', ''), ('None', ''), (None, '')])\n",
      "none\n",
      "dict_items([('null', 'isnull'), ('none', ''), ('None', ''), (None, '')])\n",
      "None\n",
      "dict_items([('null', 'isnull'), ('none', ''), ('None', ''), (None, '')])\n",
      "None\n",
      "dict_items([('null', 'isnull'), ('none', ''), ('None', ''), (None, '')])\n"
     ]
    }
   ],
   "source": [
    "l = {'null':'isnull','none':'','None':'',None:''}\n",
    "for key,val in l.items():\n",
    "    print(key)\n",
    "    print(l.items())\n",
    "    \n",
    "#Question was what does l.items() d0 --> it creates the list which contains tuple of each key value pair"
   ]
  },
  {
   "cell_type": "code",
   "execution_count": 35,
   "metadata": {},
   "outputs": [
    {
     "name": "stdout",
     "output_type": "stream",
     "text": [
      "5 \n",
      "2 \n",
      "2 \n",
      "3 \n",
      "2 \n"
     ]
    }
   ],
   "source": [
    "#Find maximum occurance of digit in list.\n",
    "\n",
    "l = [1,1,1,1,1,2,2,3,4,5,6,7,3,4,4,5]\n",
    "\n",
    "freq1 = [0]*len(l)\n",
    "\n",
    "for i in range(0,len(l)):\n",
    "    freq1[l[i]] +=1\n",
    "    \n",
    "for i in range(0,len(freq1)):\n",
    "    \n",
    "    if freq1[i]>1:\n",
    "        print(str(freq1[i])+\" \")\n"
   ]
  },
  {
   "cell_type": "code",
   "execution_count": 3,
   "metadata": {},
   "outputs": [
    {
     "name": "stdout",
     "output_type": "stream",
     "text": [
      "10\n",
      "20\n"
     ]
    }
   ],
   "source": [
    "x =10\n",
    "def f1():\n",
    "    x = 20\n",
    "    print(x)\n",
    "    \n",
    "print(x)\n",
    "f1()"
   ]
  },
  {
   "cell_type": "code",
   "execution_count": null,
   "metadata": {},
   "outputs": [],
   "source": [
    "Explain try except else and finally blocks with code examples"
   ]
  },
  {
   "cell_type": "code",
   "execution_count": null,
   "metadata": {},
   "outputs": [],
   "source": [
    "name different exception handlings in python?\n"
   ]
  },
  {
   "cell_type": "code",
   "execution_count": 37,
   "metadata": {},
   "outputs": [],
   "source": [
    "what are the libraries you used for ML ?\n",
    "What library used to read the image file in DL codes?\n",
    "\n",
    "\n",
    "Give example of dict comprehension.?\n"
   ]
  },
  {
   "cell_type": "code",
   "execution_count": null,
   "metadata": {},
   "outputs": [],
   "source": []
  }
 ],
 "metadata": {
  "kernelspec": {
   "display_name": "Python 3",
   "language": "python",
   "name": "python3"
  },
  "language_info": {
   "codemirror_mode": {
    "name": "ipython",
    "version": 3
   },
   "file_extension": ".py",
   "mimetype": "text/x-python",
   "name": "python",
   "nbconvert_exporter": "python",
   "pygments_lexer": "ipython3",
   "version": "3.8.3"
  }
 },
 "nbformat": 4,
 "nbformat_minor": 4
}
