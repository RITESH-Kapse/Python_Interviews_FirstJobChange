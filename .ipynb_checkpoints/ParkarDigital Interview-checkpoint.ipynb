{
 "cells": [
  {
   "cell_type": "code",
   "execution_count": 51,
   "metadata": {},
   "outputs": [
    {
     "name": "stdout",
     "output_type": "stream",
     "text": [
      "1000\n",
      "[1000, 2000, 2500, 1500]\n",
      "[1000, 1500, 2000, 2500]\n"
     ]
    }
   ],
   "source": [
    "# list = [1,4,5,6,7,8,11,3]\n",
    "\n",
    "dict = [{'name': 'Ritesh', 'salary':1000,},\n",
    "        {'name': 'Kapse', 'salary':2000,},\n",
    "        {'name': 'Ritesh1', 'salary':2500,},\n",
    "        {'name': 'Kapse1', 'salary':1500,}]\n",
    "\n",
    "list = []\n",
    "\n",
    "print(dict[0]['salary'])\n",
    "\n",
    "for i in range(0, len(dict)):\n",
    "    list.append(dict[i]['salary'])\n",
    "        \n",
    "print(list)\n",
    "list.sort()\n",
    "print(list)\n",
    "\n",
    "# min = 0\n",
    "# new_list= []\n",
    "\n",
    "# for i in range(0, len(list)-1):\n",
    "#     if list[i] < list[i+1]:\n",
    "#         min = list[i]\n",
    "#         new_list.append(min)\n",
    "#         list.remove(min)\n",
    "#     else :\n",
    "#         min = list[i+1]\n",
    "#         new_list.append(min)\n",
    "#         list.remove(min)\n",
    "\n",
    "# print(new_list)"
   ]
  },
  {
   "cell_type": "code",
   "execution_count": 43,
   "metadata": {
    "scrolled": true
   },
   "outputs": [
    {
     "ename": "TypeError",
     "evalue": "methodA() missing 1 required positional argument: 'self'",
     "output_type": "error",
     "traceback": [
      "\u001b[1;31m---------------------------------------------------------------------------\u001b[0m",
      "\u001b[1;31mTypeError\u001b[0m                                 Traceback (most recent call last)",
      "\u001b[1;32m<ipython-input-43-e3cfd35c98b8>\u001b[0m in \u001b[0;36m<module>\u001b[1;34m\u001b[0m\n\u001b[0;32m     37\u001b[0m \u001b[0mobj\u001b[0m\u001b[1;33m.\u001b[0m\u001b[0mid\u001b[0m \u001b[1;33m=\u001b[0m \u001b[1;36m200\u001b[0m\u001b[1;33m\u001b[0m\u001b[1;33m\u001b[0m\u001b[0m\n\u001b[0;32m     38\u001b[0m \u001b[1;33m\u001b[0m\u001b[0m\n\u001b[1;32m---> 39\u001b[1;33m \u001b[0mprint\u001b[0m\u001b[1;33m(\u001b[0m\u001b[0mobj\u001b[0m\u001b[1;33m.\u001b[0m\u001b[0mmethodA\u001b[0m\u001b[1;33m(\u001b[0m\u001b[1;33m)\u001b[0m\u001b[1;33m)\u001b[0m\u001b[1;33m\u001b[0m\u001b[1;33m\u001b[0m\u001b[0m\n\u001b[0m\u001b[0;32m     40\u001b[0m \u001b[1;33m\u001b[0m\u001b[0m\n\u001b[0;32m     41\u001b[0m \u001b[1;33m\u001b[0m\u001b[0m\n",
      "\u001b[1;31mTypeError\u001b[0m: methodA() missing 1 required positional argument: 'self'"
     ]
    }
   ],
   "source": [
    "\n",
    "# dict = [{'name': 'Ritesh', 'salary':1000,'email':'riteshkapse@gmail.com'},\n",
    "#         {'name': 'Kapse', 'salary':2000,},\n",
    "#         {'name': 'Ritesh1', 'salary':2500,},\n",
    "#         {'name': 'Kapse1', 'salary':1500,}]\n",
    "\n",
    "# check = dict[0]['email']\n",
    "\n",
    "\n",
    "# #'riteshkapse@gmail.com'\n",
    "\n",
    "# list1 = ['gmail','yahoo','hotmail']\n",
    "\n",
    "# print(list1[0][0])\n",
    "\n",
    "# for i in range(0,len(list1)):\n",
    "#     if list1[i] in check:\n",
    "#         print(list1[i])\n",
    "\n",
    "# # for i in check:\n",
    "# #     for j in list1:\n",
    "# #         if i == '@':\n",
    "# #             print(\"One condition is passed\")\n",
    "# #         elif i == j:\n",
    "            \n",
    "\n",
    "class A:\n",
    "    \n",
    "    def __init__(self):\n",
    "        self.__id = 100\n",
    "    \n",
    "    def methodA(self):\n",
    "        print(\"id is\"+ self.__id)\n",
    "        \n",
    "        \n",
    "obj = A\n",
    "\n",
    "obj.id = 200\n",
    "\n",
    "print(obj.methodA())\n",
    "\n",
    "\n",
    "\n",
    "# print(obj.methodA)\n",
    "        \n",
    "        \n",
    "        "
   ]
  },
  {
   "cell_type": "code",
   "execution_count": 52,
   "metadata": {},
   "outputs": [
    {
     "name": "stdout",
     "output_type": "stream",
     "text": [
      "[-64, -26, -15, 1, 15, 23, 23, 76]\n"
     ]
    }
   ],
   "source": [
    "my_list = [-15, -26, 15, 1, 23, -64, 23, 76]\n",
    "new_list = []\n",
    "\n",
    "while my_list:\n",
    "    min = my_list[0]  \n",
    "    for x in my_list: \n",
    "        if x < min:\n",
    "            min = x\n",
    "    new_list.append(min)\n",
    "    my_list.remove(min)    \n",
    "\n",
    "print(new_list)"
   ]
  },
  {
   "cell_type": "code",
   "execution_count": 53,
   "metadata": {},
   "outputs": [
    {
     "name": "stdout",
     "output_type": "stream",
     "text": [
      "['thing', 'thing']\n"
     ]
    }
   ],
   "source": [
    "import re\n",
    "# simple find all\n",
    "sample = \"Nothing lasts... but nothing is lost\"\n",
    "found = re.findall(\"thing\", sample)\n",
    "print(found) "
   ]
  },
  {
   "cell_type": "code",
   "execution_count": 54,
   "metadata": {},
   "outputs": [
    {
     "name": "stdout",
     "output_type": "stream",
     "text": [
      "[{'Name': 'Alan Turing', 'age': 25, 'salary': 10000}, {'Name': 'John Hopkins', 'age': 18, 'salary': 1000}, {'Name': 'Mikhail Tal', 'age': 40, 'salary': 15000}, {'Name': 'Sharon Lin', 'age': 30, 'salary': 8000}]\n",
      "\n",
      "[{'Name': 'John Hopkins', 'age': 18, 'salary': 1000}, {'Name': 'Alan Turing', 'age': 25, 'salary': 10000}, {'Name': 'Sharon Lin', 'age': 30, 'salary': 8000}, {'Name': 'Mikhail Tal', 'age': 40, 'salary': 15000}]\n",
      "\n",
      "[{'Name': 'Mikhail Tal', 'age': 40, 'salary': 15000}, {'Name': 'Alan Turing', 'age': 25, 'salary': 10000}, {'Name': 'Sharon Lin', 'age': 30, 'salary': 8000}, {'Name': 'John Hopkins', 'age': 18, 'salary': 1000}]\n",
      "\n"
     ]
    }
   ],
   "source": [
    "# sorting using custom key\n",
    "employees = [\n",
    "    {'Name': 'Alan Turing', 'age': 25, 'salary': 10000},\n",
    "    {'Name': 'Sharon Lin', 'age': 30, 'salary': 8000},\n",
    "    {'Name': 'John Hopkins', 'age': 18, 'salary': 1000},\n",
    "    {'Name': 'Mikhail Tal', 'age': 40, 'salary': 15000},\n",
    "]\n",
    "\n",
    "# custom functions to get employee info\n",
    "def get_name(employee):\n",
    "    return employee.get('Name')\n",
    "\n",
    "\n",
    "def get_age(employee):\n",
    "    return employee.get('age')\n",
    "\n",
    "\n",
    "def get_salary(employee):\n",
    "    return employee.get('salary')\n",
    "\n",
    "\n",
    "# sort by name (Ascending order)\n",
    "employees.sort(key=get_name)\n",
    "print(employees, end='\\n\\n')\n",
    "\n",
    "# sort by Age (Ascending order)\n",
    "employees.sort(key=get_age)\n",
    "print(employees, end='\\n\\n')\n",
    "\n",
    "# sort by salary (Descending order)\n",
    "employees.sort(key=get_salary, reverse=True)\n",
    "print(employees, end='\\n\\n')"
   ]
  },
  {
   "cell_type": "code",
   "execution_count": null,
   "metadata": {},
   "outputs": [],
   "source": []
  },
  {
   "cell_type": "code",
   "execution_count": null,
   "metadata": {},
   "outputs": [],
   "source": []
  },
  {
   "cell_type": "code",
   "execution_count": null,
   "metadata": {},
   "outputs": [],
   "source": []
  },
  {
   "cell_type": "code",
   "execution_count": null,
   "metadata": {},
   "outputs": [],
   "source": []
  }
 ],
 "metadata": {
  "kernelspec": {
   "display_name": "Python 3",
   "language": "python",
   "name": "python3"
  },
  "language_info": {
   "codemirror_mode": {
    "name": "ipython",
    "version": 3
   },
   "file_extension": ".py",
   "mimetype": "text/x-python",
   "name": "python",
   "nbconvert_exporter": "python",
   "pygments_lexer": "ipython3",
   "version": "3.8.3"
  }
 },
 "nbformat": 4,
 "nbformat_minor": 4
}
