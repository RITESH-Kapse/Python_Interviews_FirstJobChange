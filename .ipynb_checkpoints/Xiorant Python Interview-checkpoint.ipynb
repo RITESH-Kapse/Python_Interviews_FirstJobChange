{
 "cells": [
  {
   "cell_type": "code",
   "execution_count": 4,
   "metadata": {},
   "outputs": [
    {
     "name": "stdout",
     "output_type": "stream",
     "text": [
      "['batman']\n"
     ]
    }
   ],
   "source": [
    "str1 = \"batman\"\n",
    "\n",
    "# output --> \"botman\"\n",
    "\n",
    "new = str1.split()\n",
    "\n",
    "for i in range(0,len(str1)):\n",
    "    if str1[i] == 'a':\n",
    "        str1[i] =='o'\n",
    "\n",
    "\n",
    "\n",
    "rev = new[::-1]\n",
    "\"b\",\"a\",\"c\"\n",
    "print(new)\n",
    "\n",
    "new[1]=\"o\"\n",
    "\n",
    "print(''.join(new))\n",
    "\n",
    "# for i in range(0,len(str1)):\n",
    "#     for j in range(0,len(new)):\n",
    "#         if str1.index(str1[i]) == new.index(new[j]) and str1[i] == new[j]\n"
   ]
  },
  {
   "cell_type": "code",
   "execution_count": 8,
   "metadata": {},
   "outputs": [
    {
     "name": "stdout",
     "output_type": "stream",
     "text": [
      "[1, 2, 3, 4, 5, 6]\n"
     ]
    }
   ],
   "source": [
    "l1=[[1,2,3],[4],[5,6]]\n",
    "output = [1,2,3,4,5,6]\n",
    "\n",
    "list1 = []\n",
    "for i in range(0,len(l1)):\n",
    "#     if len(l1[i]) > 1:\n",
    "    for j in l1[i]:\n",
    "        list1.append(j)\n",
    "#     else:\n",
    "#         list1.append(l1[i])\n",
    "        \n",
    "print(list1)\n",
    "     \n",
    "    key: value*2 in key,value in \n",
    "    \n",
    "# list2 = [j for i in for i in l1 ]"
   ]
  },
  {
   "cell_type": "code",
   "execution_count": null,
   "metadata": {},
   "outputs": [],
   "source": [
    "filter(lambda a,b:a if a>b else b,list1)"
   ]
  },
  {
   "cell_type": "code",
   "execution_count": null,
   "metadata": {},
   "outputs": [],
   "source": [
    "a = input()"
   ]
  },
  {
   "cell_type": "code",
   "execution_count": null,
   "metadata": {},
   "outputs": [],
   "source": [
    "@decorator\n",
    "def functions()"
   ]
  },
  {
   "cell_type": "code",
   "execution_count": null,
   "metadata": {},
   "outputs": [],
   "source": [
    "var \n",
    "<div>\n",
    "\n",
    "</div>\n",
    "getelememntbyid(id=)"
   ]
  },
  {
   "cell_type": "code",
   "execution_count": null,
   "metadata": {},
   "outputs": [],
   "source": [
    "a == b\n",
    "===\n",
    "\n",
    "serializer.py\n",
    "get post patch and delete\n",
    "401\n",
    "501\n",
    "base/id/value"
   ]
  },
  {
   "cell_type": "code",
   "execution_count": null,
   "metadata": {},
   "outputs": [],
   "source": [
    "grep \"\" location\n",
    "\n",
    "mkdir "
   ]
  },
  {
   "cell_type": "code",
   "execution_count": null,
   "metadata": {},
   "outputs": [],
   "source": [
    "= in JavaScript is used for assigning values to a variable. == in JavaScript is used for comparing two variables, \n",
    "but it ignores the datatype of variable. === is used for comparing two variables,\n",
    "but this operator also checks datatype and compares two values"
   ]
  },
  {
   "cell_type": "code",
   "execution_count": 10,
   "metadata": {},
   "outputs": [],
   "source": [
    "Explain inner joins :\n",
    "\n",
    "SELECT column_name(s)\n",
    "\n",
    "FROM table1\n",
    "\n",
    "INNER JOIN table2\n",
    " ON table1.column_name = table2.column_name;"
   ]
  },
  {
   "cell_type": "code",
   "execution_count": null,
   "metadata": {},
   "outputs": [],
   "source": [
    "what are 401 and 501 error responses\n",
    "    https://www.w3.org/Protocols/rfc2616/rfc2616-sec10.html\n",
    "        \n",
    "what are different request methods :\n",
    "        get, post, patch , delete, put , head\n",
    "        https://www.geeksforgeeks.org/python-requests-tutorial/\n",
    "            \n"
   ]
  }
 ],
 "metadata": {
  "kernelspec": {
   "display_name": "Python 3",
   "language": "python",
   "name": "python3"
  },
  "language_info": {
   "codemirror_mode": {
    "name": "ipython",
    "version": 3
   },
   "file_extension": ".py",
   "mimetype": "text/x-python",
   "name": "python",
   "nbconvert_exporter": "python",
   "pygments_lexer": "ipython3",
   "version": "3.8.3"
  }
 },
 "nbformat": 4,
 "nbformat_minor": 4
}
